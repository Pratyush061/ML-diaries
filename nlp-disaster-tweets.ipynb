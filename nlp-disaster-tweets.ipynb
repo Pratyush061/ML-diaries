{
 "cells": [
  {
   "cell_type": "code",
   "execution_count": 1,
   "id": "43cf70ca",
   "metadata": {
    "execution": {
     "iopub.execute_input": "2024-01-05T07:45:07.973438Z",
     "iopub.status.busy": "2024-01-05T07:45:07.973139Z",
     "iopub.status.idle": "2024-01-05T07:45:08.749802Z",
     "shell.execute_reply": "2024-01-05T07:45:08.748825Z"
    },
    "id": "Ksttb0VE9s1k",
    "papermill": {
     "duration": 0.81308,
     "end_time": "2024-01-05T07:45:08.752224",
     "exception": false,
     "start_time": "2024-01-05T07:45:07.939144",
     "status": "completed"
    },
    "tags": []
   },
   "outputs": [],
   "source": [
    "import pandas as pd\n",
    "import numpy as np"
   ]
  },
  {
   "cell_type": "code",
   "execution_count": 2,
   "id": "483a1da7",
   "metadata": {
    "execution": {
     "iopub.execute_input": "2024-01-05T07:45:08.816143Z",
     "iopub.status.busy": "2024-01-05T07:45:08.815418Z",
     "iopub.status.idle": "2024-01-05T07:45:08.868882Z",
     "shell.execute_reply": "2024-01-05T07:45:08.868047Z"
    },
    "id": "hGjIE1vRBOjU",
    "papermill": {
     "duration": 0.086508,
     "end_time": "2024-01-05T07:45:08.870845",
     "exception": false,
     "start_time": "2024-01-05T07:45:08.784337",
     "status": "completed"
    },
    "tags": []
   },
   "outputs": [],
   "source": [
    "df=pd.read_csv('/kaggle/input/train-csv/train.csv')"
   ]
  },
  {
   "cell_type": "code",
   "execution_count": 3,
   "id": "0f33f343",
   "metadata": {
    "execution": {
     "iopub.execute_input": "2024-01-05T07:45:08.933840Z",
     "iopub.status.busy": "2024-01-05T07:45:08.933508Z",
     "iopub.status.idle": "2024-01-05T07:45:08.950429Z",
     "shell.execute_reply": "2024-01-05T07:45:08.949579Z"
    },
    "id": "ez-tttozBTBW",
    "outputId": "cdfe3183-71ff-41e0-dd47-58e516c5b0ae",
    "papermill": {
     "duration": 0.050853,
     "end_time": "2024-01-05T07:45:08.952459",
     "exception": false,
     "start_time": "2024-01-05T07:45:08.901606",
     "status": "completed"
    },
    "tags": []
   },
   "outputs": [
    {
     "data": {
      "text/html": [
       "<div>\n",
       "<style scoped>\n",
       "    .dataframe tbody tr th:only-of-type {\n",
       "        vertical-align: middle;\n",
       "    }\n",
       "\n",
       "    .dataframe tbody tr th {\n",
       "        vertical-align: top;\n",
       "    }\n",
       "\n",
       "    .dataframe thead th {\n",
       "        text-align: right;\n",
       "    }\n",
       "</style>\n",
       "<table border=\"1\" class=\"dataframe\">\n",
       "  <thead>\n",
       "    <tr style=\"text-align: right;\">\n",
       "      <th></th>\n",
       "      <th>id</th>\n",
       "      <th>keyword</th>\n",
       "      <th>location</th>\n",
       "      <th>text</th>\n",
       "      <th>target</th>\n",
       "    </tr>\n",
       "  </thead>\n",
       "  <tbody>\n",
       "    <tr>\n",
       "      <th>0</th>\n",
       "      <td>1</td>\n",
       "      <td>NaN</td>\n",
       "      <td>NaN</td>\n",
       "      <td>Our Deeds are the Reason of this #earthquake M...</td>\n",
       "      <td>1</td>\n",
       "    </tr>\n",
       "    <tr>\n",
       "      <th>1</th>\n",
       "      <td>4</td>\n",
       "      <td>NaN</td>\n",
       "      <td>NaN</td>\n",
       "      <td>Forest fire near La Ronge Sask. Canada</td>\n",
       "      <td>1</td>\n",
       "    </tr>\n",
       "    <tr>\n",
       "      <th>2</th>\n",
       "      <td>5</td>\n",
       "      <td>NaN</td>\n",
       "      <td>NaN</td>\n",
       "      <td>All residents asked to 'shelter in place' are ...</td>\n",
       "      <td>1</td>\n",
       "    </tr>\n",
       "    <tr>\n",
       "      <th>3</th>\n",
       "      <td>6</td>\n",
       "      <td>NaN</td>\n",
       "      <td>NaN</td>\n",
       "      <td>13,000 people receive #wildfires evacuation or...</td>\n",
       "      <td>1</td>\n",
       "    </tr>\n",
       "    <tr>\n",
       "      <th>4</th>\n",
       "      <td>7</td>\n",
       "      <td>NaN</td>\n",
       "      <td>NaN</td>\n",
       "      <td>Just got sent this photo from Ruby #Alaska as ...</td>\n",
       "      <td>1</td>\n",
       "    </tr>\n",
       "  </tbody>\n",
       "</table>\n",
       "</div>"
      ],
      "text/plain": [
       "   id keyword location                                               text  \\\n",
       "0   1     NaN      NaN  Our Deeds are the Reason of this #earthquake M...   \n",
       "1   4     NaN      NaN             Forest fire near La Ronge Sask. Canada   \n",
       "2   5     NaN      NaN  All residents asked to 'shelter in place' are ...   \n",
       "3   6     NaN      NaN  13,000 people receive #wildfires evacuation or...   \n",
       "4   7     NaN      NaN  Just got sent this photo from Ruby #Alaska as ...   \n",
       "\n",
       "   target  \n",
       "0       1  \n",
       "1       1  \n",
       "2       1  \n",
       "3       1  \n",
       "4       1  "
      ]
     },
     "execution_count": 3,
     "metadata": {},
     "output_type": "execute_result"
    }
   ],
   "source": [
    "df.head()"
   ]
  },
  {
   "cell_type": "code",
   "execution_count": 4,
   "id": "65527251",
   "metadata": {
    "execution": {
     "iopub.execute_input": "2024-01-05T07:45:09.062501Z",
     "iopub.status.busy": "2024-01-05T07:45:09.061754Z",
     "iopub.status.idle": "2024-01-05T07:45:09.067803Z",
     "shell.execute_reply": "2024-01-05T07:45:09.067023Z"
    },
    "id": "FtxI7w4vBYyf",
    "outputId": "9bd55867-373b-4e35-b2eb-8bc1a8181a8d",
    "papermill": {
     "duration": 0.083552,
     "end_time": "2024-01-05T07:45:09.069593",
     "exception": false,
     "start_time": "2024-01-05T07:45:08.986041",
     "status": "completed"
    },
    "tags": []
   },
   "outputs": [
    {
     "data": {
      "text/plain": [
       "(7613, 5)"
      ]
     },
     "execution_count": 4,
     "metadata": {},
     "output_type": "execute_result"
    }
   ],
   "source": [
    "df.shape"
   ]
  },
  {
   "cell_type": "code",
   "execution_count": 5,
   "id": "82ef37d8",
   "metadata": {
    "execution": {
     "iopub.execute_input": "2024-01-05T07:45:09.132882Z",
     "iopub.status.busy": "2024-01-05T07:45:09.132627Z",
     "iopub.status.idle": "2024-01-05T07:45:09.142577Z",
     "shell.execute_reply": "2024-01-05T07:45:09.141767Z"
    },
    "id": "OUgzT4s9Bfuw",
    "outputId": "3dfd6d41-7293-4828-d9a9-a4ba4a6176a3",
    "papermill": {
     "duration": 0.043998,
     "end_time": "2024-01-05T07:45:09.144498",
     "exception": false,
     "start_time": "2024-01-05T07:45:09.100500",
     "status": "completed"
    },
    "tags": []
   },
   "outputs": [
    {
     "data": {
      "text/plain": [
       "id             0\n",
       "keyword       61\n",
       "location    2533\n",
       "text           0\n",
       "target         0\n",
       "dtype: int64"
      ]
     },
     "execution_count": 5,
     "metadata": {},
     "output_type": "execute_result"
    }
   ],
   "source": [
    "df.isnull().sum()"
   ]
  },
  {
   "cell_type": "code",
   "execution_count": 6,
   "id": "02228289",
   "metadata": {
    "execution": {
     "iopub.execute_input": "2024-01-05T07:45:09.206710Z",
     "iopub.status.busy": "2024-01-05T07:45:09.206423Z",
     "iopub.status.idle": "2024-01-05T07:45:09.220045Z",
     "shell.execute_reply": "2024-01-05T07:45:09.219332Z"
    },
    "id": "53hurdo2BjNw",
    "papermill": {
     "duration": 0.046762,
     "end_time": "2024-01-05T07:45:09.221938",
     "exception": false,
     "start_time": "2024-01-05T07:45:09.175176",
     "status": "completed"
    },
    "tags": []
   },
   "outputs": [],
   "source": [
    "df.drop(columns=['keyword','location'],inplace=True)"
   ]
  },
  {
   "cell_type": "code",
   "execution_count": 7,
   "id": "f49ba380",
   "metadata": {
    "execution": {
     "iopub.execute_input": "2024-01-05T07:45:09.284407Z",
     "iopub.status.busy": "2024-01-05T07:45:09.284129Z",
     "iopub.status.idle": "2024-01-05T07:45:09.292802Z",
     "shell.execute_reply": "2024-01-05T07:45:09.291971Z"
    },
    "id": "y-ei9SLhCGhN",
    "outputId": "68c5a30b-bf7b-4f28-d489-cda735f0f432",
    "papermill": {
     "duration": 0.042572,
     "end_time": "2024-01-05T07:45:09.294809",
     "exception": false,
     "start_time": "2024-01-05T07:45:09.252237",
     "status": "completed"
    },
    "tags": []
   },
   "outputs": [
    {
     "data": {
      "text/html": [
       "<div>\n",
       "<style scoped>\n",
       "    .dataframe tbody tr th:only-of-type {\n",
       "        vertical-align: middle;\n",
       "    }\n",
       "\n",
       "    .dataframe tbody tr th {\n",
       "        vertical-align: top;\n",
       "    }\n",
       "\n",
       "    .dataframe thead th {\n",
       "        text-align: right;\n",
       "    }\n",
       "</style>\n",
       "<table border=\"1\" class=\"dataframe\">\n",
       "  <thead>\n",
       "    <tr style=\"text-align: right;\">\n",
       "      <th></th>\n",
       "      <th>id</th>\n",
       "      <th>text</th>\n",
       "      <th>target</th>\n",
       "    </tr>\n",
       "  </thead>\n",
       "  <tbody>\n",
       "    <tr>\n",
       "      <th>0</th>\n",
       "      <td>1</td>\n",
       "      <td>Our Deeds are the Reason of this #earthquake M...</td>\n",
       "      <td>1</td>\n",
       "    </tr>\n",
       "    <tr>\n",
       "      <th>1</th>\n",
       "      <td>4</td>\n",
       "      <td>Forest fire near La Ronge Sask. Canada</td>\n",
       "      <td>1</td>\n",
       "    </tr>\n",
       "    <tr>\n",
       "      <th>2</th>\n",
       "      <td>5</td>\n",
       "      <td>All residents asked to 'shelter in place' are ...</td>\n",
       "      <td>1</td>\n",
       "    </tr>\n",
       "    <tr>\n",
       "      <th>3</th>\n",
       "      <td>6</td>\n",
       "      <td>13,000 people receive #wildfires evacuation or...</td>\n",
       "      <td>1</td>\n",
       "    </tr>\n",
       "    <tr>\n",
       "      <th>4</th>\n",
       "      <td>7</td>\n",
       "      <td>Just got sent this photo from Ruby #Alaska as ...</td>\n",
       "      <td>1</td>\n",
       "    </tr>\n",
       "  </tbody>\n",
       "</table>\n",
       "</div>"
      ],
      "text/plain": [
       "   id                                               text  target\n",
       "0   1  Our Deeds are the Reason of this #earthquake M...       1\n",
       "1   4             Forest fire near La Ronge Sask. Canada       1\n",
       "2   5  All residents asked to 'shelter in place' are ...       1\n",
       "3   6  13,000 people receive #wildfires evacuation or...       1\n",
       "4   7  Just got sent this photo from Ruby #Alaska as ...       1"
      ]
     },
     "execution_count": 7,
     "metadata": {},
     "output_type": "execute_result"
    }
   ],
   "source": [
    "df.head()"
   ]
  },
  {
   "cell_type": "code",
   "execution_count": 8,
   "id": "c4040462",
   "metadata": {
    "execution": {
     "iopub.execute_input": "2024-01-05T07:45:09.358301Z",
     "iopub.status.busy": "2024-01-05T07:45:09.358054Z",
     "iopub.status.idle": "2024-01-05T07:45:09.368094Z",
     "shell.execute_reply": "2024-01-05T07:45:09.367265Z"
    },
    "id": "Qh9q6AOCCHiV",
    "outputId": "97c7b009-9ca0-49c4-88db-e3b3564f08f4",
    "papermill": {
     "duration": 0.043624,
     "end_time": "2024-01-05T07:45:09.369913",
     "exception": false,
     "start_time": "2024-01-05T07:45:09.326289",
     "status": "completed"
    },
    "tags": []
   },
   "outputs": [
    {
     "data": {
      "text/plain": [
       "target\n",
       "0    4342\n",
       "1    3271\n",
       "Name: count, dtype: int64"
      ]
     },
     "execution_count": 8,
     "metadata": {},
     "output_type": "execute_result"
    }
   ],
   "source": [
    "df['target'].value_counts()"
   ]
  },
  {
   "cell_type": "code",
   "execution_count": 9,
   "id": "7813eb14",
   "metadata": {
    "execution": {
     "iopub.execute_input": "2024-01-05T07:45:09.432093Z",
     "iopub.status.busy": "2024-01-05T07:45:09.431814Z",
     "iopub.status.idle": "2024-01-05T07:45:09.441122Z",
     "shell.execute_reply": "2024-01-05T07:45:09.440290Z"
    },
    "id": "7ZK_XlnfDhcx",
    "outputId": "5c2b4f5d-d9a0-40c2-cc40-74368c1cc184",
    "papermill": {
     "duration": 0.04254,
     "end_time": "2024-01-05T07:45:09.442973",
     "exception": false,
     "start_time": "2024-01-05T07:45:09.400433",
     "status": "completed"
    },
    "tags": []
   },
   "outputs": [
    {
     "data": {
      "text/plain": [
       "0       0\n",
       "1       0\n",
       "2       0\n",
       "3       0\n",
       "4       0\n",
       "       ..\n",
       "7608    0\n",
       "7609    0\n",
       "7610    0\n",
       "7611    0\n",
       "7612    0\n",
       "Length: 7613, dtype: int64"
      ]
     },
     "execution_count": 9,
     "metadata": {},
     "output_type": "execute_result"
    }
   ],
   "source": [
    "df.groupby('id').cumcount()"
   ]
  },
  {
   "cell_type": "code",
   "execution_count": 10,
   "id": "5933dd73",
   "metadata": {
    "execution": {
     "iopub.execute_input": "2024-01-05T07:45:09.507624Z",
     "iopub.status.busy": "2024-01-05T07:45:09.507353Z",
     "iopub.status.idle": "2024-01-05T07:45:09.515204Z",
     "shell.execute_reply": "2024-01-05T07:45:09.514358Z"
    },
    "id": "Qr_KsiKGCzA6",
    "outputId": "da83b81c-d18b-4d3d-8094-0af8b94a3c03",
    "papermill": {
     "duration": 0.042053,
     "end_time": "2024-01-05T07:45:09.517077",
     "exception": false,
     "start_time": "2024-01-05T07:45:09.475024",
     "status": "completed"
    },
    "tags": []
   },
   "outputs": [
    {
     "data": {
      "text/plain": [
       "['ArrowDtype',\n",
       " 'BooleanDtype',\n",
       " 'Categorical',\n",
       " 'CategoricalDtype',\n",
       " 'CategoricalIndex',\n",
       " 'DataFrame',\n",
       " 'DateOffset',\n",
       " 'DatetimeIndex',\n",
       " 'DatetimeTZDtype',\n",
       " 'ExcelFile',\n",
       " 'ExcelWriter',\n",
       " 'Flags',\n",
       " 'Float32Dtype',\n",
       " 'Float64Dtype',\n",
       " 'Grouper',\n",
       " 'HDFStore',\n",
       " 'Index',\n",
       " 'IndexSlice',\n",
       " 'Int16Dtype',\n",
       " 'Int32Dtype',\n",
       " 'Int64Dtype',\n",
       " 'Int8Dtype',\n",
       " 'Interval',\n",
       " 'IntervalDtype',\n",
       " 'IntervalIndex',\n",
       " 'MultiIndex',\n",
       " 'NA',\n",
       " 'NaT',\n",
       " 'NamedAgg',\n",
       " 'Period',\n",
       " 'PeriodDtype',\n",
       " 'PeriodIndex',\n",
       " 'RangeIndex',\n",
       " 'Series',\n",
       " 'SparseDtype',\n",
       " 'StringDtype',\n",
       " 'Timedelta',\n",
       " 'TimedeltaIndex',\n",
       " 'Timestamp',\n",
       " 'UInt16Dtype',\n",
       " 'UInt32Dtype',\n",
       " 'UInt64Dtype',\n",
       " 'UInt8Dtype',\n",
       " '__all__',\n",
       " '__builtins__',\n",
       " '__cached__',\n",
       " '__doc__',\n",
       " '__docformat__',\n",
       " '__file__',\n",
       " '__git_version__',\n",
       " '__loader__',\n",
       " '__name__',\n",
       " '__package__',\n",
       " '__path__',\n",
       " '__spec__',\n",
       " '__version__',\n",
       " '_built_with_meson',\n",
       " '_config',\n",
       " '_is_numpy_dev',\n",
       " '_libs',\n",
       " '_pandas_datetime_CAPI',\n",
       " '_pandas_parser_CAPI',\n",
       " '_testing',\n",
       " '_typing',\n",
       " '_version_meson',\n",
       " 'annotations',\n",
       " 'api',\n",
       " 'array',\n",
       " 'arrays',\n",
       " 'bdate_range',\n",
       " 'compat',\n",
       " 'concat',\n",
       " 'core',\n",
       " 'crosstab',\n",
       " 'cut',\n",
       " 'date_range',\n",
       " 'describe_option',\n",
       " 'errors',\n",
       " 'eval',\n",
       " 'factorize',\n",
       " 'from_dummies',\n",
       " 'get_dummies',\n",
       " 'get_option',\n",
       " 'infer_freq',\n",
       " 'interval_range',\n",
       " 'io',\n",
       " 'isna',\n",
       " 'isnull',\n",
       " 'json_normalize',\n",
       " 'lreshape',\n",
       " 'melt',\n",
       " 'merge',\n",
       " 'merge_asof',\n",
       " 'merge_ordered',\n",
       " 'notna',\n",
       " 'notnull',\n",
       " 'offsets',\n",
       " 'option_context',\n",
       " 'options',\n",
       " 'pandas',\n",
       " 'period_range',\n",
       " 'pivot',\n",
       " 'pivot_table',\n",
       " 'plotting',\n",
       " 'qcut',\n",
       " 'read_clipboard',\n",
       " 'read_csv',\n",
       " 'read_excel',\n",
       " 'read_feather',\n",
       " 'read_fwf',\n",
       " 'read_gbq',\n",
       " 'read_hdf',\n",
       " 'read_html',\n",
       " 'read_json',\n",
       " 'read_orc',\n",
       " 'read_parquet',\n",
       " 'read_pickle',\n",
       " 'read_sas',\n",
       " 'read_spss',\n",
       " 'read_sql',\n",
       " 'read_sql_query',\n",
       " 'read_sql_table',\n",
       " 'read_stata',\n",
       " 'read_table',\n",
       " 'read_xml',\n",
       " 'reset_option',\n",
       " 'set_eng_float_format',\n",
       " 'set_option',\n",
       " 'show_versions',\n",
       " 'test',\n",
       " 'testing',\n",
       " 'timedelta_range',\n",
       " 'to_datetime',\n",
       " 'to_numeric',\n",
       " 'to_pickle',\n",
       " 'to_timedelta',\n",
       " 'tseries',\n",
       " 'unique',\n",
       " 'util',\n",
       " 'value_counts',\n",
       " 'wide_to_long']"
      ]
     },
     "execution_count": 10,
     "metadata": {},
     "output_type": "execute_result"
    }
   ],
   "source": [
    "dir(pd)"
   ]
  },
  {
   "cell_type": "code",
   "execution_count": 11,
   "id": "8ecc6170",
   "metadata": {
    "execution": {
     "iopub.execute_input": "2024-01-05T07:45:09.581042Z",
     "iopub.status.busy": "2024-01-05T07:45:09.580739Z",
     "iopub.status.idle": "2024-01-05T07:45:09.590729Z",
     "shell.execute_reply": "2024-01-05T07:45:09.589745Z"
    },
    "id": "GyXO3kabCTS5",
    "outputId": "dcf867db-4641-4c00-9fdf-c9d2b8740afc",
    "papermill": {
     "duration": 0.044813,
     "end_time": "2024-01-05T07:45:09.593190",
     "exception": false,
     "start_time": "2024-01-05T07:45:09.548377",
     "status": "completed"
    },
    "tags": []
   },
   "outputs": [
    {
     "data": {
      "text/html": [
       "<div>\n",
       "<style scoped>\n",
       "    .dataframe tbody tr th:only-of-type {\n",
       "        vertical-align: middle;\n",
       "    }\n",
       "\n",
       "    .dataframe tbody tr th {\n",
       "        vertical-align: top;\n",
       "    }\n",
       "\n",
       "    .dataframe thead th {\n",
       "        text-align: right;\n",
       "    }\n",
       "</style>\n",
       "<table border=\"1\" class=\"dataframe\">\n",
       "  <thead>\n",
       "    <tr style=\"text-align: right;\">\n",
       "      <th></th>\n",
       "      <th>id</th>\n",
       "      <th>text</th>\n",
       "      <th>target</th>\n",
       "    </tr>\n",
       "  </thead>\n",
       "  <tbody>\n",
       "    <tr>\n",
       "      <th>0</th>\n",
       "      <td>1</td>\n",
       "      <td>Our Deeds are the Reason of this #earthquake M...</td>\n",
       "      <td>1</td>\n",
       "    </tr>\n",
       "    <tr>\n",
       "      <th>1</th>\n",
       "      <td>4</td>\n",
       "      <td>Forest fire near La Ronge Sask. Canada</td>\n",
       "      <td>1</td>\n",
       "    </tr>\n",
       "    <tr>\n",
       "      <th>2</th>\n",
       "      <td>5</td>\n",
       "      <td>All residents asked to 'shelter in place' are ...</td>\n",
       "      <td>1</td>\n",
       "    </tr>\n",
       "    <tr>\n",
       "      <th>3</th>\n",
       "      <td>6</td>\n",
       "      <td>13,000 people receive #wildfires evacuation or...</td>\n",
       "      <td>1</td>\n",
       "    </tr>\n",
       "    <tr>\n",
       "      <th>4</th>\n",
       "      <td>7</td>\n",
       "      <td>Just got sent this photo from Ruby #Alaska as ...</td>\n",
       "      <td>1</td>\n",
       "    </tr>\n",
       "    <tr>\n",
       "      <th>5</th>\n",
       "      <td>8</td>\n",
       "      <td>#RockyFire Update =&gt; California Hwy. 20 closed...</td>\n",
       "      <td>1</td>\n",
       "    </tr>\n",
       "    <tr>\n",
       "      <th>6</th>\n",
       "      <td>10</td>\n",
       "      <td>#flood #disaster Heavy rain causes flash flood...</td>\n",
       "      <td>1</td>\n",
       "    </tr>\n",
       "    <tr>\n",
       "      <th>7</th>\n",
       "      <td>13</td>\n",
       "      <td>I'm on top of the hill and I can see a fire in...</td>\n",
       "      <td>1</td>\n",
       "    </tr>\n",
       "    <tr>\n",
       "      <th>8</th>\n",
       "      <td>14</td>\n",
       "      <td>There's an emergency evacuation happening now ...</td>\n",
       "      <td>1</td>\n",
       "    </tr>\n",
       "    <tr>\n",
       "      <th>9</th>\n",
       "      <td>15</td>\n",
       "      <td>I'm afraid that the tornado is coming to our a...</td>\n",
       "      <td>1</td>\n",
       "    </tr>\n",
       "  </tbody>\n",
       "</table>\n",
       "</div>"
      ],
      "text/plain": [
       "   id                                               text  target\n",
       "0   1  Our Deeds are the Reason of this #earthquake M...       1\n",
       "1   4             Forest fire near La Ronge Sask. Canada       1\n",
       "2   5  All residents asked to 'shelter in place' are ...       1\n",
       "3   6  13,000 people receive #wildfires evacuation or...       1\n",
       "4   7  Just got sent this photo from Ruby #Alaska as ...       1\n",
       "5   8  #RockyFire Update => California Hwy. 20 closed...       1\n",
       "6  10  #flood #disaster Heavy rain causes flash flood...       1\n",
       "7  13  I'm on top of the hill and I can see a fire in...       1\n",
       "8  14  There's an emergency evacuation happening now ...       1\n",
       "9  15  I'm afraid that the tornado is coming to our a...       1"
      ]
     },
     "execution_count": 11,
     "metadata": {},
     "output_type": "execute_result"
    }
   ],
   "source": [
    "df.head(10)"
   ]
  },
  {
   "cell_type": "code",
   "execution_count": 12,
   "id": "b77f1fcf",
   "metadata": {
    "execution": {
     "iopub.execute_input": "2024-01-05T07:45:09.660019Z",
     "iopub.status.busy": "2024-01-05T07:45:09.659773Z",
     "iopub.status.idle": "2024-01-05T07:45:09.664158Z",
     "shell.execute_reply": "2024-01-05T07:45:09.663376Z"
    },
    "id": "VsjG4UDOCjgD",
    "papermill": {
     "duration": 0.039066,
     "end_time": "2024-01-05T07:45:09.666069",
     "exception": false,
     "start_time": "2024-01-05T07:45:09.627003",
     "status": "completed"
    },
    "tags": []
   },
   "outputs": [],
   "source": [
    "# df.reset_index(drop=True)\n",
    "df['id']=df.index"
   ]
  },
  {
   "cell_type": "code",
   "execution_count": 13,
   "id": "74a3c7f7",
   "metadata": {
    "execution": {
     "iopub.execute_input": "2024-01-05T07:45:09.730513Z",
     "iopub.status.busy": "2024-01-05T07:45:09.729865Z",
     "iopub.status.idle": "2024-01-05T07:45:09.741622Z",
     "shell.execute_reply": "2024-01-05T07:45:09.740667Z"
    },
    "id": "6a6BfXjvGea-",
    "outputId": "f9272d64-949c-4e60-ae14-285fec32a66e",
    "papermill": {
     "duration": 0.046314,
     "end_time": "2024-01-05T07:45:09.743591",
     "exception": false,
     "start_time": "2024-01-05T07:45:09.697277",
     "status": "completed"
    },
    "tags": []
   },
   "outputs": [
    {
     "data": {
      "text/plain": [
       "0"
      ]
     },
     "execution_count": 13,
     "metadata": {},
     "output_type": "execute_result"
    }
   ],
   "source": [
    "df.duplicated().sum()"
   ]
  },
  {
   "cell_type": "code",
   "execution_count": 14,
   "id": "792d8738",
   "metadata": {
    "execution": {
     "iopub.execute_input": "2024-01-05T07:45:09.809990Z",
     "iopub.status.busy": "2024-01-05T07:45:09.809475Z",
     "iopub.status.idle": "2024-01-05T07:45:09.818201Z",
     "shell.execute_reply": "2024-01-05T07:45:09.817372Z"
    },
    "id": "IK1fGfUYEk_H",
    "outputId": "32e79692-a401-4d15-95f5-627321ae2fc0",
    "papermill": {
     "duration": 0.044322,
     "end_time": "2024-01-05T07:45:09.820507",
     "exception": false,
     "start_time": "2024-01-05T07:45:09.776185",
     "status": "completed"
    },
    "tags": []
   },
   "outputs": [
    {
     "data": {
      "text/html": [
       "<div>\n",
       "<style scoped>\n",
       "    .dataframe tbody tr th:only-of-type {\n",
       "        vertical-align: middle;\n",
       "    }\n",
       "\n",
       "    .dataframe tbody tr th {\n",
       "        vertical-align: top;\n",
       "    }\n",
       "\n",
       "    .dataframe thead th {\n",
       "        text-align: right;\n",
       "    }\n",
       "</style>\n",
       "<table border=\"1\" class=\"dataframe\">\n",
       "  <thead>\n",
       "    <tr style=\"text-align: right;\">\n",
       "      <th></th>\n",
       "      <th>id</th>\n",
       "      <th>text</th>\n",
       "      <th>target</th>\n",
       "    </tr>\n",
       "  </thead>\n",
       "  <tbody>\n",
       "    <tr>\n",
       "      <th>0</th>\n",
       "      <td>0</td>\n",
       "      <td>Our Deeds are the Reason of this #earthquake M...</td>\n",
       "      <td>1</td>\n",
       "    </tr>\n",
       "    <tr>\n",
       "      <th>1</th>\n",
       "      <td>1</td>\n",
       "      <td>Forest fire near La Ronge Sask. Canada</td>\n",
       "      <td>1</td>\n",
       "    </tr>\n",
       "    <tr>\n",
       "      <th>2</th>\n",
       "      <td>2</td>\n",
       "      <td>All residents asked to 'shelter in place' are ...</td>\n",
       "      <td>1</td>\n",
       "    </tr>\n",
       "    <tr>\n",
       "      <th>3</th>\n",
       "      <td>3</td>\n",
       "      <td>13,000 people receive #wildfires evacuation or...</td>\n",
       "      <td>1</td>\n",
       "    </tr>\n",
       "    <tr>\n",
       "      <th>4</th>\n",
       "      <td>4</td>\n",
       "      <td>Just got sent this photo from Ruby #Alaska as ...</td>\n",
       "      <td>1</td>\n",
       "    </tr>\n",
       "  </tbody>\n",
       "</table>\n",
       "</div>"
      ],
      "text/plain": [
       "   id                                               text  target\n",
       "0   0  Our Deeds are the Reason of this #earthquake M...       1\n",
       "1   1             Forest fire near La Ronge Sask. Canada       1\n",
       "2   2  All residents asked to 'shelter in place' are ...       1\n",
       "3   3  13,000 people receive #wildfires evacuation or...       1\n",
       "4   4  Just got sent this photo from Ruby #Alaska as ...       1"
      ]
     },
     "execution_count": 14,
     "metadata": {},
     "output_type": "execute_result"
    }
   ],
   "source": [
    "df.head()"
   ]
  },
  {
   "cell_type": "code",
   "execution_count": 15,
   "id": "c2110199",
   "metadata": {
    "execution": {
     "iopub.execute_input": "2024-01-05T07:45:09.887875Z",
     "iopub.status.busy": "2024-01-05T07:45:09.887389Z",
     "iopub.status.idle": "2024-01-05T07:45:09.892780Z",
     "shell.execute_reply": "2024-01-05T07:45:09.891974Z"
    },
    "id": "HmEZ5tH7EuWg",
    "outputId": "8c152fc9-deca-4701-bb4f-237f970eb003",
    "papermill": {
     "duration": 0.039503,
     "end_time": "2024-01-05T07:45:09.894657",
     "exception": false,
     "start_time": "2024-01-05T07:45:09.855154",
     "status": "completed"
    },
    "tags": []
   },
   "outputs": [
    {
     "data": {
      "text/plain": [
       "'Our Deeds are the Reason of this #earthquake May ALLAH Forgive us all'"
      ]
     },
     "execution_count": 15,
     "metadata": {},
     "output_type": "execute_result"
    }
   ],
   "source": [
    "df['text'][0]"
   ]
  },
  {
   "cell_type": "markdown",
   "id": "426b2fe0",
   "metadata": {
    "id": "rEi8JnnVFwYx",
    "papermill": {
     "duration": 0.032057,
     "end_time": "2024-01-05T07:45:09.958762",
     "exception": false,
     "start_time": "2024-01-05T07:45:09.926705",
     "status": "completed"
    },
    "tags": []
   },
   "source": [
    "# **3. Text Preprocessing**\n",
    "\n",
    "1. Lower case\n",
    "2. Tokenization\n",
    "3. Removing special characters\n",
    "4. Removing stop words and punctuation\n",
    "5. Stemming or lemmatization"
   ]
  },
  {
   "cell_type": "code",
   "execution_count": 16,
   "id": "b5b673f5",
   "metadata": {
    "execution": {
     "iopub.execute_input": "2024-01-05T07:45:10.028948Z",
     "iopub.status.busy": "2024-01-05T07:45:10.028427Z",
     "iopub.status.idle": "2024-01-05T07:45:11.768130Z",
     "shell.execute_reply": "2024-01-05T07:45:11.766957Z"
    },
    "id": "_iYMjUwtLhof",
    "outputId": "8de40882-3c8c-47f7-b128-e2d74700d379",
    "papermill": {
     "duration": 1.776054,
     "end_time": "2024-01-05T07:45:11.770133",
     "exception": false,
     "start_time": "2024-01-05T07:45:09.994079",
     "status": "completed"
    },
    "tags": []
   },
   "outputs": [
    {
     "name": "stderr",
     "output_type": "stream",
     "text": [
      "/opt/conda/lib/python3.10/site-packages/scipy/__init__.py:146: UserWarning: A NumPy version >=1.16.5 and <1.23.0 is required for this version of SciPy (detected version 1.24.3\n",
      "  warnings.warn(f\"A NumPy version >={np_minversion} and <{np_maxversion}\"\n"
     ]
    },
    {
     "name": "stdout",
     "output_type": "stream",
     "text": [
      "[nltk_data] Downloading package punkt to /usr/share/nltk_data...\n",
      "[nltk_data]   Package punkt is already up-to-date!\n"
     ]
    },
    {
     "data": {
      "text/plain": [
       "True"
      ]
     },
     "execution_count": 16,
     "metadata": {},
     "output_type": "execute_result"
    }
   ],
   "source": [
    "import nltk\n",
    "nltk.download('punkt')"
   ]
  },
  {
   "cell_type": "code",
   "execution_count": 17,
   "id": "c788bd50",
   "metadata": {
    "execution": {
     "iopub.execute_input": "2024-01-05T07:45:11.839376Z",
     "iopub.status.busy": "2024-01-05T07:45:11.838754Z",
     "iopub.status.idle": "2024-01-05T07:45:11.849610Z",
     "shell.execute_reply": "2024-01-05T07:45:11.848744Z"
    },
    "id": "9gv-l40PJgNo",
    "outputId": "4cde243d-2bf8-4221-d43f-96850c075a44",
    "papermill": {
     "duration": 0.047865,
     "end_time": "2024-01-05T07:45:11.851541",
     "exception": false,
     "start_time": "2024-01-05T07:45:11.803676",
     "status": "completed"
    },
    "tags": []
   },
   "outputs": [
    {
     "name": "stdout",
     "output_type": "stream",
     "text": [
      "[nltk_data] Downloading package stopwords to /usr/share/nltk_data...\n",
      "[nltk_data]   Package stopwords is already up-to-date!\n"
     ]
    },
    {
     "data": {
      "text/plain": [
       "True"
      ]
     },
     "execution_count": 17,
     "metadata": {},
     "output_type": "execute_result"
    }
   ],
   "source": [
    "import nltk\n",
    "from nltk.corpus import stopwords\n",
    "\n",
    "nltk.download('stopwords')"
   ]
  },
  {
   "cell_type": "code",
   "execution_count": 18,
   "id": "c28b8f14",
   "metadata": {
    "execution": {
     "iopub.execute_input": "2024-01-05T07:45:11.918213Z",
     "iopub.status.busy": "2024-01-05T07:45:11.917910Z",
     "iopub.status.idle": "2024-01-05T07:45:11.925128Z",
     "shell.execute_reply": "2024-01-05T07:45:11.924270Z"
    },
    "id": "-56GCffEJvFM",
    "outputId": "d07bca83-9ef3-40a0-8e9b-9dd58e7ecd39",
    "papermill": {
     "duration": 0.04274,
     "end_time": "2024-01-05T07:45:11.927001",
     "exception": false,
     "start_time": "2024-01-05T07:45:11.884261",
     "status": "completed"
    },
    "tags": []
   },
   "outputs": [
    {
     "name": "stdout",
     "output_type": "stream",
     "text": [
      "['i', 'me', 'my', 'myself', 'we', 'our', 'ours', 'ourselves', 'you', \"you're\", \"you've\", \"you'll\", \"you'd\", 'your', 'yours', 'yourself', 'yourselves', 'he', 'him', 'his', 'himself', 'she', \"she's\", 'her', 'hers', 'herself', 'it', \"it's\", 'its', 'itself', 'they', 'them', 'their', 'theirs', 'themselves', 'what', 'which', 'who', 'whom', 'this', 'that', \"that'll\", 'these', 'those', 'am', 'is', 'are', 'was', 'were', 'be', 'been', 'being', 'have', 'has', 'had', 'having', 'do', 'does', 'did', 'doing', 'a', 'an', 'the', 'and', 'but', 'if', 'or', 'because', 'as', 'until', 'while', 'of', 'at', 'by', 'for', 'with', 'about', 'against', 'between', 'into', 'through', 'during', 'before', 'after', 'above', 'below', 'to', 'from', 'up', 'down', 'in', 'out', 'on', 'off', 'over', 'under', 'again', 'further', 'then', 'once', 'here', 'there', 'when', 'where', 'why', 'how', 'all', 'any', 'both', 'each', 'few', 'more', 'most', 'other', 'some', 'such', 'no', 'nor', 'not', 'only', 'own', 'same', 'so', 'than', 'too', 'very', 's', 't', 'can', 'will', 'just', 'don', \"don't\", 'should', \"should've\", 'now', 'd', 'll', 'm', 'o', 're', 've', 'y', 'ain', 'aren', \"aren't\", 'couldn', \"couldn't\", 'didn', \"didn't\", 'doesn', \"doesn't\", 'hadn', \"hadn't\", 'hasn', \"hasn't\", 'haven', \"haven't\", 'isn', \"isn't\", 'ma', 'mightn', \"mightn't\", 'mustn', \"mustn't\", 'needn', \"needn't\", 'shan', \"shan't\", 'shouldn', \"shouldn't\", 'wasn', \"wasn't\", 'weren', \"weren't\", 'won', \"won't\", 'wouldn', \"wouldn't\"]\n"
     ]
    }
   ],
   "source": [
    "print(stopwords.words('english'))"
   ]
  },
  {
   "cell_type": "code",
   "execution_count": 19,
   "id": "a9882f8f",
   "metadata": {
    "execution": {
     "iopub.execute_input": "2024-01-05T07:45:11.994695Z",
     "iopub.status.busy": "2024-01-05T07:45:11.994392Z",
     "iopub.status.idle": "2024-01-05T07:45:12.010671Z",
     "shell.execute_reply": "2024-01-05T07:45:12.009736Z"
    },
    "id": "yXUCTGB7MBvp",
    "outputId": "48193aa9-b27b-4be4-a5c8-e2a5ff0d9a4a",
    "papermill": {
     "duration": 0.052809,
     "end_time": "2024-01-05T07:45:12.012576",
     "exception": false,
     "start_time": "2024-01-05T07:45:11.959767",
     "status": "completed"
    },
    "tags": []
   },
   "outputs": [
    {
     "data": {
      "text/plain": [
       "['Hi', 'I', 'am', 'KAISAKSAK']"
      ]
     },
     "execution_count": 19,
     "metadata": {},
     "output_type": "execute_result"
    }
   ],
   "source": [
    "from nltk.tokenize import sent_tokenize, word_tokenize\n",
    "\n",
    "wtk=word_tokenize\n",
    "wtk('Hi I am KAISAKSAK')"
   ]
  },
  {
   "cell_type": "code",
   "execution_count": 20,
   "id": "b6fbb70d",
   "metadata": {
    "execution": {
     "iopub.execute_input": "2024-01-05T07:45:12.082095Z",
     "iopub.status.busy": "2024-01-05T07:45:12.081757Z",
     "iopub.status.idle": "2024-01-05T07:45:12.085778Z",
     "shell.execute_reply": "2024-01-05T07:45:12.084958Z"
    },
    "id": "06LjqybJOM5S",
    "papermill": {
     "duration": 0.041701,
     "end_time": "2024-01-05T07:45:12.087858",
     "exception": false,
     "start_time": "2024-01-05T07:45:12.046157",
     "status": "completed"
    },
    "tags": []
   },
   "outputs": [],
   "source": [
    "# from nltk.stem import WordNetLemmatizer\n",
    "# wnl=WordNetLemmatizer()\n",
    "\n",
    "# print(wnl.lemmatize('going','v'))\n",
    "#We have to do tagging for pos in lemmatization in nltk"
   ]
  },
  {
   "cell_type": "code",
   "execution_count": 21,
   "id": "84b64074",
   "metadata": {
    "execution": {
     "iopub.execute_input": "2024-01-05T07:45:12.157595Z",
     "iopub.status.busy": "2024-01-05T07:45:12.157285Z",
     "iopub.status.idle": "2024-01-05T07:45:20.890989Z",
     "shell.execute_reply": "2024-01-05T07:45:20.890111Z"
    },
    "id": "SN_UTd2eRYvS",
    "papermill": {
     "duration": 8.771562,
     "end_time": "2024-01-05T07:45:20.893524",
     "exception": false,
     "start_time": "2024-01-05T07:45:12.121962",
     "status": "completed"
    },
    "tags": []
   },
   "outputs": [],
   "source": [
    "import spacy\n",
    "# Load the spaCy English model\n",
    "nlp = spacy.load('en_core_web_sm')\n"
   ]
  },
  {
   "cell_type": "code",
   "execution_count": 22,
   "id": "4967dffd",
   "metadata": {
    "execution": {
     "iopub.execute_input": "2024-01-05T07:45:20.974896Z",
     "iopub.status.busy": "2024-01-05T07:45:20.974343Z",
     "iopub.status.idle": "2024-01-05T07:45:20.980801Z",
     "shell.execute_reply": "2024-01-05T07:45:20.979970Z"
    },
    "id": "uEHad8HBFM8S",
    "papermill": {
     "duration": 0.044338,
     "end_time": "2024-01-05T07:45:20.982643",
     "exception": false,
     "start_time": "2024-01-05T07:45:20.938305",
     "status": "completed"
    },
    "tags": []
   },
   "outputs": [],
   "source": [
    "def preprocess(text):\n",
    "  text=text.lower()\n",
    "  text=wtk(text)\n",
    "  txt=[]\n",
    "  for i in text:\n",
    "    if i.isalnum():\n",
    "     txt.append(i)\n",
    "  words=[]\n",
    "  for i in txt:\n",
    "    if i not in stopwords.words('english'):\n",
    "       words.append(i)\n",
    "  words=\" \".join(words)\n",
    "  word=nlp(words)\n",
    "  lemma=[]\n",
    "  for i in word:\n",
    "    lemma.append(i.lemma_)\n",
    "  return lemma"
   ]
  },
  {
   "cell_type": "code",
   "execution_count": 23,
   "id": "79111878",
   "metadata": {
    "execution": {
     "iopub.execute_input": "2024-01-05T07:45:21.050246Z",
     "iopub.status.busy": "2024-01-05T07:45:21.049906Z",
     "iopub.status.idle": "2024-01-05T07:45:21.086095Z",
     "shell.execute_reply": "2024-01-05T07:45:21.085160Z"
    },
    "id": "KWLsmlpuLXr6",
    "outputId": "c6d56bce-2041-4d7b-a23c-3660491748f7",
    "papermill": {
     "duration": 0.071453,
     "end_time": "2024-01-05T07:45:21.088113",
     "exception": false,
     "start_time": "2024-01-05T07:45:21.016660",
     "status": "completed"
    },
    "tags": []
   },
   "outputs": [
    {
     "data": {
      "text/plain": [
       "['going', 'eat', 'dinner', 'table', 'run', 'counter', '202']"
      ]
     },
     "execution_count": 23,
     "metadata": {},
     "output_type": "execute_result"
    }
   ],
   "source": [
    "preprocess(\"going to ate the dinner at table running at counter no. 202 \")"
   ]
  },
  {
   "cell_type": "markdown",
   "id": "6b5a23a8",
   "metadata": {
    "id": "c1OVphmPUch7",
    "papermill": {
     "duration": 0.033127,
     "end_time": "2024-01-05T07:45:21.166370",
     "exception": false,
     "start_time": "2024-01-05T07:45:21.133243",
     "status": "completed"
    },
    "tags": []
   },
   "source": [
    "We have used lemmatization in spacy as for doing so in nltk we have to manually or by any function specify the part of speech which is cumbersome so spacy is automatic just like phone camera!"
   ]
  },
  {
   "cell_type": "code",
   "execution_count": 24,
   "id": "666fe29e",
   "metadata": {
    "execution": {
     "iopub.execute_input": "2024-01-05T07:45:21.233885Z",
     "iopub.status.busy": "2024-01-05T07:45:21.233173Z",
     "iopub.status.idle": "2024-01-05T07:46:32.765083Z",
     "shell.execute_reply": "2024-01-05T07:46:32.764218Z"
    },
    "id": "A5hW1xcZLeCk",
    "papermill": {
     "duration": 71.56809,
     "end_time": "2024-01-05T07:46:32.767510",
     "exception": false,
     "start_time": "2024-01-05T07:45:21.199420",
     "status": "completed"
    },
    "tags": []
   },
   "outputs": [],
   "source": [
    "df['preprocessed_text']=df['text'].apply(preprocess)"
   ]
  },
  {
   "cell_type": "code",
   "execution_count": 25,
   "id": "6c4aaeca",
   "metadata": {
    "execution": {
     "iopub.execute_input": "2024-01-05T07:46:32.835987Z",
     "iopub.status.busy": "2024-01-05T07:46:32.835359Z",
     "iopub.status.idle": "2024-01-05T07:46:32.847466Z",
     "shell.execute_reply": "2024-01-05T07:46:32.846671Z"
    },
    "id": "lPwmR4aEN9L2",
    "outputId": "40c9c79a-f302-4e57-b27e-d57fcfd464ce",
    "papermill": {
     "duration": 0.047754,
     "end_time": "2024-01-05T07:46:32.849553",
     "exception": false,
     "start_time": "2024-01-05T07:46:32.801799",
     "status": "completed"
    },
    "tags": []
   },
   "outputs": [
    {
     "data": {
      "text/html": [
       "<div>\n",
       "<style scoped>\n",
       "    .dataframe tbody tr th:only-of-type {\n",
       "        vertical-align: middle;\n",
       "    }\n",
       "\n",
       "    .dataframe tbody tr th {\n",
       "        vertical-align: top;\n",
       "    }\n",
       "\n",
       "    .dataframe thead th {\n",
       "        text-align: right;\n",
       "    }\n",
       "</style>\n",
       "<table border=\"1\" class=\"dataframe\">\n",
       "  <thead>\n",
       "    <tr style=\"text-align: right;\">\n",
       "      <th></th>\n",
       "      <th>id</th>\n",
       "      <th>text</th>\n",
       "      <th>target</th>\n",
       "      <th>preprocessed_text</th>\n",
       "    </tr>\n",
       "  </thead>\n",
       "  <tbody>\n",
       "    <tr>\n",
       "      <th>0</th>\n",
       "      <td>0</td>\n",
       "      <td>Our Deeds are the Reason of this #earthquake M...</td>\n",
       "      <td>1</td>\n",
       "      <td>[deed, reason, earthquake, may, allah, forgive...</td>\n",
       "    </tr>\n",
       "    <tr>\n",
       "      <th>1</th>\n",
       "      <td>1</td>\n",
       "      <td>Forest fire near La Ronge Sask. Canada</td>\n",
       "      <td>1</td>\n",
       "      <td>[forest, fire, near, la, ronge, sask, canada]</td>\n",
       "    </tr>\n",
       "    <tr>\n",
       "      <th>2</th>\n",
       "      <td>2</td>\n",
       "      <td>All residents asked to 'shelter in place' are ...</td>\n",
       "      <td>1</td>\n",
       "      <td>[resident, ask, place, notify, officer, evacua...</td>\n",
       "    </tr>\n",
       "    <tr>\n",
       "      <th>3</th>\n",
       "      <td>3</td>\n",
       "      <td>13,000 people receive #wildfires evacuation or...</td>\n",
       "      <td>1</td>\n",
       "      <td>[people, receive, wildfire, evacuation, order,...</td>\n",
       "    </tr>\n",
       "    <tr>\n",
       "      <th>4</th>\n",
       "      <td>4</td>\n",
       "      <td>Just got sent this photo from Ruby #Alaska as ...</td>\n",
       "      <td>1</td>\n",
       "      <td>[get, send, photo, ruby, alaska, smoke, wildfi...</td>\n",
       "    </tr>\n",
       "  </tbody>\n",
       "</table>\n",
       "</div>"
      ],
      "text/plain": [
       "   id                                               text  target  \\\n",
       "0   0  Our Deeds are the Reason of this #earthquake M...       1   \n",
       "1   1             Forest fire near La Ronge Sask. Canada       1   \n",
       "2   2  All residents asked to 'shelter in place' are ...       1   \n",
       "3   3  13,000 people receive #wildfires evacuation or...       1   \n",
       "4   4  Just got sent this photo from Ruby #Alaska as ...       1   \n",
       "\n",
       "                                   preprocessed_text  \n",
       "0  [deed, reason, earthquake, may, allah, forgive...  \n",
       "1      [forest, fire, near, la, ronge, sask, canada]  \n",
       "2  [resident, ask, place, notify, officer, evacua...  \n",
       "3  [people, receive, wildfire, evacuation, order,...  \n",
       "4  [get, send, photo, ruby, alaska, smoke, wildfi...  "
      ]
     },
     "execution_count": 25,
     "metadata": {},
     "output_type": "execute_result"
    }
   ],
   "source": [
    "df.head()"
   ]
  },
  {
   "cell_type": "code",
   "execution_count": 26,
   "id": "e109d9a5",
   "metadata": {
    "execution": {
     "iopub.execute_input": "2024-01-05T07:46:32.922667Z",
     "iopub.status.busy": "2024-01-05T07:46:32.922342Z",
     "iopub.status.idle": "2024-01-05T07:46:32.938469Z",
     "shell.execute_reply": "2024-01-05T07:46:32.937567Z"
    },
    "id": "7z7mltgaWTKs",
    "outputId": "14882e87-61e5-4507-8bda-c1f99584492b",
    "papermill": {
     "duration": 0.053465,
     "end_time": "2024-01-05T07:46:32.940419",
     "exception": false,
     "start_time": "2024-01-05T07:46:32.886954",
     "status": "completed"
    },
    "tags": []
   },
   "outputs": [
    {
     "data": {
      "text/html": [
       "<div>\n",
       "<style scoped>\n",
       "    .dataframe tbody tr th:only-of-type {\n",
       "        vertical-align: middle;\n",
       "    }\n",
       "\n",
       "    .dataframe tbody tr th {\n",
       "        vertical-align: top;\n",
       "    }\n",
       "\n",
       "    .dataframe thead th {\n",
       "        text-align: right;\n",
       "    }\n",
       "</style>\n",
       "<table border=\"1\" class=\"dataframe\">\n",
       "  <thead>\n",
       "    <tr style=\"text-align: right;\">\n",
       "      <th></th>\n",
       "      <th>id</th>\n",
       "      <th>text</th>\n",
       "      <th>target</th>\n",
       "      <th>preprocessed_text</th>\n",
       "    </tr>\n",
       "  </thead>\n",
       "  <tbody>\n",
       "    <tr>\n",
       "      <th>0</th>\n",
       "      <td>0</td>\n",
       "      <td>Our Deeds are the Reason of this #earthquake M...</td>\n",
       "      <td>1</td>\n",
       "      <td>[deed, reason, earthquake, may, allah, forgive...</td>\n",
       "    </tr>\n",
       "    <tr>\n",
       "      <th>1</th>\n",
       "      <td>1</td>\n",
       "      <td>Forest fire near La Ronge Sask. Canada</td>\n",
       "      <td>1</td>\n",
       "      <td>[forest, fire, near, la, ronge, sask, canada]</td>\n",
       "    </tr>\n",
       "    <tr>\n",
       "      <th>2</th>\n",
       "      <td>2</td>\n",
       "      <td>All residents asked to 'shelter in place' are ...</td>\n",
       "      <td>1</td>\n",
       "      <td>[resident, ask, place, notify, officer, evacua...</td>\n",
       "    </tr>\n",
       "    <tr>\n",
       "      <th>3</th>\n",
       "      <td>3</td>\n",
       "      <td>13,000 people receive #wildfires evacuation or...</td>\n",
       "      <td>1</td>\n",
       "      <td>[people, receive, wildfire, evacuation, order,...</td>\n",
       "    </tr>\n",
       "    <tr>\n",
       "      <th>4</th>\n",
       "      <td>4</td>\n",
       "      <td>Just got sent this photo from Ruby #Alaska as ...</td>\n",
       "      <td>1</td>\n",
       "      <td>[get, send, photo, ruby, alaska, smoke, wildfi...</td>\n",
       "    </tr>\n",
       "    <tr>\n",
       "      <th>...</th>\n",
       "      <td>...</td>\n",
       "      <td>...</td>\n",
       "      <td>...</td>\n",
       "      <td>...</td>\n",
       "    </tr>\n",
       "    <tr>\n",
       "      <th>7608</th>\n",
       "      <td>7608</td>\n",
       "      <td>Two giant cranes holding a bridge collapse int...</td>\n",
       "      <td>1</td>\n",
       "      <td>[two, giant, crane, hold, bridge, collapse, ne...</td>\n",
       "    </tr>\n",
       "    <tr>\n",
       "      <th>7609</th>\n",
       "      <td>7609</td>\n",
       "      <td>@aria_ahrary @TheTawniest The out of control w...</td>\n",
       "      <td>1</td>\n",
       "      <td>[thetawni, control, wild, fire, california, ev...</td>\n",
       "    </tr>\n",
       "    <tr>\n",
       "      <th>7610</th>\n",
       "      <td>7610</td>\n",
       "      <td>M1.94 [01:04 UTC]?5km S of Volcano Hawaii. htt...</td>\n",
       "      <td>1</td>\n",
       "      <td>[utc, 5, km, volcano, hawaii, http]</td>\n",
       "    </tr>\n",
       "    <tr>\n",
       "      <th>7611</th>\n",
       "      <td>7611</td>\n",
       "      <td>Police investigating after an e-bike collided ...</td>\n",
       "      <td>1</td>\n",
       "      <td>[police, investigate, collide, car, little, po...</td>\n",
       "    </tr>\n",
       "    <tr>\n",
       "      <th>7612</th>\n",
       "      <td>7612</td>\n",
       "      <td>The Latest: More Homes Razed by Northern Calif...</td>\n",
       "      <td>1</td>\n",
       "      <td>[late, home, raze, northern, california, wildf...</td>\n",
       "    </tr>\n",
       "  </tbody>\n",
       "</table>\n",
       "<p>7613 rows × 4 columns</p>\n",
       "</div>"
      ],
      "text/plain": [
       "        id                                               text  target  \\\n",
       "0        0  Our Deeds are the Reason of this #earthquake M...       1   \n",
       "1        1             Forest fire near La Ronge Sask. Canada       1   \n",
       "2        2  All residents asked to 'shelter in place' are ...       1   \n",
       "3        3  13,000 people receive #wildfires evacuation or...       1   \n",
       "4        4  Just got sent this photo from Ruby #Alaska as ...       1   \n",
       "...    ...                                                ...     ...   \n",
       "7608  7608  Two giant cranes holding a bridge collapse int...       1   \n",
       "7609  7609  @aria_ahrary @TheTawniest The out of control w...       1   \n",
       "7610  7610  M1.94 [01:04 UTC]?5km S of Volcano Hawaii. htt...       1   \n",
       "7611  7611  Police investigating after an e-bike collided ...       1   \n",
       "7612  7612  The Latest: More Homes Razed by Northern Calif...       1   \n",
       "\n",
       "                                      preprocessed_text  \n",
       "0     [deed, reason, earthquake, may, allah, forgive...  \n",
       "1         [forest, fire, near, la, ronge, sask, canada]  \n",
       "2     [resident, ask, place, notify, officer, evacua...  \n",
       "3     [people, receive, wildfire, evacuation, order,...  \n",
       "4     [get, send, photo, ruby, alaska, smoke, wildfi...  \n",
       "...                                                 ...  \n",
       "7608  [two, giant, crane, hold, bridge, collapse, ne...  \n",
       "7609  [thetawni, control, wild, fire, california, ev...  \n",
       "7610                [utc, 5, km, volcano, hawaii, http]  \n",
       "7611  [police, investigate, collide, car, little, po...  \n",
       "7612  [late, home, raze, northern, california, wildf...  \n",
       "\n",
       "[7613 rows x 4 columns]"
      ]
     },
     "execution_count": 26,
     "metadata": {},
     "output_type": "execute_result"
    }
   ],
   "source": [
    "df"
   ]
  },
  {
   "cell_type": "code",
   "execution_count": 27,
   "id": "f3816244",
   "metadata": {
    "execution": {
     "iopub.execute_input": "2024-01-05T07:46:33.012146Z",
     "iopub.status.busy": "2024-01-05T07:46:33.011746Z",
     "iopub.status.idle": "2024-01-05T07:46:33.022632Z",
     "shell.execute_reply": "2024-01-05T07:46:33.021780Z"
    },
    "id": "K837_n4CktdU",
    "outputId": "c89c3ffa-8e7d-4d28-b3ec-4f79b999aa9c",
    "papermill": {
     "duration": 0.04802,
     "end_time": "2024-01-05T07:46:33.024488",
     "exception": false,
     "start_time": "2024-01-05T07:46:32.976468",
     "status": "completed"
    },
    "tags": []
   },
   "outputs": [
    {
     "data": {
      "text/plain": [
       "0       [deed, reason, earthquake, may, allah, forgive...\n",
       "1           [forest, fire, near, la, ronge, sask, canada]\n",
       "2       [resident, ask, place, notify, officer, evacua...\n",
       "3       [people, receive, wildfire, evacuation, order,...\n",
       "4       [get, send, photo, ruby, alaska, smoke, wildfi...\n",
       "                              ...                        \n",
       "7608    [two, giant, crane, hold, bridge, collapse, ne...\n",
       "7609    [thetawni, control, wild, fire, california, ev...\n",
       "7610                  [utc, 5, km, volcano, hawaii, http]\n",
       "7611    [police, investigate, collide, car, little, po...\n",
       "7612    [late, home, raze, northern, california, wildf...\n",
       "Name: preprocessed_text, Length: 3271, dtype: object"
      ]
     },
     "execution_count": 27,
     "metadata": {},
     "output_type": "execute_result"
    }
   ],
   "source": [
    "df[df['target']==1]['preprocessed_text']"
   ]
  },
  {
   "cell_type": "code",
   "execution_count": 28,
   "id": "f9b93447",
   "metadata": {
    "execution": {
     "iopub.execute_input": "2024-01-05T07:46:33.094987Z",
     "iopub.status.busy": "2024-01-05T07:46:33.094702Z",
     "iopub.status.idle": "2024-01-05T07:46:33.109421Z",
     "shell.execute_reply": "2024-01-05T07:46:33.108694Z"
    },
    "id": "y736Q-1-jJto",
    "papermill": {
     "duration": 0.05379,
     "end_time": "2024-01-05T07:46:33.111384",
     "exception": false,
     "start_time": "2024-01-05T07:46:33.057594",
     "status": "completed"
    },
    "tags": []
   },
   "outputs": [],
   "source": [
    "disaster_corpus=[]\n",
    "for i in df[df['target']==1]['preprocessed_text']:\n",
    "  for msg in i:\n",
    "    disaster_corpus.append(msg)\n"
   ]
  },
  {
   "cell_type": "code",
   "execution_count": 29,
   "id": "bf2f326d",
   "metadata": {
    "execution": {
     "iopub.execute_input": "2024-01-05T07:46:33.182750Z",
     "iopub.status.busy": "2024-01-05T07:46:33.182456Z",
     "iopub.status.idle": "2024-01-05T07:46:33.205108Z",
     "shell.execute_reply": "2024-01-05T07:46:33.204263Z"
    },
    "id": "19ADLiIRlIht",
    "outputId": "846f30ba-e935-4314-cff3-09acfd10f0e1",
    "papermill": {
     "duration": 0.060108,
     "end_time": "2024-01-05T07:46:33.206994",
     "exception": false,
     "start_time": "2024-01-05T07:46:33.146886",
     "status": "completed"
    },
    "tags": []
   },
   "outputs": [
    {
     "data": {
      "text/plain": [
       "['deed',\n",
       " 'reason',\n",
       " 'earthquake',\n",
       " 'may',\n",
       " 'allah',\n",
       " 'forgive',\n",
       " 'we',\n",
       " 'forest',\n",
       " 'fire',\n",
       " 'near',\n",
       " 'la',\n",
       " 'ronge',\n",
       " 'sask',\n",
       " 'canada',\n",
       " 'resident',\n",
       " 'ask',\n",
       " 'place',\n",
       " 'notify',\n",
       " 'officer',\n",
       " 'evacuation',\n",
       " 'shelter',\n",
       " 'place',\n",
       " 'order',\n",
       " 'expect',\n",
       " 'people',\n",
       " 'receive',\n",
       " 'wildfire',\n",
       " 'evacuation',\n",
       " 'order',\n",
       " 'california',\n",
       " 'get',\n",
       " 'send',\n",
       " 'photo',\n",
       " 'ruby',\n",
       " 'alaska',\n",
       " 'smoke',\n",
       " 'wildfire',\n",
       " 'pour',\n",
       " 'school',\n",
       " 'rockyfire',\n",
       " 'update',\n",
       " 'california',\n",
       " 'hwy',\n",
       " '20',\n",
       " 'closed',\n",
       " 'direction',\n",
       " 'due',\n",
       " 'lake',\n",
       " 'county',\n",
       " 'fire',\n",
       " 'cafire',\n",
       " 'wildfire',\n",
       " 'flood',\n",
       " 'disaster',\n",
       " 'heavy',\n",
       " 'rain',\n",
       " 'cause',\n",
       " 'flash',\n",
       " 'flooding',\n",
       " 'street',\n",
       " 'manitou',\n",
       " 'colorado',\n",
       " 'spring',\n",
       " 'area',\n",
       " 'top',\n",
       " 'hill',\n",
       " 'see',\n",
       " 'fire',\n",
       " 'wood',\n",
       " 'emergency',\n",
       " 'evacuation',\n",
       " 'happen',\n",
       " 'building',\n",
       " 'across',\n",
       " 'street',\n",
       " 'afraid',\n",
       " 'tornado',\n",
       " 'come',\n",
       " 'area',\n",
       " 'three',\n",
       " 'people',\n",
       " 'die',\n",
       " 'heat',\n",
       " 'wave',\n",
       " 'far',\n",
       " 'haha',\n",
       " 'south',\n",
       " 'tampa',\n",
       " 'getting',\n",
       " 'flood',\n",
       " 'wait',\n",
       " 'second',\n",
       " 'live',\n",
       " 'south',\n",
       " 'tampa',\n",
       " 'go',\n",
       " 'to',\n",
       " 'go',\n",
       " 'to',\n",
       " 'fvck',\n",
       " 'flooding',\n",
       " 'rain',\n",
       " 'flood',\n",
       " 'florida',\n",
       " 'tampabay',\n",
       " 'tampa',\n",
       " '18',\n",
       " '19',\n",
       " 'day',\n",
       " 'lose',\n",
       " 'count',\n",
       " 'flood',\n",
       " 'bago',\n",
       " 'myanmar',\n",
       " 'arrive',\n",
       " 'bago',\n",
       " 'damage',\n",
       " 'school',\n",
       " 'bus',\n",
       " '80',\n",
       " 'multi',\n",
       " 'car',\n",
       " 'crash',\n",
       " 'breaking',\n",
       " 'bbcmtd',\n",
       " 'wholesale',\n",
       " 'market',\n",
       " 'ablaze',\n",
       " 'http',\n",
       " 'africanbaze',\n",
       " 'break',\n",
       " 'news',\n",
       " 'nigeria',\n",
       " 'flag',\n",
       " 'set',\n",
       " 'ablaze',\n",
       " 'aba',\n",
       " 'http',\n",
       " 'inec',\n",
       " 'office',\n",
       " 'abia',\n",
       " 'set',\n",
       " 'ablaze',\n",
       " 'http',\n",
       " 'barbado',\n",
       " 'bridgetown',\n",
       " 'jamaica',\n",
       " 'two',\n",
       " 'car',\n",
       " 'set',\n",
       " 'ablaze',\n",
       " 'santa',\n",
       " 'cruz',\n",
       " 'head',\n",
       " 'st',\n",
       " 'elizabeth',\n",
       " 'police',\n",
       " 'superintende',\n",
       " 'http',\n",
       " 'west',\n",
       " 'burn',\n",
       " 'thousand',\n",
       " 'wildfire',\n",
       " 'ablaze',\n",
       " 'california',\n",
       " 'alone',\n",
       " 'http',\n",
       " 'deputy',\n",
       " 'man',\n",
       " 'shoot',\n",
       " 'brighton',\n",
       " 'home',\n",
       " 'set',\n",
       " 'ablaze',\n",
       " 'http',\n",
       " 'man',\n",
       " 'wife',\n",
       " 'get',\n",
       " 'six',\n",
       " 'year',\n",
       " 'jail',\n",
       " 'set',\n",
       " 'ablaze',\n",
       " 'niece',\n",
       " 'http',\n",
       " 'police',\n",
       " 'arsonist',\n",
       " 'deliberately',\n",
       " 'set',\n",
       " 'black',\n",
       " 'church',\n",
       " 'north',\n",
       " 'carolinaåêablaze',\n",
       " 'http',\n",
       " 'kurd',\n",
       " 'trample',\n",
       " 'turkman',\n",
       " 'flag',\n",
       " 'later',\n",
       " 'set',\n",
       " 'ablaze',\n",
       " 'other',\n",
       " 'vandalize',\n",
       " 'office',\n",
       " 'turkmen',\n",
       " 'front',\n",
       " 'diyala',\n",
       " 'http',\n",
       " 'truck',\n",
       " 'ablaze',\n",
       " 'r21',\n",
       " 'voortrekker',\n",
       " 'outside',\n",
       " 'tambo',\n",
       " 'intl',\n",
       " 'cargo',\n",
       " 'section',\n",
       " 'http',\n",
       " 'west',\n",
       " 'burn',\n",
       " 'thousand',\n",
       " 'wildfire',\n",
       " 'ablaze',\n",
       " 'california',\n",
       " 'alone',\n",
       " 'http',\n",
       " 'climate',\n",
       " 'energy',\n",
       " 'http',\n",
       " 'navista7',\n",
       " 'steve',\n",
       " 'fire',\n",
       " 'something',\n",
       " 'else',\n",
       " 'california',\n",
       " 'tinderbox',\n",
       " 'clown',\n",
       " 'set',\n",
       " 'ablaze',\n",
       " 'news24680',\n",
       " 'nxwestmidland',\n",
       " 'huge',\n",
       " 'fire',\n",
       " 'wholesale',\n",
       " 'market',\n",
       " 'ablaze',\n",
       " 'http',\n",
       " 'accident',\n",
       " 'w',\n",
       " 'nashvilletraffic',\n",
       " 'traffic',\n",
       " 'move',\n",
       " '8',\n",
       " 'm',\n",
       " 'slow',\n",
       " 'usual',\n",
       " 'https',\n",
       " 'accident',\n",
       " 'center',\n",
       " 'lane',\n",
       " 'block',\n",
       " 'santaclara',\n",
       " 'nb',\n",
       " 'great',\n",
       " 'america',\n",
       " 'pkwy',\n",
       " 'bayarea',\n",
       " 'traffic',\n",
       " 'http',\n",
       " 'report',\n",
       " 'motor',\n",
       " 'vehicle',\n",
       " 'accident',\n",
       " 'curry',\n",
       " 'herman',\n",
       " 'rd',\n",
       " 'near',\n",
       " 'stephenson',\n",
       " 'involve',\n",
       " 'overturn',\n",
       " 'vehicle',\n",
       " 'please',\n",
       " 'use',\n",
       " 'http',\n",
       " 'bigrigradio',\n",
       " 'live',\n",
       " 'accident',\n",
       " 'awareness',\n",
       " 'mile',\n",
       " 'marker',\n",
       " '31',\n",
       " 'south',\n",
       " 'mooresville',\n",
       " 'iredell',\n",
       " 'vehicle',\n",
       " 'accident',\n",
       " 'ramp',\n",
       " 'close',\n",
       " 'pm',\n",
       " 'traffic',\n",
       " 'accident',\n",
       " 'n',\n",
       " 'cabrillo',\n",
       " 'av',\n",
       " 'mir',\n",
       " 'mile',\n",
       " 'marker',\n",
       " '31',\n",
       " '40',\n",
       " 'south',\n",
       " 'mooresville',\n",
       " 'iredell',\n",
       " 'vehicle',\n",
       " 'accident',\n",
       " 'congestion',\n",
       " 'pm',\n",
       " 'pastor',\n",
       " 'scene',\n",
       " 'accident',\n",
       " 'owner',\n",
       " 'range',\n",
       " 'rover',\n",
       " 'horrible',\n",
       " 'car',\n",
       " 'accident',\n",
       " 'past',\n",
       " 'sunday',\n",
       " 'finally',\n",
       " 'able',\n",
       " 'get',\n",
       " 'around',\n",
       " 'thank',\n",
       " 'god',\n",
       " 'truckcrash',\n",
       " 'overturn',\n",
       " 'fortworth',\n",
       " 'interstate',\n",
       " 'http',\n",
       " 'click',\n",
       " 'crash',\n",
       " 'gt',\n",
       " 'http',\n",
       " 'accident',\n",
       " 'ashville',\n",
       " 'we',\n",
       " '23',\n",
       " 'sb',\n",
       " 'sr',\n",
       " '752',\n",
       " 'traffic',\n",
       " 'http',\n",
       " 'carolina',\n",
       " 'accident',\n",
       " 'motorcyclist',\n",
       " 'die',\n",
       " 'crash',\n",
       " 'car',\n",
       " 'cross',\n",
       " 'median',\n",
       " 'motorcycle',\n",
       " 'rider',\n",
       " 'travel',\n",
       " 'http',\n",
       " 'fyi',\n",
       " 'cad',\n",
       " 'fyi',\n",
       " 'accident',\n",
       " 'property',\n",
       " 'damage',\n",
       " 'nhs',\n",
       " '999',\n",
       " 'piner',\n",
       " 'dr',\n",
       " 'rt',\n",
       " 'naayf',\n",
       " 'first',\n",
       " 'accident',\n",
       " 'year',\n",
       " 'turn',\n",
       " 'onto',\n",
       " 'chandanee',\n",
       " 'magu',\n",
       " 'near',\n",
       " 'mma',\n",
       " 'taxi',\n",
       " 'ram',\n",
       " 'halfway',\n",
       " 'turn',\n",
       " 'everyone',\n",
       " 'accident',\n",
       " 'leave',\n",
       " 'lane',\n",
       " 'block',\n",
       " 'manchester',\n",
       " 'rt',\n",
       " '293',\n",
       " 'nb',\n",
       " 'eddy',\n",
       " 'rd',\n",
       " 'stop',\n",
       " 'go',\n",
       " 'traffic',\n",
       " 'back',\n",
       " 'delay',\n",
       " '4',\n",
       " 'min',\n",
       " 'traffic',\n",
       " 'accident',\n",
       " 'property',\n",
       " 'damage',\n",
       " 'piner',\n",
       " 'dr',\n",
       " 'fyi',\n",
       " 'cad',\n",
       " 'fyi',\n",
       " 'accident',\n",
       " 'property',\n",
       " 'damage',\n",
       " 'wpd',\n",
       " '1600',\n",
       " '17th',\n",
       " 'st',\n",
       " 'pm',\n",
       " 'traffic',\n",
       " 'accident',\n",
       " 'injury',\n",
       " '2781',\n",
       " 'willis',\n",
       " 'foreman',\n",
       " 'rd',\n",
       " 'http',\n",
       " 'aashiqui',\n",
       " 'actress',\n",
       " 'anu',\n",
       " 'aggarwal',\n",
       " 'accident',\n",
       " 'http',\n",
       " 'suffield',\n",
       " 'alberta',\n",
       " 'accident',\n",
       " 'https',\n",
       " '9',\n",
       " 'mile',\n",
       " 'backup',\n",
       " 'south',\n",
       " 'accident',\n",
       " 'block',\n",
       " 'right',\n",
       " '2',\n",
       " 'lane',\n",
       " 'exit',\n",
       " '31',\n",
       " 'langtree',\n",
       " 'rd',\n",
       " 'consider',\n",
       " 'nc',\n",
       " '115',\n",
       " 'nc',\n",
       " '150',\n",
       " 'nc',\n",
       " '16',\n",
       " 'alternate',\n",
       " 'break',\n",
       " 'deadly',\n",
       " 'motorcycle',\n",
       " 'car',\n",
       " 'accident',\n",
       " 'happen',\n",
       " 'hagerstown',\n",
       " 'today',\n",
       " 'detail',\n",
       " '5',\n",
       " 'your4state',\n",
       " 'whag',\n",
       " 'car',\n",
       " 'even',\n",
       " 'week',\n",
       " 'get',\n",
       " 'fucking',\n",
       " 'car',\n",
       " 'accident',\n",
       " 'mfs',\n",
       " 'ca',\n",
       " 'fucking',\n",
       " 'drive',\n",
       " 'norwaymfa',\n",
       " 'bahrain',\n",
       " 'police',\n",
       " 'previously',\n",
       " 'die',\n",
       " 'road',\n",
       " 'accident',\n",
       " 'kill',\n",
       " 'explosion',\n",
       " 'http',\n",
       " 'expert',\n",
       " 'france',\n",
       " 'begin',\n",
       " 'examine',\n",
       " 'airplane',\n",
       " 'debris',\n",
       " 'find',\n",
       " 'reunion',\n",
       " 'island',\n",
       " 'french',\n",
       " 'air',\n",
       " 'accident',\n",
       " 'expert',\n",
       " 'http',\n",
       " 'news',\n",
       " 'strict',\n",
       " 'liability',\n",
       " 'context',\n",
       " 'airplane',\n",
       " 'accident',\n",
       " 'pilot',\n",
       " 'error',\n",
       " 'common',\n",
       " 'component',\n",
       " 'aviation',\n",
       " 'cr',\n",
       " 'http',\n",
       " 'expert',\n",
       " 'france',\n",
       " 'begin',\n",
       " 'examine',\n",
       " 'airplane',\n",
       " 'debris',\n",
       " 'find',\n",
       " 'reunion',\n",
       " 'island',\n",
       " 'french',\n",
       " 'air',\n",
       " 'accident',\n",
       " 'expert',\n",
       " 'wedn',\n",
       " 'http',\n",
       " 'alexalltimelow',\n",
       " 'awwww',\n",
       " 'airplane',\n",
       " 'accident',\n",
       " 'go',\n",
       " 'to',\n",
       " 'die',\n",
       " 'cutie',\n",
       " 'good',\n",
       " 'job',\n",
       " 'family',\n",
       " 'member',\n",
       " 'osama',\n",
       " 'bin',\n",
       " 'laden',\n",
       " 'die',\n",
       " 'airplane',\n",
       " 'accident',\n",
       " 'ironic',\n",
       " 'mhmmm',\n",
       " 'gov',\n",
       " 'shit',\n",
       " 'suspect',\n",
       " 'man',\n",
       " 'go',\n",
       " 'airplane',\n",
       " 'engine',\n",
       " 'accident',\n",
       " 'http',\n",
       " 'via',\n",
       " 'youtube',\n",
       " 'horrible',\n",
       " 'accident',\n",
       " 'man',\n",
       " 'die',\n",
       " 'wing',\n",
       " 'airplane',\n",
       " 'http',\n",
       " 'cessna',\n",
       " 'airplane',\n",
       " 'accident',\n",
       " 'ocampo',\n",
       " 'coahuila',\n",
       " 'mexico',\n",
       " 'july',\n",
       " '29',\n",
       " '2015',\n",
       " 'kill',\n",
       " 'four',\n",
       " 'man',\n",
       " 'include',\n",
       " 'state',\n",
       " 'coahuila',\n",
       " 'government',\n",
       " 'official',\n",
       " 'horrible',\n",
       " 'accident',\n",
       " 'man',\n",
       " 'die',\n",
       " 'wing',\n",
       " 'airplane',\n",
       " 'watchthevideo',\n",
       " 'http',\n",
       " 'expert',\n",
       " 'france',\n",
       " 'begin',\n",
       " 'examine',\n",
       " 'airplane',\n",
       " 'debris',\n",
       " 'find',\n",
       " 'reunion',\n",
       " 'island',\n",
       " 'http',\n",
       " 'french',\n",
       " 'air',\n",
       " 'accident',\n",
       " 'expert',\n",
       " 'expert',\n",
       " 'france',\n",
       " 'begin',\n",
       " 'examine',\n",
       " 'airplane',\n",
       " 'debris',\n",
       " 'find',\n",
       " 'reunion',\n",
       " 'island',\n",
       " 'french',\n",
       " 'air',\n",
       " 'accident',\n",
       " 'expert',\n",
       " 'wednesday',\n",
       " 'begin',\n",
       " 'examine',\n",
       " 'kca',\n",
       " 'votejkt48id',\n",
       " 'mbataweel',\n",
       " 'rip',\n",
       " 'binladen',\n",
       " 'family',\n",
       " 'member',\n",
       " 'kill',\n",
       " 'airplane',\n",
       " 'accident',\n",
       " 'expert',\n",
       " 'france',\n",
       " 'begin',\n",
       " 'examine',\n",
       " 'airplane',\n",
       " 'debris',\n",
       " 'find',\n",
       " 'reunion',\n",
       " 'island',\n",
       " 'french',\n",
       " 'air',\n",
       " 'accident',\n",
       " 'expert',\n",
       " 'http',\n",
       " 'mlb',\n",
       " 'unbelievably',\n",
       " 'insane',\n",
       " 'man',\n",
       " 'airport',\n",
       " 'airplane',\n",
       " 'aircraft',\n",
       " 'aeroplane',\n",
       " 'runway',\n",
       " 'accident',\n",
       " 'https',\n",
       " 'horrible',\n",
       " 'accident',\n",
       " 'man',\n",
       " 'die',\n",
       " 'wing',\n",
       " 'airplaneåê',\n",
       " 'http',\n",
       " 'horrible',\n",
       " 'accident',\n",
       " 'man',\n",
       " 'die',\n",
       " 'wing',\n",
       " 'airplane',\n",
       " 'http',\n",
       " 'usama',\n",
       " 'bin',\n",
       " 'ladin',\n",
       " 'family',\n",
       " 'dead',\n",
       " 'airplane',\n",
       " 'crash',\n",
       " 'naturally',\n",
       " 'accident',\n",
       " 'pilot',\n",
       " 'die',\n",
       " 'plane',\n",
       " 'crash',\n",
       " 'car',\n",
       " 'festival',\n",
       " 'https',\n",
       " 'via',\n",
       " 'youtube',\n",
       " 'crash',\n",
       " 'aircraft',\n",
       " 'airplane',\n",
       " 'pilot',\n",
       " 'death',\n",
       " 'accident',\n",
       " 'carf',\n",
       " 'strict',\n",
       " 'liability',\n",
       " 'context',\n",
       " 'airplane',\n",
       " 'accident',\n",
       " 'http',\n",
       " 'dtn',\n",
       " 'brazil',\n",
       " 'experts',\n",
       " 'france',\n",
       " 'begin',\n",
       " 'examine',\n",
       " 'airplane',\n",
       " 'debris',\n",
       " 'find',\n",
       " 'reunion',\n",
       " 'island',\n",
       " 'french',\n",
       " 'air',\n",
       " 'accident',\n",
       " 'exp',\n",
       " 'http',\n",
       " 'expert',\n",
       " 'france',\n",
       " 'begin',\n",
       " 'examine',\n",
       " 'airplane',\n",
       " 'debris',\n",
       " 'find',\n",
       " 'reunion',\n",
       " 'island',\n",
       " 'french',\n",
       " 'air',\n",
       " 'accident',\n",
       " 'expert',\n",
       " 'wedn',\n",
       " 'http',\n",
       " 'horrible',\n",
       " 'accident',\n",
       " 'man',\n",
       " 'die',\n",
       " 'wing',\n",
       " 'wtf',\n",
       " 'believe',\n",
       " 'eye',\n",
       " 'http',\n",
       " 'nicole',\n",
       " 'fletcher',\n",
       " 'one',\n",
       " 'victim',\n",
       " 'crash',\n",
       " 'airplane',\n",
       " 'time',\n",
       " 'ago',\n",
       " 'accident',\n",
       " 'leave',\n",
       " 'little',\n",
       " 'bit',\n",
       " 'trauma',\n",
       " 'although',\n",
       " 'omg',\n",
       " 'horrible',\n",
       " 'accident',\n",
       " 'man',\n",
       " 'die',\n",
       " 'wing',\n",
       " 'airplane',\n",
       " 'http',\n",
       " 'omg',\n",
       " 'believe',\n",
       " 'rip',\n",
       " 'bro',\n",
       " 'airplane',\n",
       " 'accident',\n",
       " 'jetengine',\n",
       " 'turbojet',\n",
       " 'boe',\n",
       " 'g90',\n",
       " 'http',\n",
       " 'expert',\n",
       " 'france',\n",
       " 'begin',\n",
       " 'examine',\n",
       " 'airplane',\n",
       " 'debris',\n",
       " 'find',\n",
       " 'reunion',\n",
       " 'island',\n",
       " 'french',\n",
       " 'air',\n",
       " 'accident',\n",
       " 'expert',\n",
       " 'wednesday',\n",
       " 'begin',\n",
       " 'examine',\n",
       " 'airplane',\n",
       " 'accident',\n",
       " 'airplane',\n",
       " 'crash',\n",
       " 'house',\n",
       " 'colombia',\n",
       " '12',\n",
       " 'people',\n",
       " 'die',\n",
       " 'accident',\n",
       " 'https',\n",
       " 'shoot',\n",
       " 'airplane',\n",
       " 'accident',\n",
       " 'https',\n",
       " 'could',\n",
       " 'drone',\n",
       " 'cause',\n",
       " 'airplane',\n",
       " 'accident',\n",
       " 'pilot',\n",
       " 'worry',\n",
       " 'use',\n",
       " 'drone',\n",
       " 'esp',\n",
       " 'close',\n",
       " 'vicinity',\n",
       " 'airport',\n",
       " 'http',\n",
       " 'early',\n",
       " 'wake',\n",
       " 'call',\n",
       " 'sister',\n",
       " 'beg',\n",
       " 'come',\n",
       " 'amp',\n",
       " 'ride',\n",
       " 'ambulance',\n",
       " 'hospital',\n",
       " 'rodkiai',\n",
       " 'http',\n",
       " 'twelve',\n",
       " 'fear',\n",
       " 'kill',\n",
       " 'pakistani',\n",
       " 'air',\n",
       " 'ambulance',\n",
       " 'helicopter',\n",
       " 'crash',\n",
       " 'http',\n",
       " 'two',\n",
       " 'air',\n",
       " 'ambulance',\n",
       " 'scene',\n",
       " 'serious',\n",
       " 'crash',\n",
       " 'two',\n",
       " 'car',\n",
       " 'lorry',\n",
       " 'http',\n",
       " 'http',\n",
       " 'twelve',\n",
       " 'fear',\n",
       " 'kill',\n",
       " 'pakistani',\n",
       " 'air',\n",
       " 'ambulance',\n",
       " 'helicopter',\n",
       " 'crash',\n",
       " 'reuters',\n",
       " 'http',\n",
       " 'yugvani',\n",
       " 'anyone',\n",
       " 'travel',\n",
       " 'right',\n",
       " 'incident',\n",
       " 'service',\n",
       " 'halt',\n",
       " 'outside',\n",
       " 'shrews',\n",
       " 'ambulance',\n",
       " 'scene',\n",
       " 'twelve',\n",
       " 'fear',\n",
       " 'kill',\n",
       " 'pakistani',\n",
       " 'air',\n",
       " 'ambulance',\n",
       " 'helicopter',\n",
       " 'crash',\n",
       " 'http',\n",
       " '20skyhawkmm20',\n",
       " 'fredosantana300',\n",
       " 'lilreese300',\n",
       " 'hella',\n",
       " 'crazy',\n",
       " '3',\n",
       " 'fight',\n",
       " 'ambulance',\n",
       " 'couple',\n",
       " 'mosh',\n",
       " 'pit',\n",
       " 'news',\n",
       " 'twelve',\n",
       " 'fear',\n",
       " 'kill',\n",
       " 'pakistani',\n",
       " 'air',\n",
       " 'ambulance',\n",
       " 'helicopter',\n",
       " 'crash',\n",
       " 'http',\n",
       " 'dna',\n",
       " 'http',\n",
       " 'twelve',\n",
       " 'fear',\n",
       " 'kill',\n",
       " 'pakistani',\n",
       " 'air',\n",
       " 'ambulance',\n",
       " 'helicopter',\n",
       " 'crash',\n",
       " 'http',\n",
       " 'pakistan',\n",
       " 'air',\n",
       " 'ambulance',\n",
       " 'helicopter',\n",
       " 'crash',\n",
       " 'kill',\n",
       " 'nine',\n",
       " 'http',\n",
       " 'http',\n",
       " 'twelve',\n",
       " 'fear',\n",
       " 'kill',\n",
       " 'pakistani',\n",
       " 'air',\n",
       " 'ambulance',\n",
       " 'helicopter',\n",
       " 'crash',\n",
       " 'http',\n",
       " 'twelve',\n",
       " 'fear',\n",
       " 'kill',\n",
       " 'pakistani',\n",
       " 'air',\n",
       " 'ambulance',\n",
       " 'helicopter',\n",
       " 'crash',\n",
       " 'http',\n",
       " 'know',\n",
       " 'way',\n",
       " 'ambulance',\n",
       " 'come',\n",
       " 'lt',\n",
       " 'lt',\n",
       " 'reuter',\n",
       " 'twelve',\n",
       " 'fear',\n",
       " 'kill',\n",
       " 'pakistani',\n",
       " 'air',\n",
       " 'ambulance',\n",
       " 'helicopter',\n",
       " 'crash',\n",
       " 'http',\n",
       " 'http',\n",
       " 'twelve',\n",
       " 'fear',\n",
       " 'kill',\n",
       " 'pakistani',\n",
       " 'air',\n",
       " 'ambulance',\n",
       " 'helicopter',\n",
       " 'crash',\n",
       " 'http',\n",
       " 'http',\n",
       " 'twelve',\n",
       " 'fear',\n",
       " 'kill',\n",
       " 'pakistani',\n",
       " 'air',\n",
       " 'ambulance',\n",
       " 'helicopter',\n",
       " 'crash',\n",
       " 'http',\n",
       " 'http',\n",
       " 'twelve',\n",
       " 'fear',\n",
       " 'kill',\n",
       " 'pakistani',\n",
       " 'air',\n",
       " 'ambulance',\n",
       " 'helicopter',\n",
       " 'crash',\n",
       " 'http',\n",
       " 'twelve',\n",
       " 'fear',\n",
       " 'kill',\n",
       " 'pakistani',\n",
       " 'air',\n",
       " ...]"
      ]
     },
     "execution_count": 29,
     "metadata": {},
     "output_type": "execute_result"
    }
   ],
   "source": [
    "disaster_corpus"
   ]
  },
  {
   "cell_type": "code",
   "execution_count": 30,
   "id": "a7a9fee9",
   "metadata": {
    "execution": {
     "iopub.execute_input": "2024-01-05T07:46:33.280125Z",
     "iopub.status.busy": "2024-01-05T07:46:33.279816Z",
     "iopub.status.idle": "2024-01-05T07:46:33.283730Z",
     "shell.execute_reply": "2024-01-05T07:46:33.282850Z"
    },
    "id": "A1KG6Ck6OFIn",
    "papermill": {
     "duration": 0.043657,
     "end_time": "2024-01-05T07:46:33.285712",
     "exception": false,
     "start_time": "2024-01-05T07:46:33.242055",
     "status": "completed"
    },
    "tags": []
   },
   "outputs": [],
   "source": [
    "# df['preprocessed_text'].apply()"
   ]
  },
  {
   "cell_type": "code",
   "execution_count": 31,
   "id": "a653edd8",
   "metadata": {
    "execution": {
     "iopub.execute_input": "2024-01-05T07:46:33.359653Z",
     "iopub.status.busy": "2024-01-05T07:46:33.359337Z",
     "iopub.status.idle": "2024-01-05T07:46:33.372114Z",
     "shell.execute_reply": "2024-01-05T07:46:33.371192Z"
    },
    "id": "ll5tokxgbVa_",
    "outputId": "6bb1812b-d3e6-4c81-c516-4ca34180d024",
    "papermill": {
     "duration": 0.051156,
     "end_time": "2024-01-05T07:46:33.373955",
     "exception": false,
     "start_time": "2024-01-05T07:46:33.322799",
     "status": "completed"
    },
    "tags": []
   },
   "outputs": [
    {
     "name": "stdout",
     "output_type": "stream",
     "text": [
      "[('http', 2407), ('fire', 265), ('kill', 153), ('news', 141), ('amp', 135), ('via', 121), ('disaster', 118), ('get', 117), ('crash', 113), ('california', 111), ('bomb', 108), ('police', 106), ('https', 106), ('people', 105), ('family', 104), ('suicide', 104), ('attack', 103), ('home', 102), ('train', 101), ('like', 99), ('say', 94), ('storm', 92), ('flood', 89), ('go', 88), ('building', 87), ('hiroshima', 87), ('year', 83), ('wildfire', 79), ('burn', 78), ('2', 78), ('emergency', 74), ('accident', 73), ('two', 72), ('bombing', 72), ('video', 72), ('car', 71), ('mh370', 71), ('nuclear', 70), ('one', 69), ('collapse', 69)]\n"
     ]
    }
   ],
   "source": [
    "from collections import Counter\n",
    "# df['preprocessed_text'].apply(Counter)\n",
    "print(Counter(disaster_corpus).most_common(40))"
   ]
  },
  {
   "cell_type": "code",
   "execution_count": 32,
   "id": "87f35116",
   "metadata": {
    "execution": {
     "iopub.execute_input": "2024-01-05T07:46:33.445882Z",
     "iopub.status.busy": "2024-01-05T07:46:33.445592Z",
     "iopub.status.idle": "2024-01-05T07:46:33.460611Z",
     "shell.execute_reply": "2024-01-05T07:46:33.459760Z"
    },
    "id": "awHTBXCebty8",
    "papermill": {
     "duration": 0.05374,
     "end_time": "2024-01-05T07:46:33.462526",
     "exception": false,
     "start_time": "2024-01-05T07:46:33.408786",
     "status": "completed"
    },
    "tags": []
   },
   "outputs": [],
   "source": [
    "blessing_corpus=[]\n",
    "for i in df[df['target']==0]['preprocessed_text']:\n",
    "  for msg in i:\n",
    "    blessing_corpus.append(msg)"
   ]
  },
  {
   "cell_type": "code",
   "execution_count": 33,
   "id": "020de9b0",
   "metadata": {
    "execution": {
     "iopub.execute_input": "2024-01-05T07:46:33.533297Z",
     "iopub.status.busy": "2024-01-05T07:46:33.533037Z",
     "iopub.status.idle": "2024-01-05T07:46:33.547774Z",
     "shell.execute_reply": "2024-01-05T07:46:33.546853Z"
    },
    "id": "-BQpkOXYm8Z1",
    "outputId": "86db76c8-d6b6-411b-c3f1-27d8e3d69431",
    "papermill": {
     "duration": 0.051803,
     "end_time": "2024-01-05T07:46:33.549744",
     "exception": false,
     "start_time": "2024-01-05T07:46:33.497941",
     "status": "completed"
    },
    "tags": []
   },
   "outputs": [
    {
     "name": "stdout",
     "output_type": "stream",
     "text": [
      "[('http', 1969), ('get', 309), ('like', 293), ('https', 234), ('amp', 209), ('go', 207), ('new', 168), ('one', 135), ('make', 130), ('see', 128), ('body', 114), ('love', 108), ('come', 106), ('say', 106), ('would', 105), ('video', 102), ('know', 100), ('good', 99), ('think', 98), ('via', 97), ('want', 96), ('time', 95), ('day', 93), ('people', 93), ('fire', 89), ('look', 88), ('bag', 88), ('can', 87), ('scream', 87), ('2', 87), ('burn', 87), ('take', 85), ('well', 85), ('back', 85), ('emergency', 82), ('full', 81), ('let', 80), ('man', 77), ('wreck', 77), ('youtube', 76)]\n"
     ]
    }
   ],
   "source": [
    "print(Counter(blessing_corpus).most_common(40))"
   ]
  },
  {
   "cell_type": "code",
   "execution_count": 34,
   "id": "704b06f3",
   "metadata": {
    "execution": {
     "iopub.execute_input": "2024-01-05T07:46:33.620187Z",
     "iopub.status.busy": "2024-01-05T07:46:33.619736Z",
     "iopub.status.idle": "2024-01-05T07:46:33.637803Z",
     "shell.execute_reply": "2024-01-05T07:46:33.636900Z"
    },
    "id": "YVQhg2EZsKbM",
    "outputId": "214471a3-e590-4bd4-a686-d359dd32ad05",
    "papermill": {
     "duration": 0.055494,
     "end_time": "2024-01-05T07:46:33.639925",
     "exception": false,
     "start_time": "2024-01-05T07:46:33.584431",
     "status": "completed"
    },
    "tags": []
   },
   "outputs": [
    {
     "data": {
      "text/html": [
       "<div>\n",
       "<style scoped>\n",
       "    .dataframe tbody tr th:only-of-type {\n",
       "        vertical-align: middle;\n",
       "    }\n",
       "\n",
       "    .dataframe tbody tr th {\n",
       "        vertical-align: top;\n",
       "    }\n",
       "\n",
       "    .dataframe thead th {\n",
       "        text-align: right;\n",
       "    }\n",
       "</style>\n",
       "<table border=\"1\" class=\"dataframe\">\n",
       "  <thead>\n",
       "    <tr style=\"text-align: right;\">\n",
       "      <th></th>\n",
       "      <th>0</th>\n",
       "      <th>1</th>\n",
       "    </tr>\n",
       "  </thead>\n",
       "  <tbody>\n",
       "    <tr>\n",
       "      <th>0</th>\n",
       "      <td>http</td>\n",
       "      <td>1969</td>\n",
       "    </tr>\n",
       "    <tr>\n",
       "      <th>1</th>\n",
       "      <td>get</td>\n",
       "      <td>309</td>\n",
       "    </tr>\n",
       "    <tr>\n",
       "      <th>2</th>\n",
       "      <td>like</td>\n",
       "      <td>293</td>\n",
       "    </tr>\n",
       "    <tr>\n",
       "      <th>3</th>\n",
       "      <td>https</td>\n",
       "      <td>234</td>\n",
       "    </tr>\n",
       "    <tr>\n",
       "      <th>4</th>\n",
       "      <td>amp</td>\n",
       "      <td>209</td>\n",
       "    </tr>\n",
       "    <tr>\n",
       "      <th>5</th>\n",
       "      <td>go</td>\n",
       "      <td>207</td>\n",
       "    </tr>\n",
       "    <tr>\n",
       "      <th>6</th>\n",
       "      <td>new</td>\n",
       "      <td>168</td>\n",
       "    </tr>\n",
       "    <tr>\n",
       "      <th>7</th>\n",
       "      <td>one</td>\n",
       "      <td>135</td>\n",
       "    </tr>\n",
       "    <tr>\n",
       "      <th>8</th>\n",
       "      <td>make</td>\n",
       "      <td>130</td>\n",
       "    </tr>\n",
       "    <tr>\n",
       "      <th>9</th>\n",
       "      <td>see</td>\n",
       "      <td>128</td>\n",
       "    </tr>\n",
       "    <tr>\n",
       "      <th>10</th>\n",
       "      <td>body</td>\n",
       "      <td>114</td>\n",
       "    </tr>\n",
       "    <tr>\n",
       "      <th>11</th>\n",
       "      <td>love</td>\n",
       "      <td>108</td>\n",
       "    </tr>\n",
       "    <tr>\n",
       "      <th>12</th>\n",
       "      <td>come</td>\n",
       "      <td>106</td>\n",
       "    </tr>\n",
       "    <tr>\n",
       "      <th>13</th>\n",
       "      <td>say</td>\n",
       "      <td>106</td>\n",
       "    </tr>\n",
       "    <tr>\n",
       "      <th>14</th>\n",
       "      <td>would</td>\n",
       "      <td>105</td>\n",
       "    </tr>\n",
       "    <tr>\n",
       "      <th>15</th>\n",
       "      <td>video</td>\n",
       "      <td>102</td>\n",
       "    </tr>\n",
       "    <tr>\n",
       "      <th>16</th>\n",
       "      <td>know</td>\n",
       "      <td>100</td>\n",
       "    </tr>\n",
       "    <tr>\n",
       "      <th>17</th>\n",
       "      <td>good</td>\n",
       "      <td>99</td>\n",
       "    </tr>\n",
       "    <tr>\n",
       "      <th>18</th>\n",
       "      <td>think</td>\n",
       "      <td>98</td>\n",
       "    </tr>\n",
       "    <tr>\n",
       "      <th>19</th>\n",
       "      <td>via</td>\n",
       "      <td>97</td>\n",
       "    </tr>\n",
       "    <tr>\n",
       "      <th>20</th>\n",
       "      <td>want</td>\n",
       "      <td>96</td>\n",
       "    </tr>\n",
       "    <tr>\n",
       "      <th>21</th>\n",
       "      <td>time</td>\n",
       "      <td>95</td>\n",
       "    </tr>\n",
       "    <tr>\n",
       "      <th>22</th>\n",
       "      <td>day</td>\n",
       "      <td>93</td>\n",
       "    </tr>\n",
       "    <tr>\n",
       "      <th>23</th>\n",
       "      <td>people</td>\n",
       "      <td>93</td>\n",
       "    </tr>\n",
       "    <tr>\n",
       "      <th>24</th>\n",
       "      <td>fire</td>\n",
       "      <td>89</td>\n",
       "    </tr>\n",
       "    <tr>\n",
       "      <th>25</th>\n",
       "      <td>look</td>\n",
       "      <td>88</td>\n",
       "    </tr>\n",
       "    <tr>\n",
       "      <th>26</th>\n",
       "      <td>bag</td>\n",
       "      <td>88</td>\n",
       "    </tr>\n",
       "    <tr>\n",
       "      <th>27</th>\n",
       "      <td>can</td>\n",
       "      <td>87</td>\n",
       "    </tr>\n",
       "    <tr>\n",
       "      <th>28</th>\n",
       "      <td>scream</td>\n",
       "      <td>87</td>\n",
       "    </tr>\n",
       "    <tr>\n",
       "      <th>29</th>\n",
       "      <td>2</td>\n",
       "      <td>87</td>\n",
       "    </tr>\n",
       "    <tr>\n",
       "      <th>30</th>\n",
       "      <td>burn</td>\n",
       "      <td>87</td>\n",
       "    </tr>\n",
       "    <tr>\n",
       "      <th>31</th>\n",
       "      <td>take</td>\n",
       "      <td>85</td>\n",
       "    </tr>\n",
       "    <tr>\n",
       "      <th>32</th>\n",
       "      <td>well</td>\n",
       "      <td>85</td>\n",
       "    </tr>\n",
       "    <tr>\n",
       "      <th>33</th>\n",
       "      <td>back</td>\n",
       "      <td>85</td>\n",
       "    </tr>\n",
       "    <tr>\n",
       "      <th>34</th>\n",
       "      <td>emergency</td>\n",
       "      <td>82</td>\n",
       "    </tr>\n",
       "    <tr>\n",
       "      <th>35</th>\n",
       "      <td>full</td>\n",
       "      <td>81</td>\n",
       "    </tr>\n",
       "    <tr>\n",
       "      <th>36</th>\n",
       "      <td>let</td>\n",
       "      <td>80</td>\n",
       "    </tr>\n",
       "    <tr>\n",
       "      <th>37</th>\n",
       "      <td>man</td>\n",
       "      <td>77</td>\n",
       "    </tr>\n",
       "    <tr>\n",
       "      <th>38</th>\n",
       "      <td>wreck</td>\n",
       "      <td>77</td>\n",
       "    </tr>\n",
       "    <tr>\n",
       "      <th>39</th>\n",
       "      <td>youtube</td>\n",
       "      <td>76</td>\n",
       "    </tr>\n",
       "  </tbody>\n",
       "</table>\n",
       "</div>"
      ],
      "text/plain": [
       "            0     1\n",
       "0        http  1969\n",
       "1         get   309\n",
       "2        like   293\n",
       "3       https   234\n",
       "4         amp   209\n",
       "5          go   207\n",
       "6         new   168\n",
       "7         one   135\n",
       "8        make   130\n",
       "9         see   128\n",
       "10       body   114\n",
       "11       love   108\n",
       "12       come   106\n",
       "13        say   106\n",
       "14      would   105\n",
       "15      video   102\n",
       "16       know   100\n",
       "17       good    99\n",
       "18      think    98\n",
       "19        via    97\n",
       "20       want    96\n",
       "21       time    95\n",
       "22        day    93\n",
       "23     people    93\n",
       "24       fire    89\n",
       "25       look    88\n",
       "26        bag    88\n",
       "27        can    87\n",
       "28     scream    87\n",
       "29          2    87\n",
       "30       burn    87\n",
       "31       take    85\n",
       "32       well    85\n",
       "33       back    85\n",
       "34  emergency    82\n",
       "35       full    81\n",
       "36        let    80\n",
       "37        man    77\n",
       "38      wreck    77\n",
       "39    youtube    76"
      ]
     },
     "execution_count": 34,
     "metadata": {},
     "output_type": "execute_result"
    }
   ],
   "source": [
    "pd.DataFrame(Counter(blessing_corpus).most_common(40))"
   ]
  },
  {
   "cell_type": "code",
   "execution_count": 35,
   "id": "f36d79a3",
   "metadata": {
    "execution": {
     "iopub.execute_input": "2024-01-05T07:46:33.712998Z",
     "iopub.status.busy": "2024-01-05T07:46:33.712730Z",
     "iopub.status.idle": "2024-01-05T07:46:33.730590Z",
     "shell.execute_reply": "2024-01-05T07:46:33.729736Z"
    },
    "id": "uFYCi0BispWe",
    "outputId": "e8ae814a-df0b-4d74-f0ef-83090b825e8f",
    "papermill": {
     "duration": 0.055662,
     "end_time": "2024-01-05T07:46:33.732755",
     "exception": false,
     "start_time": "2024-01-05T07:46:33.677093",
     "status": "completed"
    },
    "tags": []
   },
   "outputs": [
    {
     "data": {
      "text/html": [
       "<div>\n",
       "<style scoped>\n",
       "    .dataframe tbody tr th:only-of-type {\n",
       "        vertical-align: middle;\n",
       "    }\n",
       "\n",
       "    .dataframe tbody tr th {\n",
       "        vertical-align: top;\n",
       "    }\n",
       "\n",
       "    .dataframe thead th {\n",
       "        text-align: right;\n",
       "    }\n",
       "</style>\n",
       "<table border=\"1\" class=\"dataframe\">\n",
       "  <thead>\n",
       "    <tr style=\"text-align: right;\">\n",
       "      <th></th>\n",
       "      <th>0</th>\n",
       "      <th>1</th>\n",
       "    </tr>\n",
       "  </thead>\n",
       "  <tbody>\n",
       "    <tr>\n",
       "      <th>0</th>\n",
       "      <td>http</td>\n",
       "      <td>2407</td>\n",
       "    </tr>\n",
       "    <tr>\n",
       "      <th>1</th>\n",
       "      <td>fire</td>\n",
       "      <td>265</td>\n",
       "    </tr>\n",
       "    <tr>\n",
       "      <th>2</th>\n",
       "      <td>kill</td>\n",
       "      <td>153</td>\n",
       "    </tr>\n",
       "    <tr>\n",
       "      <th>3</th>\n",
       "      <td>news</td>\n",
       "      <td>141</td>\n",
       "    </tr>\n",
       "    <tr>\n",
       "      <th>4</th>\n",
       "      <td>amp</td>\n",
       "      <td>135</td>\n",
       "    </tr>\n",
       "    <tr>\n",
       "      <th>5</th>\n",
       "      <td>via</td>\n",
       "      <td>121</td>\n",
       "    </tr>\n",
       "    <tr>\n",
       "      <th>6</th>\n",
       "      <td>disaster</td>\n",
       "      <td>118</td>\n",
       "    </tr>\n",
       "    <tr>\n",
       "      <th>7</th>\n",
       "      <td>get</td>\n",
       "      <td>117</td>\n",
       "    </tr>\n",
       "    <tr>\n",
       "      <th>8</th>\n",
       "      <td>crash</td>\n",
       "      <td>113</td>\n",
       "    </tr>\n",
       "    <tr>\n",
       "      <th>9</th>\n",
       "      <td>california</td>\n",
       "      <td>111</td>\n",
       "    </tr>\n",
       "    <tr>\n",
       "      <th>10</th>\n",
       "      <td>bomb</td>\n",
       "      <td>108</td>\n",
       "    </tr>\n",
       "    <tr>\n",
       "      <th>11</th>\n",
       "      <td>police</td>\n",
       "      <td>106</td>\n",
       "    </tr>\n",
       "    <tr>\n",
       "      <th>12</th>\n",
       "      <td>https</td>\n",
       "      <td>106</td>\n",
       "    </tr>\n",
       "    <tr>\n",
       "      <th>13</th>\n",
       "      <td>people</td>\n",
       "      <td>105</td>\n",
       "    </tr>\n",
       "    <tr>\n",
       "      <th>14</th>\n",
       "      <td>family</td>\n",
       "      <td>104</td>\n",
       "    </tr>\n",
       "    <tr>\n",
       "      <th>15</th>\n",
       "      <td>suicide</td>\n",
       "      <td>104</td>\n",
       "    </tr>\n",
       "    <tr>\n",
       "      <th>16</th>\n",
       "      <td>attack</td>\n",
       "      <td>103</td>\n",
       "    </tr>\n",
       "    <tr>\n",
       "      <th>17</th>\n",
       "      <td>home</td>\n",
       "      <td>102</td>\n",
       "    </tr>\n",
       "    <tr>\n",
       "      <th>18</th>\n",
       "      <td>train</td>\n",
       "      <td>101</td>\n",
       "    </tr>\n",
       "    <tr>\n",
       "      <th>19</th>\n",
       "      <td>like</td>\n",
       "      <td>99</td>\n",
       "    </tr>\n",
       "    <tr>\n",
       "      <th>20</th>\n",
       "      <td>say</td>\n",
       "      <td>94</td>\n",
       "    </tr>\n",
       "    <tr>\n",
       "      <th>21</th>\n",
       "      <td>storm</td>\n",
       "      <td>92</td>\n",
       "    </tr>\n",
       "    <tr>\n",
       "      <th>22</th>\n",
       "      <td>flood</td>\n",
       "      <td>89</td>\n",
       "    </tr>\n",
       "    <tr>\n",
       "      <th>23</th>\n",
       "      <td>go</td>\n",
       "      <td>88</td>\n",
       "    </tr>\n",
       "    <tr>\n",
       "      <th>24</th>\n",
       "      <td>building</td>\n",
       "      <td>87</td>\n",
       "    </tr>\n",
       "    <tr>\n",
       "      <th>25</th>\n",
       "      <td>hiroshima</td>\n",
       "      <td>87</td>\n",
       "    </tr>\n",
       "    <tr>\n",
       "      <th>26</th>\n",
       "      <td>year</td>\n",
       "      <td>83</td>\n",
       "    </tr>\n",
       "    <tr>\n",
       "      <th>27</th>\n",
       "      <td>wildfire</td>\n",
       "      <td>79</td>\n",
       "    </tr>\n",
       "    <tr>\n",
       "      <th>28</th>\n",
       "      <td>burn</td>\n",
       "      <td>78</td>\n",
       "    </tr>\n",
       "    <tr>\n",
       "      <th>29</th>\n",
       "      <td>2</td>\n",
       "      <td>78</td>\n",
       "    </tr>\n",
       "    <tr>\n",
       "      <th>30</th>\n",
       "      <td>emergency</td>\n",
       "      <td>74</td>\n",
       "    </tr>\n",
       "    <tr>\n",
       "      <th>31</th>\n",
       "      <td>accident</td>\n",
       "      <td>73</td>\n",
       "    </tr>\n",
       "    <tr>\n",
       "      <th>32</th>\n",
       "      <td>two</td>\n",
       "      <td>72</td>\n",
       "    </tr>\n",
       "    <tr>\n",
       "      <th>33</th>\n",
       "      <td>bombing</td>\n",
       "      <td>72</td>\n",
       "    </tr>\n",
       "    <tr>\n",
       "      <th>34</th>\n",
       "      <td>video</td>\n",
       "      <td>72</td>\n",
       "    </tr>\n",
       "    <tr>\n",
       "      <th>35</th>\n",
       "      <td>car</td>\n",
       "      <td>71</td>\n",
       "    </tr>\n",
       "    <tr>\n",
       "      <th>36</th>\n",
       "      <td>mh370</td>\n",
       "      <td>71</td>\n",
       "    </tr>\n",
       "    <tr>\n",
       "      <th>37</th>\n",
       "      <td>nuclear</td>\n",
       "      <td>70</td>\n",
       "    </tr>\n",
       "    <tr>\n",
       "      <th>38</th>\n",
       "      <td>one</td>\n",
       "      <td>69</td>\n",
       "    </tr>\n",
       "    <tr>\n",
       "      <th>39</th>\n",
       "      <td>collapse</td>\n",
       "      <td>69</td>\n",
       "    </tr>\n",
       "  </tbody>\n",
       "</table>\n",
       "</div>"
      ],
      "text/plain": [
       "             0     1\n",
       "0         http  2407\n",
       "1         fire   265\n",
       "2         kill   153\n",
       "3         news   141\n",
       "4          amp   135\n",
       "5          via   121\n",
       "6     disaster   118\n",
       "7          get   117\n",
       "8        crash   113\n",
       "9   california   111\n",
       "10        bomb   108\n",
       "11      police   106\n",
       "12       https   106\n",
       "13      people   105\n",
       "14      family   104\n",
       "15     suicide   104\n",
       "16      attack   103\n",
       "17        home   102\n",
       "18       train   101\n",
       "19        like    99\n",
       "20         say    94\n",
       "21       storm    92\n",
       "22       flood    89\n",
       "23          go    88\n",
       "24    building    87\n",
       "25   hiroshima    87\n",
       "26        year    83\n",
       "27    wildfire    79\n",
       "28        burn    78\n",
       "29           2    78\n",
       "30   emergency    74\n",
       "31    accident    73\n",
       "32         two    72\n",
       "33     bombing    72\n",
       "34       video    72\n",
       "35         car    71\n",
       "36       mh370    71\n",
       "37     nuclear    70\n",
       "38         one    69\n",
       "39    collapse    69"
      ]
     },
     "execution_count": 35,
     "metadata": {},
     "output_type": "execute_result"
    }
   ],
   "source": [
    "pd.DataFrame(Counter(disaster_corpus).most_common(40))"
   ]
  },
  {
   "cell_type": "code",
   "execution_count": null,
   "id": "85c34e7d",
   "metadata": {
    "id": "h-EZsqjbs7AB",
    "papermill": {
     "duration": 0.034765,
     "end_time": "2024-01-05T07:46:33.806580",
     "exception": false,
     "start_time": "2024-01-05T07:46:33.771815",
     "status": "completed"
    },
    "tags": []
   },
   "outputs": [],
   "source": []
  },
  {
   "cell_type": "code",
   "execution_count": 36,
   "id": "a5431a36",
   "metadata": {
    "execution": {
     "iopub.execute_input": "2024-01-05T07:46:33.878183Z",
     "iopub.status.busy": "2024-01-05T07:46:33.877901Z",
     "iopub.status.idle": "2024-01-05T07:46:34.626950Z",
     "shell.execute_reply": "2024-01-05T07:46:34.626003Z"
    },
    "id": "TpDGKPT7m-Xc",
    "outputId": "e42eeda7-0312-45d2-a65f-222043549aea",
    "papermill": {
     "duration": 0.787547,
     "end_time": "2024-01-05T07:46:34.629067",
     "exception": false,
     "start_time": "2024-01-05T07:46:33.841520",
     "status": "completed"
    },
    "tags": []
   },
   "outputs": [
    {
     "data": {
      "text/plain": [
       "Text(0.5, 1.0, 'Disaster Words frequency')"
      ]
     },
     "execution_count": 36,
     "metadata": {},
     "output_type": "execute_result"
    },
    {
     "data": {
      "image/png": "[encoded data removed]",
      "text/plain": [
       "<Figure size 640x480 with 1 Axes>"
      ]
     },
     "metadata": {},
     "output_type": "display_data"
    }
   ],
   "source": [
    "import seaborn as sns\n",
    "import matplotlib.pyplot as plt\n",
    "\n",
    "sns.barplot(x=pd.DataFrame(Counter(disaster_corpus).most_common(28))[0],y=pd.DataFrame(Counter(disaster_corpus).most_common(28))[1])\n",
    "plt.xticks(rotation=75)\n",
    "plt.xlabel('Disaster Words')\n",
    "plt.ylabel('Count')\n",
    "plt.title('Disaster Words frequency')"
   ]
  },
  {
   "cell_type": "code",
   "execution_count": 37,
   "id": "ebea9597",
   "metadata": {
    "execution": {
     "iopub.execute_input": "2024-01-05T07:46:34.705642Z",
     "iopub.status.busy": "2024-01-05T07:46:34.705026Z",
     "iopub.status.idle": "2024-01-05T07:46:35.203395Z",
     "shell.execute_reply": "2024-01-05T07:46:35.202543Z"
    },
    "id": "-_-yYxDzr56x",
    "outputId": "aa974e99-53c7-4e0a-c946-48cf120bfa84",
    "papermill": {
     "duration": 0.53905,
     "end_time": "2024-01-05T07:46:35.205799",
     "exception": false,
     "start_time": "2024-01-05T07:46:34.666749",
     "status": "completed"
    },
    "tags": []
   },
   "outputs": [
    {
     "data": {
      "text/plain": [
       "Text(0.5, 1.0, 'Blessing Words frequency')"
      ]
     },
     "execution_count": 37,
     "metadata": {},
     "output_type": "execute_result"
    },
    {
     "data": {
      "image/png": "[encoded data removed]",
      "text/plain": [
       "<Figure size 640x480 with 1 Axes>"
      ]
     },
     "metadata": {},
     "output_type": "display_data"
    }
   ],
   "source": [
    "sns.barplot(x=pd.DataFrame(Counter(blessing_corpus).most_common(28))[0],y=pd.DataFrame(Counter(blessing_corpus).most_common(28))[1])\n",
    "plt.xticks(rotation=75)\n",
    "plt.xlabel('Blessing Words')\n",
    "plt.ylabel('Count')\n",
    "plt.title('Blessing Words frequency')"
   ]
  },
  {
   "cell_type": "code",
   "execution_count": 38,
   "id": "43508b6b",
   "metadata": {
    "execution": {
     "iopub.execute_input": "2024-01-05T07:46:35.284743Z",
     "iopub.status.busy": "2024-01-05T07:46:35.284096Z",
     "iopub.status.idle": "2024-01-05T07:46:35.295573Z",
     "shell.execute_reply": "2024-01-05T07:46:35.294644Z"
    },
    "id": "uDFD24HnuvnB",
    "outputId": "71fbfc82-d21f-4236-e32b-0c825f30d08d",
    "papermill": {
     "duration": 0.053788,
     "end_time": "2024-01-05T07:46:35.298029",
     "exception": false,
     "start_time": "2024-01-05T07:46:35.244241",
     "status": "completed"
    },
    "tags": []
   },
   "outputs": [
    {
     "data": {
      "text/html": [
       "<div>\n",
       "<style scoped>\n",
       "    .dataframe tbody tr th:only-of-type {\n",
       "        vertical-align: middle;\n",
       "    }\n",
       "\n",
       "    .dataframe tbody tr th {\n",
       "        vertical-align: top;\n",
       "    }\n",
       "\n",
       "    .dataframe thead th {\n",
       "        text-align: right;\n",
       "    }\n",
       "</style>\n",
       "<table border=\"1\" class=\"dataframe\">\n",
       "  <thead>\n",
       "    <tr style=\"text-align: right;\">\n",
       "      <th></th>\n",
       "      <th>id</th>\n",
       "      <th>text</th>\n",
       "      <th>target</th>\n",
       "      <th>preprocessed_text</th>\n",
       "    </tr>\n",
       "  </thead>\n",
       "  <tbody>\n",
       "    <tr>\n",
       "      <th>0</th>\n",
       "      <td>0</td>\n",
       "      <td>Our Deeds are the Reason of this #earthquake M...</td>\n",
       "      <td>1</td>\n",
       "      <td>[deed, reason, earthquake, may, allah, forgive...</td>\n",
       "    </tr>\n",
       "    <tr>\n",
       "      <th>1</th>\n",
       "      <td>1</td>\n",
       "      <td>Forest fire near La Ronge Sask. Canada</td>\n",
       "      <td>1</td>\n",
       "      <td>[forest, fire, near, la, ronge, sask, canada]</td>\n",
       "    </tr>\n",
       "    <tr>\n",
       "      <th>2</th>\n",
       "      <td>2</td>\n",
       "      <td>All residents asked to 'shelter in place' are ...</td>\n",
       "      <td>1</td>\n",
       "      <td>[resident, ask, place, notify, officer, evacua...</td>\n",
       "    </tr>\n",
       "    <tr>\n",
       "      <th>3</th>\n",
       "      <td>3</td>\n",
       "      <td>13,000 people receive #wildfires evacuation or...</td>\n",
       "      <td>1</td>\n",
       "      <td>[people, receive, wildfire, evacuation, order,...</td>\n",
       "    </tr>\n",
       "    <tr>\n",
       "      <th>4</th>\n",
       "      <td>4</td>\n",
       "      <td>Just got sent this photo from Ruby #Alaska as ...</td>\n",
       "      <td>1</td>\n",
       "      <td>[get, send, photo, ruby, alaska, smoke, wildfi...</td>\n",
       "    </tr>\n",
       "  </tbody>\n",
       "</table>\n",
       "</div>"
      ],
      "text/plain": [
       "   id                                               text  target  \\\n",
       "0   0  Our Deeds are the Reason of this #earthquake M...       1   \n",
       "1   1             Forest fire near La Ronge Sask. Canada       1   \n",
       "2   2  All residents asked to 'shelter in place' are ...       1   \n",
       "3   3  13,000 people receive #wildfires evacuation or...       1   \n",
       "4   4  Just got sent this photo from Ruby #Alaska as ...       1   \n",
       "\n",
       "                                   preprocessed_text  \n",
       "0  [deed, reason, earthquake, may, allah, forgive...  \n",
       "1      [forest, fire, near, la, ronge, sask, canada]  \n",
       "2  [resident, ask, place, notify, officer, evacua...  \n",
       "3  [people, receive, wildfire, evacuation, order,...  \n",
       "4  [get, send, photo, ruby, alaska, smoke, wildfi...  "
      ]
     },
     "execution_count": 38,
     "metadata": {},
     "output_type": "execute_result"
    }
   ],
   "source": [
    "df.head()"
   ]
  },
  {
   "cell_type": "markdown",
   "id": "efd1f867",
   "metadata": {
    "id": "3vBS2gbv1I5e",
    "papermill": {
     "duration": 0.039134,
     "end_time": "2024-01-05T07:46:35.379200",
     "exception": false,
     "start_time": "2024-01-05T07:46:35.340066",
     "status": "completed"
    },
    "tags": []
   },
   "source": [
    "'http' word in occuring in both disaster and blessing approximately same number of times so we need to remove it so it will not create a problem."
   ]
  },
  {
   "cell_type": "code",
   "execution_count": 39,
   "id": "96a53624",
   "metadata": {
    "execution": {
     "iopub.execute_input": "2024-01-05T07:46:35.454977Z",
     "iopub.status.busy": "2024-01-05T07:46:35.454701Z",
     "iopub.status.idle": "2024-01-05T07:46:35.460394Z",
     "shell.execute_reply": "2024-01-05T07:46:35.459508Z"
    },
    "id": "BP7tvuaHwjie",
    "outputId": "465ab09c-a908-4f81-d098-e25f693e0173",
    "papermill": {
     "duration": 0.045909,
     "end_time": "2024-01-05T07:46:35.462381",
     "exception": false,
     "start_time": "2024-01-05T07:46:35.416472",
     "status": "completed"
    },
    "tags": []
   },
   "outputs": [
    {
     "data": {
      "text/plain": [
       "['deed', 'http', 'maker', 'woolen']"
      ]
     },
     "execution_count": 39,
     "metadata": {},
     "output_type": "execute_result"
    }
   ],
   "source": [
    "list=['deed','http','maker','woolen']\n",
    "list"
   ]
  },
  {
   "cell_type": "code",
   "execution_count": 40,
   "id": "6b537602",
   "metadata": {
    "execution": {
     "iopub.execute_input": "2024-01-05T07:46:35.538444Z",
     "iopub.status.busy": "2024-01-05T07:46:35.538168Z",
     "iopub.status.idle": "2024-01-05T07:46:35.542428Z",
     "shell.execute_reply": "2024-01-05T07:46:35.541628Z"
    },
    "id": "cyaT0y9az6r9",
    "papermill": {
     "duration": 0.044461,
     "end_time": "2024-01-05T07:46:35.544264",
     "exception": false,
     "start_time": "2024-01-05T07:46:35.499803",
     "status": "completed"
    },
    "tags": []
   },
   "outputs": [],
   "source": [
    "def remove_http(list):\n",
    " new_list=[]\n",
    " for words in list:\n",
    "   if words!='http':\n",
    "      new_list.append(words)\n",
    " return new_list"
   ]
  },
  {
   "cell_type": "code",
   "execution_count": 41,
   "id": "79610e5e",
   "metadata": {
    "execution": {
     "iopub.execute_input": "2024-01-05T07:46:35.620958Z",
     "iopub.status.busy": "2024-01-05T07:46:35.620690Z",
     "iopub.status.idle": "2024-01-05T07:46:35.626079Z",
     "shell.execute_reply": "2024-01-05T07:46:35.625233Z"
    },
    "id": "wZU4WGGX0-Bj",
    "outputId": "67028745-7ed0-421d-cb27-7cfdfede6bb0",
    "papermill": {
     "duration": 0.045768,
     "end_time": "2024-01-05T07:46:35.628090",
     "exception": false,
     "start_time": "2024-01-05T07:46:35.582322",
     "status": "completed"
    },
    "tags": []
   },
   "outputs": [
    {
     "data": {
      "text/plain": [
       "['deed', 'maker', 'woolen']"
      ]
     },
     "execution_count": 41,
     "metadata": {},
     "output_type": "execute_result"
    }
   ],
   "source": [
    "remove_http(list)"
   ]
  },
  {
   "cell_type": "code",
   "execution_count": 42,
   "id": "5c4e3340",
   "metadata": {
    "execution": {
     "iopub.execute_input": "2024-01-05T07:46:35.705139Z",
     "iopub.status.busy": "2024-01-05T07:46:35.704884Z",
     "iopub.status.idle": "2024-01-05T07:46:35.716998Z",
     "shell.execute_reply": "2024-01-05T07:46:35.716098Z"
    },
    "id": "Wd_L86JO1BAZ",
    "outputId": "c8da82ae-ebe7-42a7-d962-c3d5737fea2a",
    "papermill": {
     "duration": 0.053054,
     "end_time": "2024-01-05T07:46:35.718948",
     "exception": false,
     "start_time": "2024-01-05T07:46:35.665894",
     "status": "completed"
    },
    "tags": []
   },
   "outputs": [
    {
     "data": {
      "text/html": [
       "<div>\n",
       "<style scoped>\n",
       "    .dataframe tbody tr th:only-of-type {\n",
       "        vertical-align: middle;\n",
       "    }\n",
       "\n",
       "    .dataframe tbody tr th {\n",
       "        vertical-align: top;\n",
       "    }\n",
       "\n",
       "    .dataframe thead th {\n",
       "        text-align: right;\n",
       "    }\n",
       "</style>\n",
       "<table border=\"1\" class=\"dataframe\">\n",
       "  <thead>\n",
       "    <tr style=\"text-align: right;\">\n",
       "      <th></th>\n",
       "      <th>id</th>\n",
       "      <th>text</th>\n",
       "      <th>target</th>\n",
       "      <th>preprocessed_text</th>\n",
       "    </tr>\n",
       "  </thead>\n",
       "  <tbody>\n",
       "    <tr>\n",
       "      <th>0</th>\n",
       "      <td>0</td>\n",
       "      <td>Our Deeds are the Reason of this #earthquake M...</td>\n",
       "      <td>1</td>\n",
       "      <td>[deed, reason, earthquake, may, allah, forgive...</td>\n",
       "    </tr>\n",
       "    <tr>\n",
       "      <th>1</th>\n",
       "      <td>1</td>\n",
       "      <td>Forest fire near La Ronge Sask. Canada</td>\n",
       "      <td>1</td>\n",
       "      <td>[forest, fire, near, la, ronge, sask, canada]</td>\n",
       "    </tr>\n",
       "    <tr>\n",
       "      <th>2</th>\n",
       "      <td>2</td>\n",
       "      <td>All residents asked to 'shelter in place' are ...</td>\n",
       "      <td>1</td>\n",
       "      <td>[resident, ask, place, notify, officer, evacua...</td>\n",
       "    </tr>\n",
       "    <tr>\n",
       "      <th>3</th>\n",
       "      <td>3</td>\n",
       "      <td>13,000 people receive #wildfires evacuation or...</td>\n",
       "      <td>1</td>\n",
       "      <td>[people, receive, wildfire, evacuation, order,...</td>\n",
       "    </tr>\n",
       "    <tr>\n",
       "      <th>4</th>\n",
       "      <td>4</td>\n",
       "      <td>Just got sent this photo from Ruby #Alaska as ...</td>\n",
       "      <td>1</td>\n",
       "      <td>[get, send, photo, ruby, alaska, smoke, wildfi...</td>\n",
       "    </tr>\n",
       "  </tbody>\n",
       "</table>\n",
       "</div>"
      ],
      "text/plain": [
       "   id                                               text  target  \\\n",
       "0   0  Our Deeds are the Reason of this #earthquake M...       1   \n",
       "1   1             Forest fire near La Ronge Sask. Canada       1   \n",
       "2   2  All residents asked to 'shelter in place' are ...       1   \n",
       "3   3  13,000 people receive #wildfires evacuation or...       1   \n",
       "4   4  Just got sent this photo from Ruby #Alaska as ...       1   \n",
       "\n",
       "                                   preprocessed_text  \n",
       "0  [deed, reason, earthquake, may, allah, forgive...  \n",
       "1      [forest, fire, near, la, ronge, sask, canada]  \n",
       "2  [resident, ask, place, notify, officer, evacua...  \n",
       "3  [people, receive, wildfire, evacuation, order,...  \n",
       "4  [get, send, photo, ruby, alaska, smoke, wildfi...  "
      ]
     },
     "execution_count": 42,
     "metadata": {},
     "output_type": "execute_result"
    }
   ],
   "source": [
    "df.head()"
   ]
  },
  {
   "cell_type": "code",
   "execution_count": 43,
   "id": "221e78cc",
   "metadata": {
    "execution": {
     "iopub.execute_input": "2024-01-05T07:46:35.797539Z",
     "iopub.status.busy": "2024-01-05T07:46:35.796822Z",
     "iopub.status.idle": "2024-01-05T07:46:35.819410Z",
     "shell.execute_reply": "2024-01-05T07:46:35.818505Z"
    },
    "id": "SeNpzqFF1FvT",
    "papermill": {
     "duration": 0.064142,
     "end_time": "2024-01-05T07:46:35.821457",
     "exception": false,
     "start_time": "2024-01-05T07:46:35.757315",
     "status": "completed"
    },
    "tags": []
   },
   "outputs": [],
   "source": [
    "df['preprocessed_text']=df['preprocessed_text'].apply(lambda x:remove_http(x))"
   ]
  },
  {
   "cell_type": "code",
   "execution_count": 44,
   "id": "7d245d92",
   "metadata": {
    "execution": {
     "iopub.execute_input": "2024-01-05T07:46:35.902117Z",
     "iopub.status.busy": "2024-01-05T07:46:35.901856Z",
     "iopub.status.idle": "2024-01-05T07:46:35.922671Z",
     "shell.execute_reply": "2024-01-05T07:46:35.921982Z"
    },
    "id": "VDJxsEpb1lBx",
    "papermill": {
     "duration": 0.06328,
     "end_time": "2024-01-05T07:46:35.924519",
     "exception": false,
     "start_time": "2024-01-05T07:46:35.861239",
     "status": "completed"
    },
    "tags": []
   },
   "outputs": [],
   "source": [
    "blessing_corpus=[]\n",
    "for i in df[df['target']==0]['preprocessed_text']:\n",
    "  for msg in i:\n",
    "    blessing_corpus.append(msg)\n",
    "disaster_corpus=[]\n",
    "for i in df[df['target']==0]['preprocessed_text']:\n",
    "  for msg in i:\n",
    "    disaster_corpus.append(msg)"
   ]
  },
  {
   "cell_type": "code",
   "execution_count": 45,
   "id": "d7d606b8",
   "metadata": {
    "execution": {
     "iopub.execute_input": "2024-01-05T07:46:36.001723Z",
     "iopub.status.busy": "2024-01-05T07:46:36.001459Z",
     "iopub.status.idle": "2024-01-05T07:46:36.012917Z",
     "shell.execute_reply": "2024-01-05T07:46:36.012129Z"
    },
    "id": "kwHusQCC2Ga4",
    "outputId": "97a786de-7c6e-48b1-d0d7-97390620d55d",
    "papermill": {
     "duration": 0.052308,
     "end_time": "2024-01-05T07:46:36.014785",
     "exception": false,
     "start_time": "2024-01-05T07:46:35.962477",
     "status": "completed"
    },
    "tags": []
   },
   "outputs": [
    {
     "data": {
      "text/plain": [
       "[('get', 309), ('like', 293), ('https', 234), ('amp', 209), ('go', 207)]"
      ]
     },
     "execution_count": 45,
     "metadata": {},
     "output_type": "execute_result"
    }
   ],
   "source": [
    "(Counter(disaster_corpus).most_common(5))"
   ]
  },
  {
   "cell_type": "markdown",
   "id": "69c6989b",
   "metadata": {
    "papermill": {
     "duration": 0.037765,
     "end_time": "2024-01-05T07:46:36.090497",
     "exception": false,
     "start_time": "2024-01-05T07:46:36.052732",
     "status": "completed"
    },
    "tags": []
   },
   "source": [
    "## I am making a function so as when passed any new test data it got preprocessed automatically."
   ]
  },
  {
   "cell_type": "code",
   "execution_count": 46,
   "id": "ff61cc9b",
   "metadata": {
    "execution": {
     "iopub.execute_input": "2024-01-05T07:46:36.168843Z",
     "iopub.status.busy": "2024-01-05T07:46:36.168130Z",
     "iopub.status.idle": "2024-01-05T07:46:36.173260Z",
     "shell.execute_reply": "2024-01-05T07:46:36.172388Z"
    },
    "papermill": {
     "duration": 0.045857,
     "end_time": "2024-01-05T07:46:36.175159",
     "exception": false,
     "start_time": "2024-01-05T07:46:36.129302",
     "status": "completed"
    },
    "tags": []
   },
   "outputs": [],
   "source": [
    "def test_modify(df):\n",
    "   df.drop(columns=['keyword','location'],inplace=True)\n",
    "   df['id']=df.index\n",
    "   df['preprocessed_text']=df['text'].apply(preprocess)\n",
    "   df['preprocessed_text']=df['preprocessed_text'].apply(lambda x:remove_http(x))"
   ]
  },
  {
   "cell_type": "markdown",
   "id": "0dfbb759",
   "metadata": {
    "id": "9pYrqlZ23ROK",
    "papermill": {
     "duration": 0.037911,
     "end_time": "2024-01-05T07:46:36.251733",
     "exception": false,
     "start_time": "2024-01-05T07:46:36.213822",
     "status": "completed"
    },
    "tags": []
   },
   "source": [
    "# **Model Building**"
   ]
  },
  {
   "cell_type": "code",
   "execution_count": 47,
   "id": "17d5bea7",
   "metadata": {
    "execution": {
     "iopub.execute_input": "2024-01-05T07:46:36.333699Z",
     "iopub.status.busy": "2024-01-05T07:46:36.333325Z",
     "iopub.status.idle": "2024-01-05T07:46:36.337824Z",
     "shell.execute_reply": "2024-01-05T07:46:36.336927Z"
    },
    "id": "kNCFNvyA2hBM",
    "papermill": {
     "duration": 0.047503,
     "end_time": "2024-01-05T07:46:36.339818",
     "exception": false,
     "start_time": "2024-01-05T07:46:36.292315",
     "status": "completed"
    },
    "tags": []
   },
   "outputs": [],
   "source": [
    "#Changing text data into number:\n",
    "from sklearn.feature_extraction.text import TfidfVectorizer\n",
    "tfidf=TfidfVectorizer(max_features=8357)"
   ]
  },
  {
   "cell_type": "code",
   "execution_count": 48,
   "id": "9b2c66d7",
   "metadata": {
    "execution": {
     "iopub.execute_input": "2024-01-05T07:46:36.421416Z",
     "iopub.status.busy": "2024-01-05T07:46:36.421123Z",
     "iopub.status.idle": "2024-01-05T07:46:36.427420Z",
     "shell.execute_reply": "2024-01-05T07:46:36.426533Z"
    },
    "id": "C3Yh3rFcctIO",
    "outputId": "7654e9c8-39f7-483c-b58a-c04677e40823",
    "papermill": {
     "duration": 0.049208,
     "end_time": "2024-01-05T07:46:36.429451",
     "exception": false,
     "start_time": "2024-01-05T07:46:36.380243",
     "status": "completed"
    },
    "tags": []
   },
   "outputs": [
    {
     "data": {
      "text/plain": [
       "'deed reason earthquake may allah forgive we'"
      ]
     },
     "execution_count": 48,
     "metadata": {},
     "output_type": "execute_result"
    }
   ],
   "source": [
    "' '.join(df['preprocessed_text'][0])"
   ]
  },
  {
   "cell_type": "code",
   "execution_count": 49,
   "id": "0f4bd15a",
   "metadata": {
    "execution": {
     "iopub.execute_input": "2024-01-05T07:46:36.510438Z",
     "iopub.status.busy": "2024-01-05T07:46:36.510167Z",
     "iopub.status.idle": "2024-01-05T07:46:36.522129Z",
     "shell.execute_reply": "2024-01-05T07:46:36.521347Z"
    },
    "id": "iXYHFOrydYBh",
    "papermill": {
     "duration": 0.054055,
     "end_time": "2024-01-05T07:46:36.523936",
     "exception": false,
     "start_time": "2024-01-05T07:46:36.469881",
     "status": "completed"
    },
    "tags": []
   },
   "outputs": [],
   "source": [
    "df['preprocessed_text']=df['preprocessed_text'].apply(lambda x:' '.join(x))"
   ]
  },
  {
   "cell_type": "code",
   "execution_count": 50,
   "id": "9d0815d3",
   "metadata": {
    "execution": {
     "iopub.execute_input": "2024-01-05T07:46:36.600740Z",
     "iopub.status.busy": "2024-01-05T07:46:36.600459Z",
     "iopub.status.idle": "2024-01-05T07:46:36.609440Z",
     "shell.execute_reply": "2024-01-05T07:46:36.608625Z"
    },
    "id": "F8j7OO8Gdh1_",
    "outputId": "b8856a1d-ca1f-405b-a64f-9251a149c5bb",
    "papermill": {
     "duration": 0.049338,
     "end_time": "2024-01-05T07:46:36.611427",
     "exception": false,
     "start_time": "2024-01-05T07:46:36.562089",
     "status": "completed"
    },
    "tags": []
   },
   "outputs": [
    {
     "data": {
      "text/html": [
       "<div>\n",
       "<style scoped>\n",
       "    .dataframe tbody tr th:only-of-type {\n",
       "        vertical-align: middle;\n",
       "    }\n",
       "\n",
       "    .dataframe tbody tr th {\n",
       "        vertical-align: top;\n",
       "    }\n",
       "\n",
       "    .dataframe thead th {\n",
       "        text-align: right;\n",
       "    }\n",
       "</style>\n",
       "<table border=\"1\" class=\"dataframe\">\n",
       "  <thead>\n",
       "    <tr style=\"text-align: right;\">\n",
       "      <th></th>\n",
       "      <th>id</th>\n",
       "      <th>text</th>\n",
       "      <th>target</th>\n",
       "      <th>preprocessed_text</th>\n",
       "    </tr>\n",
       "  </thead>\n",
       "  <tbody>\n",
       "    <tr>\n",
       "      <th>0</th>\n",
       "      <td>0</td>\n",
       "      <td>Our Deeds are the Reason of this #earthquake M...</td>\n",
       "      <td>1</td>\n",
       "      <td>deed reason earthquake may allah forgive we</td>\n",
       "    </tr>\n",
       "    <tr>\n",
       "      <th>1</th>\n",
       "      <td>1</td>\n",
       "      <td>Forest fire near La Ronge Sask. Canada</td>\n",
       "      <td>1</td>\n",
       "      <td>forest fire near la ronge sask canada</td>\n",
       "    </tr>\n",
       "    <tr>\n",
       "      <th>2</th>\n",
       "      <td>2</td>\n",
       "      <td>All residents asked to 'shelter in place' are ...</td>\n",
       "      <td>1</td>\n",
       "      <td>resident ask place notify officer evacuation s...</td>\n",
       "    </tr>\n",
       "    <tr>\n",
       "      <th>3</th>\n",
       "      <td>3</td>\n",
       "      <td>13,000 people receive #wildfires evacuation or...</td>\n",
       "      <td>1</td>\n",
       "      <td>people receive wildfire evacuation order calif...</td>\n",
       "    </tr>\n",
       "    <tr>\n",
       "      <th>4</th>\n",
       "      <td>4</td>\n",
       "      <td>Just got sent this photo from Ruby #Alaska as ...</td>\n",
       "      <td>1</td>\n",
       "      <td>get send photo ruby alaska smoke wildfire pour...</td>\n",
       "    </tr>\n",
       "  </tbody>\n",
       "</table>\n",
       "</div>"
      ],
      "text/plain": [
       "   id                                               text  target  \\\n",
       "0   0  Our Deeds are the Reason of this #earthquake M...       1   \n",
       "1   1             Forest fire near La Ronge Sask. Canada       1   \n",
       "2   2  All residents asked to 'shelter in place' are ...       1   \n",
       "3   3  13,000 people receive #wildfires evacuation or...       1   \n",
       "4   4  Just got sent this photo from Ruby #Alaska as ...       1   \n",
       "\n",
       "                                   preprocessed_text  \n",
       "0        deed reason earthquake may allah forgive we  \n",
       "1              forest fire near la ronge sask canada  \n",
       "2  resident ask place notify officer evacuation s...  \n",
       "3  people receive wildfire evacuation order calif...  \n",
       "4  get send photo ruby alaska smoke wildfire pour...  "
      ]
     },
     "execution_count": 50,
     "metadata": {},
     "output_type": "execute_result"
    }
   ],
   "source": [
    "df.head()"
   ]
  },
  {
   "cell_type": "code",
   "execution_count": 51,
   "id": "b28ba5bd",
   "metadata": {
    "execution": {
     "iopub.execute_input": "2024-01-05T07:46:36.690197Z",
     "iopub.status.busy": "2024-01-05T07:46:36.689922Z",
     "iopub.status.idle": "2024-01-05T07:46:37.058873Z",
     "shell.execute_reply": "2024-01-05T07:46:37.058039Z"
    },
    "id": "b73uBWiycV03",
    "papermill": {
     "duration": 0.410029,
     "end_time": "2024-01-05T07:46:37.061120",
     "exception": false,
     "start_time": "2024-01-05T07:46:36.651091",
     "status": "completed"
    },
    "tags": []
   },
   "outputs": [],
   "source": [
    "X=tfidf.fit_transform(df['preprocessed_text']).toarray()"
   ]
  },
  {
   "cell_type": "code",
   "execution_count": 52,
   "id": "21fc0274",
   "metadata": {
    "execution": {
     "iopub.execute_input": "2024-01-05T07:46:37.140754Z",
     "iopub.status.busy": "2024-01-05T07:46:37.140434Z",
     "iopub.status.idle": "2024-01-05T07:46:37.146995Z",
     "shell.execute_reply": "2024-01-05T07:46:37.146056Z"
    },
    "id": "2UkWp3S7chqy",
    "outputId": "4f5ae731-4331-424a-9221-d86584efb805",
    "papermill": {
     "duration": 0.04798,
     "end_time": "2024-01-05T07:46:37.148942",
     "exception": false,
     "start_time": "2024-01-05T07:46:37.100962",
     "status": "completed"
    },
    "tags": []
   },
   "outputs": [
    {
     "data": {
      "text/plain": [
       "array([[0., 0., 0., ..., 0., 0., 0.],\n",
       "       [0., 0., 0., ..., 0., 0., 0.],\n",
       "       [0., 0., 0., ..., 0., 0., 0.],\n",
       "       ...,\n",
       "       [0., 0., 0., ..., 0., 0., 0.],\n",
       "       [0., 0., 0., ..., 0., 0., 0.],\n",
       "       [0., 0., 0., ..., 0., 0., 0.]])"
      ]
     },
     "execution_count": 52,
     "metadata": {},
     "output_type": "execute_result"
    }
   ],
   "source": [
    "X"
   ]
  },
  {
   "cell_type": "code",
   "execution_count": 53,
   "id": "edad0d4d",
   "metadata": {
    "execution": {
     "iopub.execute_input": "2024-01-05T07:46:37.229862Z",
     "iopub.status.busy": "2024-01-05T07:46:37.229577Z",
     "iopub.status.idle": "2024-01-05T07:46:37.233618Z",
     "shell.execute_reply": "2024-01-05T07:46:37.232789Z"
    },
    "id": "FAwRpz32dp5X",
    "papermill": {
     "duration": 0.046922,
     "end_time": "2024-01-05T07:46:37.235458",
     "exception": false,
     "start_time": "2024-01-05T07:46:37.188536",
     "status": "completed"
    },
    "tags": []
   },
   "outputs": [],
   "source": [
    "Y=df['target'].values"
   ]
  },
  {
   "cell_type": "code",
   "execution_count": 54,
   "id": "2d7b2b4c",
   "metadata": {
    "execution": {
     "iopub.execute_input": "2024-01-05T07:46:37.316888Z",
     "iopub.status.busy": "2024-01-05T07:46:37.316612Z",
     "iopub.status.idle": "2024-01-05T07:46:37.322045Z",
     "shell.execute_reply": "2024-01-05T07:46:37.321150Z"
    },
    "id": "lgYaPAVYjjmq",
    "papermill": {
     "duration": 0.049488,
     "end_time": "2024-01-05T07:46:37.323985",
     "exception": false,
     "start_time": "2024-01-05T07:46:37.274497",
     "status": "completed"
    },
    "tags": []
   },
   "outputs": [],
   "source": [
    "from sklearn.model_selection import train_test_split\n",
    "x=df.drop(columns=['text','target','id'])\n",
    "y=df['target']\n"
   ]
  },
  {
   "cell_type": "code",
   "execution_count": 55,
   "id": "94c689f2",
   "metadata": {
    "execution": {
     "iopub.execute_input": "2024-01-05T07:46:37.404609Z",
     "iopub.status.busy": "2024-01-05T07:46:37.404301Z",
     "iopub.status.idle": "2024-01-05T07:46:37.414105Z",
     "shell.execute_reply": "2024-01-05T07:46:37.413286Z"
    },
    "id": "OgmwoeLGkWYp",
    "outputId": "35af0de2-5bbb-4081-ec94-b3e3d42ccce2",
    "papermill": {
     "duration": 0.052113,
     "end_time": "2024-01-05T07:46:37.415987",
     "exception": false,
     "start_time": "2024-01-05T07:46:37.363874",
     "status": "completed"
    },
    "tags": []
   },
   "outputs": [
    {
     "data": {
      "text/html": [
       "<div>\n",
       "<style scoped>\n",
       "    .dataframe tbody tr th:only-of-type {\n",
       "        vertical-align: middle;\n",
       "    }\n",
       "\n",
       "    .dataframe tbody tr th {\n",
       "        vertical-align: top;\n",
       "    }\n",
       "\n",
       "    .dataframe thead th {\n",
       "        text-align: right;\n",
       "    }\n",
       "</style>\n",
       "<table border=\"1\" class=\"dataframe\">\n",
       "  <thead>\n",
       "    <tr style=\"text-align: right;\">\n",
       "      <th></th>\n",
       "      <th>preprocessed_text</th>\n",
       "    </tr>\n",
       "  </thead>\n",
       "  <tbody>\n",
       "    <tr>\n",
       "      <th>0</th>\n",
       "      <td>deed reason earthquake may allah forgive we</td>\n",
       "    </tr>\n",
       "    <tr>\n",
       "      <th>1</th>\n",
       "      <td>forest fire near la ronge sask canada</td>\n",
       "    </tr>\n",
       "    <tr>\n",
       "      <th>2</th>\n",
       "      <td>resident ask place notify officer evacuation s...</td>\n",
       "    </tr>\n",
       "    <tr>\n",
       "      <th>3</th>\n",
       "      <td>people receive wildfire evacuation order calif...</td>\n",
       "    </tr>\n",
       "    <tr>\n",
       "      <th>4</th>\n",
       "      <td>get send photo ruby alaska smoke wildfire pour...</td>\n",
       "    </tr>\n",
       "    <tr>\n",
       "      <th>...</th>\n",
       "      <td>...</td>\n",
       "    </tr>\n",
       "    <tr>\n",
       "      <th>7608</th>\n",
       "      <td>two giant crane hold bridge collapse nearby home</td>\n",
       "    </tr>\n",
       "    <tr>\n",
       "      <th>7609</th>\n",
       "      <td>thetawni control wild fire california even nor...</td>\n",
       "    </tr>\n",
       "    <tr>\n",
       "      <th>7610</th>\n",
       "      <td>utc 5 km volcano hawaii</td>\n",
       "    </tr>\n",
       "    <tr>\n",
       "      <th>7611</th>\n",
       "      <td>police investigate collide car little portugal...</td>\n",
       "    </tr>\n",
       "    <tr>\n",
       "      <th>7612</th>\n",
       "      <td>late home raze northern california wildfire ab...</td>\n",
       "    </tr>\n",
       "  </tbody>\n",
       "</table>\n",
       "<p>7613 rows × 1 columns</p>\n",
       "</div>"
      ],
      "text/plain": [
       "                                      preprocessed_text\n",
       "0           deed reason earthquake may allah forgive we\n",
       "1                 forest fire near la ronge sask canada\n",
       "2     resident ask place notify officer evacuation s...\n",
       "3     people receive wildfire evacuation order calif...\n",
       "4     get send photo ruby alaska smoke wildfire pour...\n",
       "...                                                 ...\n",
       "7608   two giant crane hold bridge collapse nearby home\n",
       "7609  thetawni control wild fire california even nor...\n",
       "7610                            utc 5 km volcano hawaii\n",
       "7611  police investigate collide car little portugal...\n",
       "7612  late home raze northern california wildfire ab...\n",
       "\n",
       "[7613 rows x 1 columns]"
      ]
     },
     "execution_count": 55,
     "metadata": {},
     "output_type": "execute_result"
    }
   ],
   "source": [
    "x"
   ]
  },
  {
   "cell_type": "markdown",
   "id": "bd746169",
   "metadata": {
    "id": "Ke4MFfEneJ9U",
    "papermill": {
     "duration": 0.04039,
     "end_time": "2024-01-05T07:46:37.496613",
     "exception": false,
     "start_time": "2024-01-05T07:46:37.456223",
     "status": "completed"
    },
    "tags": []
   },
   "source": [
    "# **BERT model building**"
   ]
  },
  {
   "cell_type": "code",
   "execution_count": 56,
   "id": "36f86530",
   "metadata": {
    "execution": {
     "iopub.execute_input": "2024-01-05T07:46:37.575237Z",
     "iopub.status.busy": "2024-01-05T07:46:37.574512Z",
     "iopub.status.idle": "2024-01-05T07:46:51.104808Z",
     "shell.execute_reply": "2024-01-05T07:46:51.103410Z"
    },
    "id": "54CtEBjoecYi",
    "outputId": "77264ac0-b105-4898-fbba-e1c29eab5781",
    "papermill": {
     "duration": 13.572921,
     "end_time": "2024-01-05T07:46:51.108171",
     "exception": false,
     "start_time": "2024-01-05T07:46:37.535250",
     "status": "completed"
    },
    "tags": []
   },
   "outputs": [
    {
     "name": "stdout",
     "output_type": "stream",
     "text": [
      "Requirement already satisfied: tensorflow_text in /opt/conda/lib/python3.10/site-packages (2.13.0)\r\n",
      "Requirement already satisfied: tensorflow-hub>=0.8.0 in /opt/conda/lib/python3.10/site-packages (from tensorflow_text) (0.14.0)\r\n",
      "Requirement already satisfied: tensorflow<2.14,>=2.13.0 in /opt/conda/lib/python3.10/site-packages (from tensorflow_text) (2.13.0)\r\n",
      "Requirement already satisfied: absl-py>=1.0.0 in /opt/conda/lib/python3.10/site-packages (from tensorflow<2.14,>=2.13.0->tensorflow_text) (1.4.0)\r\n",
      "Requirement already satisfied: astunparse>=1.6.0 in /opt/conda/lib/python3.10/site-packages (from tensorflow<2.14,>=2.13.0->tensorflow_text) (1.6.3)\r\n",
      "Requirement already satisfied: flatbuffers>=23.1.21 in /opt/conda/lib/python3.10/site-packages (from tensorflow<2.14,>=2.13.0->tensorflow_text) (23.5.26)\r\n",
      "Requirement already satisfied: gast<=0.4.0,>=0.2.1 in /opt/conda/lib/python3.10/site-packages (from tensorflow<2.14,>=2.13.0->tensorflow_text) (0.4.0)\r\n",
      "Requirement already satisfied: google-pasta>=0.1.1 in /opt/conda/lib/python3.10/site-packages (from tensorflow<2.14,>=2.13.0->tensorflow_text) (0.2.0)\r\n",
      "Requirement already satisfied: grpcio<2.0,>=1.24.3 in /opt/conda/lib/python3.10/site-packages (from tensorflow<2.14,>=2.13.0->tensorflow_text) (1.51.1)\r\n",
      "Requirement already satisfied: h5py>=2.9.0 in /opt/conda/lib/python3.10/site-packages (from tensorflow<2.14,>=2.13.0->tensorflow_text) (3.9.0)\r\n",
      "Requirement already satisfied: keras<2.14,>=2.13.1 in /opt/conda/lib/python3.10/site-packages (from tensorflow<2.14,>=2.13.0->tensorflow_text) (2.13.1)\r\n",
      "Requirement already satisfied: libclang>=13.0.0 in /opt/conda/lib/python3.10/site-packages (from tensorflow<2.14,>=2.13.0->tensorflow_text) (16.0.6)\r\n",
      "Requirement already satisfied: numpy<=1.24.3,>=1.22 in /opt/conda/lib/python3.10/site-packages (from tensorflow<2.14,>=2.13.0->tensorflow_text) (1.24.3)\r\n",
      "Requirement already satisfied: opt-einsum>=2.3.2 in /opt/conda/lib/python3.10/site-packages (from tensorflow<2.14,>=2.13.0->tensorflow_text) (3.3.0)\r\n",
      "Requirement already satisfied: packaging in /opt/conda/lib/python3.10/site-packages (from tensorflow<2.14,>=2.13.0->tensorflow_text) (21.3)\r\n",
      "Requirement already satisfied: protobuf!=4.21.0,!=4.21.1,!=4.21.2,!=4.21.3,!=4.21.4,!=4.21.5,<5.0.0dev,>=3.20.3 in /opt/conda/lib/python3.10/site-packages (from tensorflow<2.14,>=2.13.0->tensorflow_text) (3.20.3)\r\n",
      "Requirement already satisfied: setuptools in /opt/conda/lib/python3.10/site-packages (from tensorflow<2.14,>=2.13.0->tensorflow_text) (68.1.2)\r\n",
      "Requirement already satisfied: six>=1.12.0 in /opt/conda/lib/python3.10/site-packages (from tensorflow<2.14,>=2.13.0->tensorflow_text) (1.16.0)\r\n",
      "Requirement already satisfied: tensorboard<2.14,>=2.13 in /opt/conda/lib/python3.10/site-packages (from tensorflow<2.14,>=2.13.0->tensorflow_text) (2.13.0)\r\n",
      "Requirement already satisfied: tensorflow-estimator<2.14,>=2.13.0 in /opt/conda/lib/python3.10/site-packages (from tensorflow<2.14,>=2.13.0->tensorflow_text) (2.13.0)\r\n",
      "Requirement already satisfied: termcolor>=1.1.0 in /opt/conda/lib/python3.10/site-packages (from tensorflow<2.14,>=2.13.0->tensorflow_text) (2.3.0)\r\n",
      "Requirement already satisfied: typing-extensions<4.6.0,>=3.6.6 in /opt/conda/lib/python3.10/site-packages (from tensorflow<2.14,>=2.13.0->tensorflow_text) (4.5.0)\r\n",
      "Requirement already satisfied: wrapt>=1.11.0 in /opt/conda/lib/python3.10/site-packages (from tensorflow<2.14,>=2.13.0->tensorflow_text) (1.15.0)\r\n",
      "Requirement already satisfied: tensorflow-io-gcs-filesystem>=0.23.1 in /opt/conda/lib/python3.10/site-packages (from tensorflow<2.14,>=2.13.0->tensorflow_text) (0.34.0)\r\n",
      "Requirement already satisfied: wheel<1.0,>=0.23.0 in /opt/conda/lib/python3.10/site-packages (from astunparse>=1.6.0->tensorflow<2.14,>=2.13.0->tensorflow_text) (0.41.2)\r\n",
      "Requirement already satisfied: google-auth<3,>=1.6.3 in /opt/conda/lib/python3.10/site-packages (from tensorboard<2.14,>=2.13->tensorflow<2.14,>=2.13.0->tensorflow_text) (2.22.0)\r\n",
      "Requirement already satisfied: google-auth-oauthlib<1.1,>=0.5 in /opt/conda/lib/python3.10/site-packages (from tensorboard<2.14,>=2.13->tensorflow<2.14,>=2.13.0->tensorflow_text) (1.0.0)\r\n",
      "Requirement already satisfied: markdown>=2.6.8 in /opt/conda/lib/python3.10/site-packages (from tensorboard<2.14,>=2.13->tensorflow<2.14,>=2.13.0->tensorflow_text) (3.4.4)\r\n",
      "Requirement already satisfied: requests<3,>=2.21.0 in /opt/conda/lib/python3.10/site-packages (from tensorboard<2.14,>=2.13->tensorflow<2.14,>=2.13.0->tensorflow_text) (2.31.0)\r\n",
      "Requirement already satisfied: tensorboard-data-server<0.8.0,>=0.7.0 in /opt/conda/lib/python3.10/site-packages (from tensorboard<2.14,>=2.13->tensorflow<2.14,>=2.13.0->tensorflow_text) (0.7.1)\r\n",
      "Requirement already satisfied: werkzeug>=1.0.1 in /opt/conda/lib/python3.10/site-packages (from tensorboard<2.14,>=2.13->tensorflow<2.14,>=2.13.0->tensorflow_text) (3.0.1)\r\n",
      "Requirement already satisfied: pyparsing!=3.0.5,>=2.0.2 in /opt/conda/lib/python3.10/site-packages (from packaging->tensorflow<2.14,>=2.13.0->tensorflow_text) (3.0.9)\r\n",
      "Requirement already satisfied: cachetools<6.0,>=2.0.0 in /opt/conda/lib/python3.10/site-packages (from google-auth<3,>=1.6.3->tensorboard<2.14,>=2.13->tensorflow<2.14,>=2.13.0->tensorflow_text) (4.2.4)\r\n",
      "Requirement already satisfied: pyasn1-modules>=0.2.1 in /opt/conda/lib/python3.10/site-packages (from google-auth<3,>=1.6.3->tensorboard<2.14,>=2.13->tensorflow<2.14,>=2.13.0->tensorflow_text) (0.2.7)\r\n",
      "Requirement already satisfied: rsa<5,>=3.1.4 in /opt/conda/lib/python3.10/site-packages (from google-auth<3,>=1.6.3->tensorboard<2.14,>=2.13->tensorflow<2.14,>=2.13.0->tensorflow_text) (4.9)\r\n",
      "Requirement already satisfied: urllib3<2.0 in /opt/conda/lib/python3.10/site-packages (from google-auth<3,>=1.6.3->tensorboard<2.14,>=2.13->tensorflow<2.14,>=2.13.0->tensorflow_text) (1.26.15)\r\n",
      "Requirement already satisfied: requests-oauthlib>=0.7.0 in /opt/conda/lib/python3.10/site-packages (from google-auth-oauthlib<1.1,>=0.5->tensorboard<2.14,>=2.13->tensorflow<2.14,>=2.13.0->tensorflow_text) (1.3.1)\r\n",
      "Requirement already satisfied: charset-normalizer<4,>=2 in /opt/conda/lib/python3.10/site-packages (from requests<3,>=2.21.0->tensorboard<2.14,>=2.13->tensorflow<2.14,>=2.13.0->tensorflow_text) (3.2.0)\r\n",
      "Requirement already satisfied: idna<4,>=2.5 in /opt/conda/lib/python3.10/site-packages (from requests<3,>=2.21.0->tensorboard<2.14,>=2.13->tensorflow<2.14,>=2.13.0->tensorflow_text) (3.4)\r\n",
      "Requirement already satisfied: certifi>=2017.4.17 in /opt/conda/lib/python3.10/site-packages (from requests<3,>=2.21.0->tensorboard<2.14,>=2.13->tensorflow<2.14,>=2.13.0->tensorflow_text) (2023.11.17)\r\n",
      "Requirement already satisfied: MarkupSafe>=2.1.1 in /opt/conda/lib/python3.10/site-packages (from werkzeug>=1.0.1->tensorboard<2.14,>=2.13->tensorflow<2.14,>=2.13.0->tensorflow_text) (2.1.3)\r\n",
      "Requirement already satisfied: pyasn1<0.5.0,>=0.4.6 in /opt/conda/lib/python3.10/site-packages (from pyasn1-modules>=0.2.1->google-auth<3,>=1.6.3->tensorboard<2.14,>=2.13->tensorflow<2.14,>=2.13.0->tensorflow_text) (0.4.8)\r\n",
      "Requirement already satisfied: oauthlib>=3.0.0 in /opt/conda/lib/python3.10/site-packages (from requests-oauthlib>=0.7.0->google-auth-oauthlib<1.1,>=0.5->tensorboard<2.14,>=2.13->tensorflow<2.14,>=2.13.0->tensorflow_text) (3.2.2)\r\n"
     ]
    }
   ],
   "source": [
    "!pip install tensorflow_text"
   ]
  },
  {
   "cell_type": "code",
   "execution_count": 57,
   "id": "c547ee14",
   "metadata": {
    "execution": {
     "iopub.execute_input": "2024-01-05T07:46:51.200616Z",
     "iopub.status.busy": "2024-01-05T07:46:51.200170Z",
     "iopub.status.idle": "2024-01-05T07:47:05.095536Z",
     "shell.execute_reply": "2024-01-05T07:47:05.094528Z"
    },
    "id": "BRRglUFAensg",
    "papermill": {
     "duration": 13.939884,
     "end_time": "2024-01-05T07:47:05.098052",
     "exception": false,
     "start_time": "2024-01-05T07:46:51.158168",
     "status": "completed"
    },
    "tags": []
   },
   "outputs": [],
   "source": [
    "# Import libraries\n",
    "from transformers import BertForSequenceClassification, AdamW, BertConfig,BertTokenizer,get_linear_schedule_with_warmup\n",
    "import tensorflow as tf\n",
    "import tensorflow_text as text\n",
    "import tensorflow_hub as hub"
   ]
  },
  {
   "cell_type": "code",
   "execution_count": 58,
   "id": "0c95961b",
   "metadata": {
    "execution": {
     "iopub.execute_input": "2024-01-05T07:47:05.180472Z",
     "iopub.status.busy": "2024-01-05T07:47:05.179667Z",
     "iopub.status.idle": "2024-01-05T07:47:05.184088Z",
     "shell.execute_reply": "2024-01-05T07:47:05.183259Z"
    },
    "id": "fR_NNtcLd1u3",
    "papermill": {
     "duration": 0.04719,
     "end_time": "2024-01-05T07:47:05.185928",
     "exception": false,
     "start_time": "2024-01-05T07:47:05.138738",
     "status": "completed"
    },
    "tags": []
   },
   "outputs": [],
   "source": [
    "# preprocess_url= \"https://kaggle.com/models/tensorflow/bert/frameworks/TensorFlow2/variations/en-uncased-preprocess/versions/3\"\n",
    "# encoder_url=\"https://www.kaggle.com/models/tensorflow/bert/frameworks/TensorFlow2/variations/bert-en-uncased-l-12-h-768-a-12/versions/2\""
   ]
  },
  {
   "cell_type": "code",
   "execution_count": 59,
   "id": "00544c2d",
   "metadata": {
    "execution": {
     "iopub.execute_input": "2024-01-05T07:47:05.266475Z",
     "iopub.status.busy": "2024-01-05T07:47:05.266179Z",
     "iopub.status.idle": "2024-01-05T07:47:05.270129Z",
     "shell.execute_reply": "2024-01-05T07:47:05.269306Z"
    },
    "id": "18mbUI97eHKc",
    "papermill": {
     "duration": 0.046476,
     "end_time": "2024-01-05T07:47:05.272013",
     "exception": false,
     "start_time": "2024-01-05T07:47:05.225537",
     "status": "completed"
    },
    "tags": []
   },
   "outputs": [],
   "source": [
    "# model_path = \"/kaggle/input/bert/tensorflow2/bert-en-uncased-l-12-h-128-a-2/2\"\n",
    "# preprocess_path = \"/kaggle/input/bert/tensorflow2/en-cased-preprocess/3\""
   ]
  },
  {
   "cell_type": "code",
   "execution_count": 60,
   "id": "c47c2f4e",
   "metadata": {
    "execution": {
     "iopub.execute_input": "2024-01-05T07:47:05.354734Z",
     "iopub.status.busy": "2024-01-05T07:47:05.354425Z",
     "iopub.status.idle": "2024-01-05T07:47:05.358489Z",
     "shell.execute_reply": "2024-01-05T07:47:05.357627Z"
    },
    "id": "q88nigqueq3j",
    "papermill": {
     "duration": 0.048137,
     "end_time": "2024-01-05T07:47:05.360424",
     "exception": false,
     "start_time": "2024-01-05T07:47:05.312287",
     "status": "completed"
    },
    "tags": []
   },
   "outputs": [],
   "source": [
    "# def bert_transform(text):\n",
    "#  text=[text]\n",
    "#  preprocessed_text=bert_preprocess_model(text)\n",
    "#  return bert_encoder_model(preprocessed_text)['pooled_output']"
   ]
  },
  {
   "cell_type": "code",
   "execution_count": 61,
   "id": "af4bcb3b",
   "metadata": {
    "execution": {
     "iopub.execute_input": "2024-01-05T07:47:05.444141Z",
     "iopub.status.busy": "2024-01-05T07:47:05.443885Z",
     "iopub.status.idle": "2024-01-05T07:47:05.448283Z",
     "shell.execute_reply": "2024-01-05T07:47:05.447411Z"
    },
    "id": "wtePBp84fd-7",
    "papermill": {
     "duration": 0.048559,
     "end_time": "2024-01-05T07:47:05.450199",
     "exception": false,
     "start_time": "2024-01-05T07:47:05.401640",
     "status": "completed"
    },
    "tags": []
   },
   "outputs": [],
   "source": [
    "# text_input = tf.keras.layers.Input(shape=(), dtype=tf.string)\n",
    "# preprocessor = hub.KerasLayer(preprocess_path)\n",
    "# encoder_inputs = preprocessor(text_input)\n",
    "# encoder = hub.KerasLayer(\n",
    "#     model_path,\n",
    "#     trainable=True)\n",
    "# outputs = encoder(encoder_inputs)\n",
    "# pooled_output = outputs[\"pooled_output\"]      # [batch_size, 512].\n",
    "# sequence_output = outputs[\"sequence_output\"]  # [batch_size, seq_length, 512].\n",
    "# dense_1 = tf.keras.layers.Dense(128 , activation='relu')(pooled_output)\n",
    "# dropout = tf.keras.layers.Dropout(0.7 , name=\"dropout1\")(pooled_output)\n",
    "# dense_2 = tf.keras.layers.Dense(64 , activation='relu')(dropout)\n",
    "# dropout = tf.keras.layers.Dropout(0.5 , name=\"dropout2\")(dense_2)\n",
    "\n",
    "# dense_out = tf.keras.layers.Dense(1 , activation='sigmoid', name='output')(dropout)\n",
    "\n",
    "\n",
    "# model = tf.keras.Model(inputs=text_input, outputs=dense_out)"
   ]
  },
  {
   "cell_type": "code",
   "execution_count": 62,
   "id": "c79686c7",
   "metadata": {
    "execution": {
     "iopub.execute_input": "2024-01-05T07:47:05.531102Z",
     "iopub.status.busy": "2024-01-05T07:47:05.530802Z",
     "iopub.status.idle": "2024-01-05T07:47:05.534758Z",
     "shell.execute_reply": "2024-01-05T07:47:05.533895Z"
    },
    "id": "kZaUayE5ficy",
    "outputId": "713fcc29-d20d-46aa-f99e-962dfa4e1df2",
    "papermill": {
     "duration": 0.046694,
     "end_time": "2024-01-05T07:47:05.536552",
     "exception": false,
     "start_time": "2024-01-05T07:47:05.489858",
     "status": "completed"
    },
    "tags": []
   },
   "outputs": [],
   "source": [
    "# model.summary()"
   ]
  },
  {
   "cell_type": "code",
   "execution_count": 63,
   "id": "50e98b16",
   "metadata": {
    "execution": {
     "iopub.execute_input": "2024-01-05T07:47:05.617219Z",
     "iopub.status.busy": "2024-01-05T07:47:05.616938Z",
     "iopub.status.idle": "2024-01-05T07:47:05.620855Z",
     "shell.execute_reply": "2024-01-05T07:47:05.619825Z"
    },
    "id": "0vB-NKL2nnT2",
    "papermill": {
     "duration": 0.046315,
     "end_time": "2024-01-05T07:47:05.622893",
     "exception": false,
     "start_time": "2024-01-05T07:47:05.576578",
     "status": "completed"
    },
    "tags": []
   },
   "outputs": [],
   "source": [
    "# #compiling the Neural Network\n",
    "# model.compile(optimizer='adam',\n",
    "#                loss='binary_crossentropy',\n",
    "#               metrics=['accuracy'])"
   ]
  },
  {
   "cell_type": "code",
   "execution_count": 64,
   "id": "611b6946",
   "metadata": {
    "execution": {
     "iopub.execute_input": "2024-01-05T07:47:05.702794Z",
     "iopub.status.busy": "2024-01-05T07:47:05.702493Z",
     "iopub.status.idle": "2024-01-05T07:47:05.706185Z",
     "shell.execute_reply": "2024-01-05T07:47:05.705349Z"
    },
    "id": "29NGPOetoBi6",
    "outputId": "d573b777-aed1-4542-ca1a-8e994dd0c24b",
    "papermill": {
     "duration": 0.045519,
     "end_time": "2024-01-05T07:47:05.708170",
     "exception": false,
     "start_time": "2024-01-05T07:47:05.662651",
     "status": "completed"
    },
    "tags": []
   },
   "outputs": [],
   "source": [
    "# history=model.fit(x,y,validation_split=0.4,epochs=10)"
   ]
  },
  {
   "attachments": {
    "928454ce-de2e-47c2-b013-bba275e498f6.png": {
     "image/png": "[encoded data removed]"
    }
   },
   "cell_type": "markdown",
   "id": "7a33a5e2",
   "metadata": {
    "papermill": {
     "duration": 0.039158,
     "end_time": "2024-01-05T07:47:05.786330",
     "exception": false,
     "start_time": "2024-01-05T07:47:05.747172",
     "status": "completed"
    },
    "tags": []
   },
   "source": [
    "![image.png](attachment:928454ce-de2e-47c2-b013-bba275e498f6.png)\n",
    "\n",
    "\n",
    "\n",
    "\n",
    "Our initial output from BERT 😤😤"
   ]
  },
  {
   "cell_type": "code",
   "execution_count": 65,
   "id": "cd4eed2b",
   "metadata": {
    "execution": {
     "iopub.execute_input": "2024-01-05T07:47:05.873698Z",
     "iopub.status.busy": "2024-01-05T07:47:05.873390Z",
     "iopub.status.idle": "2024-01-05T07:47:05.896585Z",
     "shell.execute_reply": "2024-01-05T07:47:05.895502Z"
    },
    "id": "Hnbe4ArtoGPB",
    "papermill": {
     "duration": 0.072349,
     "end_time": "2024-01-05T07:47:05.898435",
     "exception": false,
     "start_time": "2024-01-05T07:47:05.826086",
     "status": "completed"
    },
    "tags": []
   },
   "outputs": [
    {
     "name": "stdout",
     "output_type": "stream",
     "text": [
      "/kaggle/input/train-csv/train.csv\n",
      "/kaggle/input/nlp-getting-started/sample_submission.csv\n",
      "/kaggle/input/nlp-getting-started/train.csv\n",
      "/kaggle/input/nlp-getting-started/test.csv\n",
      "/kaggle/input/bert/tensorflow2/bert-en-uncased-l-12-h-128-a-2/2/saved_model.pb\n",
      "/kaggle/input/bert/tensorflow2/bert-en-uncased-l-12-h-128-a-2/2/keras_metadata.pb\n",
      "/kaggle/input/bert/tensorflow2/bert-en-uncased-l-12-h-128-a-2/2/assets/vocab.txt\n",
      "/kaggle/input/bert/tensorflow2/bert-en-uncased-l-12-h-128-a-2/2/variables/variables.index\n",
      "/kaggle/input/bert/tensorflow2/bert-en-uncased-l-12-h-128-a-2/2/variables/variables.data-00000-of-00001\n",
      "/kaggle/input/bert/tensorflow2/en-cased-preprocess/3/saved_model.pb\n",
      "/kaggle/input/bert/tensorflow2/en-cased-preprocess/3/keras_metadata.pb\n",
      "/kaggle/input/bert/tensorflow2/en-cased-preprocess/3/assets/vocab.txt\n",
      "/kaggle/input/bert/tensorflow2/en-cased-preprocess/3/variables/variables.index\n",
      "/kaggle/input/bert/tensorflow2/en-cased-preprocess/3/variables/variables.data-00000-of-00001\n",
      "/kaggle/input/test-csv/test.csv\n",
      "/kaggle/input/sample-submission/sample_submission.csv\n"
     ]
    }
   ],
   "source": [
    "import os\n",
    "for dirname, _, filenames in os.walk('/kaggle/input'):\n",
    "    for filename in filenames:\n",
    "        print(os.path.join(dirname, filename))"
   ]
  },
  {
   "cell_type": "code",
   "execution_count": 66,
   "id": "90800d97",
   "metadata": {
    "execution": {
     "iopub.execute_input": "2024-01-05T07:47:05.979329Z",
     "iopub.status.busy": "2024-01-05T07:47:05.979018Z",
     "iopub.status.idle": "2024-01-05T07:47:08.481222Z",
     "shell.execute_reply": "2024-01-05T07:47:08.480350Z"
    },
    "papermill": {
     "duration": 2.545544,
     "end_time": "2024-01-05T07:47:08.483544",
     "exception": false,
     "start_time": "2024-01-05T07:47:05.938000",
     "status": "completed"
    },
    "tags": []
   },
   "outputs": [],
   "source": [
    "bert_preprocess_model = tf.saved_model.load('/kaggle/input/bert/tensorflow2/en-cased-preprocess/3')\n",
    "# text_test = ['this is such an amazing movie!']\n",
    "# text_preprocessed = bert_preprocess_model(text_test)\n",
    "#It is working fine till here"
   ]
  },
  {
   "cell_type": "code",
   "execution_count": 67,
   "id": "9b8eb7ef",
   "metadata": {
    "execution": {
     "iopub.execute_input": "2024-01-05T07:47:08.565633Z",
     "iopub.status.busy": "2024-01-05T07:47:08.565297Z",
     "iopub.status.idle": "2024-01-05T07:47:08.569193Z",
     "shell.execute_reply": "2024-01-05T07:47:08.568402Z"
    },
    "papermill": {
     "duration": 0.046612,
     "end_time": "2024-01-05T07:47:08.571150",
     "exception": false,
     "start_time": "2024-01-05T07:47:08.524538",
     "status": "completed"
    },
    "tags": []
   },
   "outputs": [],
   "source": [
    "# text_preprocessed"
   ]
  },
  {
   "cell_type": "markdown",
   "id": "c3ac2674",
   "metadata": {
    "papermill": {
     "duration": 0.039984,
     "end_time": "2024-01-05T07:47:08.650513",
     "exception": false,
     "start_time": "2024-01-05T07:47:08.610529",
     "status": "completed"
    },
    "tags": []
   },
   "source": [
    "Loading BERT!"
   ]
  },
  {
   "cell_type": "code",
   "execution_count": 68,
   "id": "2d289c9f",
   "metadata": {
    "execution": {
     "iopub.execute_input": "2024-01-05T07:47:08.732456Z",
     "iopub.status.busy": "2024-01-05T07:47:08.731796Z",
     "iopub.status.idle": "2024-01-05T07:47:19.894487Z",
     "shell.execute_reply": "2024-01-05T07:47:19.893697Z"
    },
    "papermill": {
     "duration": 11.206522,
     "end_time": "2024-01-05T07:47:19.896742",
     "exception": false,
     "start_time": "2024-01-05T07:47:08.690220",
     "status": "completed"
    },
    "tags": []
   },
   "outputs": [],
   "source": [
    "bert_model = tf.saved_model.load('/kaggle/input/bert/tensorflow2/bert-en-uncased-l-12-h-128-a-2/2')"
   ]
  },
  {
   "cell_type": "code",
   "execution_count": 69,
   "id": "632dc10f",
   "metadata": {
    "execution": {
     "iopub.execute_input": "2024-01-05T07:47:19.980745Z",
     "iopub.status.busy": "2024-01-05T07:47:19.980233Z",
     "iopub.status.idle": "2024-01-05T07:47:19.984133Z",
     "shell.execute_reply": "2024-01-05T07:47:19.983176Z"
    },
    "papermill": {
     "duration": 0.047631,
     "end_time": "2024-01-05T07:47:19.986108",
     "exception": false,
     "start_time": "2024-01-05T07:47:19.938477",
     "status": "completed"
    },
    "tags": []
   },
   "outputs": [],
   "source": [
    "# bert_results = bert_model(text_preprocessed)\n",
    "# bert_results\n",
    "#It is working fine till here"
   ]
  },
  {
   "cell_type": "code",
   "execution_count": 70,
   "id": "6af509ee",
   "metadata": {
    "execution": {
     "iopub.execute_input": "2024-01-05T07:47:20.065893Z",
     "iopub.status.busy": "2024-01-05T07:47:20.065619Z",
     "iopub.status.idle": "2024-01-05T07:47:20.071882Z",
     "shell.execute_reply": "2024-01-05T07:47:20.071058Z"
    },
    "papermill": {
     "duration": 0.048204,
     "end_time": "2024-01-05T07:47:20.073742",
     "exception": false,
     "start_time": "2024-01-05T07:47:20.025538",
     "status": "completed"
    },
    "tags": []
   },
   "outputs": [],
   "source": [
    "def build_classifier_model():\n",
    "    text_input=tf.keras.layers.Input(shape=(),dtype=tf.string,name='text')\n",
    "    preprocessing_layer=hub.KerasLayer(bert_preprocess_model,name='preprocessing')\n",
    "    encoder_inputs=preprocessing_layer(text_input)\n",
    "    encoder=hub.KerasLayer(bert_model,trainable=True,name='Bert_encoder')\n",
    "    outputs=encoder(encoder_inputs)\n",
    "    net=outputs['pooled_output']\n",
    "    net=tf.keras.layers.Dropout(0.1)(net)\n",
    "    net=tf.keras.layers.Dense(1,activation=None,name='classifier')(net)\n",
    "    return tf.keras.Model(text_input,net)\n",
    "    "
   ]
  },
  {
   "cell_type": "code",
   "execution_count": null,
   "id": "49de1b09",
   "metadata": {
    "papermill": {
     "duration": 0.039193,
     "end_time": "2024-01-05T07:47:20.152704",
     "exception": false,
     "start_time": "2024-01-05T07:47:20.113511",
     "status": "completed"
    },
    "tags": []
   },
   "outputs": [],
   "source": []
  },
  {
   "cell_type": "code",
   "execution_count": 71,
   "id": "f0642d0c",
   "metadata": {
    "execution": {
     "iopub.execute_input": "2024-01-05T07:47:20.232338Z",
     "iopub.status.busy": "2024-01-05T07:47:20.232083Z",
     "iopub.status.idle": "2024-01-05T07:47:21.435798Z",
     "shell.execute_reply": "2024-01-05T07:47:21.434811Z"
    },
    "papermill": {
     "duration": 1.246333,
     "end_time": "2024-01-05T07:47:21.438404",
     "exception": false,
     "start_time": "2024-01-05T07:47:20.192071",
     "status": "completed"
    },
    "tags": []
   },
   "outputs": [
    {
     "data": {
      "image/png": "[encoded data removed]",
      "text/plain": [
       "<IPython.core.display.Image object>"
      ]
     },
     "execution_count": 71,
     "metadata": {},
     "output_type": "execute_result"
    }
   ],
   "source": [
    "classifier_model = build_classifier_model()\n",
    "tf.keras.utils.plot_model(classifier_model)"
   ]
  },
  {
   "cell_type": "code",
   "execution_count": 72,
   "id": "c4fd8dc9",
   "metadata": {
    "execution": {
     "iopub.execute_input": "2024-01-05T07:47:21.539079Z",
     "iopub.status.busy": "2024-01-05T07:47:21.538412Z",
     "iopub.status.idle": "2024-01-05T07:47:21.556159Z",
     "shell.execute_reply": "2024-01-05T07:47:21.555449Z"
    },
    "papermill": {
     "duration": 0.065994,
     "end_time": "2024-01-05T07:47:21.558028",
     "exception": false,
     "start_time": "2024-01-05T07:47:21.492034",
     "status": "completed"
    },
    "tags": []
   },
   "outputs": [],
   "source": [
    "#compiling the Neural Network\n",
    "classifier_model.compile(optimizer='adam',\n",
    "               loss='binary_crossentropy',\n",
    "              metrics=['accuracy'])"
   ]
  },
  {
   "cell_type": "code",
   "execution_count": 73,
   "id": "f03893c3",
   "metadata": {
    "execution": {
     "iopub.execute_input": "2024-01-05T07:47:21.639440Z",
     "iopub.status.busy": "2024-01-05T07:47:21.639179Z",
     "iopub.status.idle": "2024-01-05T07:50:25.387099Z",
     "shell.execute_reply": "2024-01-05T07:50:25.386011Z"
    },
    "papermill": {
     "duration": 183.791216,
     "end_time": "2024-01-05T07:50:25.389210",
     "exception": false,
     "start_time": "2024-01-05T07:47:21.597994",
     "status": "completed"
    },
    "tags": []
   },
   "outputs": [
    {
     "name": "stdout",
     "output_type": "stream",
     "text": [
      "Epoch 1/5\n",
      "143/143 [==============================] - 83s 276ms/step - loss: 6.5422 - accuracy: 0.5759 - val_loss: 6.7554 - val_accuracy: 0.5620\n",
      "Epoch 2/5\n",
      "143/143 [==============================] - 28s 193ms/step - loss: 6.5422 - accuracy: 0.5759 - val_loss: 6.7554 - val_accuracy: 0.5620\n",
      "Epoch 3/5\n",
      "143/143 [==============================] - 25s 177ms/step - loss: 6.5422 - accuracy: 0.5759 - val_loss: 6.7554 - val_accuracy: 0.5620\n",
      "Epoch 4/5\n",
      "143/143 [==============================] - 24s 169ms/step - loss: 6.5422 - accuracy: 0.5759 - val_loss: 6.7554 - val_accuracy: 0.5620\n",
      "Epoch 5/5\n",
      "143/143 [==============================] - 24s 165ms/step - loss: 6.5422 - accuracy: 0.5759 - val_loss: 6.7554 - val_accuracy: 0.5620\n"
     ]
    }
   ],
   "source": [
    "history=classifier_model.fit(x,y,validation_split=0.4,epochs=5)"
   ]
  },
  {
   "cell_type": "markdown",
   "id": "b218ef95",
   "metadata": {
    "papermill": {
     "duration": 0.098123,
     "end_time": "2024-01-05T07:50:25.587767",
     "exception": false,
     "start_time": "2024-01-05T07:50:25.489644",
     "status": "completed"
    },
    "tags": []
   },
   "source": [
    "## **Using Tf-idf and then using Naive Bayes**"
   ]
  },
  {
   "cell_type": "code",
   "execution_count": 74,
   "id": "fd4ebbdc",
   "metadata": {
    "execution": {
     "iopub.execute_input": "2024-01-05T07:50:25.783972Z",
     "iopub.status.busy": "2024-01-05T07:50:25.783115Z",
     "iopub.status.idle": "2024-01-05T07:50:25.787298Z",
     "shell.execute_reply": "2024-01-05T07:50:25.786433Z"
    },
    "papermill": {
     "duration": 0.104064,
     "end_time": "2024-01-05T07:50:25.789194",
     "exception": false,
     "start_time": "2024-01-05T07:50:25.685130",
     "status": "completed"
    },
    "tags": []
   },
   "outputs": [],
   "source": [
    "# #Changing text data into number:\n",
    "# from sklearn.feature_extraction.text import TfidfVectorizer\n",
    "# tfidf=TfidfVectorizer()"
   ]
  },
  {
   "cell_type": "code",
   "execution_count": 75,
   "id": "7ea0cd4d",
   "metadata": {
    "execution": {
     "iopub.execute_input": "2024-01-05T07:50:25.984991Z",
     "iopub.status.busy": "2024-01-05T07:50:25.984665Z",
     "iopub.status.idle": "2024-01-05T07:50:25.991046Z",
     "shell.execute_reply": "2024-01-05T07:50:25.990072Z"
    },
    "papermill": {
     "duration": 0.106855,
     "end_time": "2024-01-05T07:50:25.993005",
     "exception": false,
     "start_time": "2024-01-05T07:50:25.886150",
     "status": "completed"
    },
    "tags": []
   },
   "outputs": [
    {
     "data": {
      "text/plain": [
       "'deed reason earthquake may allah forgive we'"
      ]
     },
     "execution_count": 75,
     "metadata": {},
     "output_type": "execute_result"
    }
   ],
   "source": [
    "df['preprocessed_text'][0]"
   ]
  },
  {
   "cell_type": "code",
   "execution_count": 76,
   "id": "0aed6f2d",
   "metadata": {
    "execution": {
     "iopub.execute_input": "2024-01-05T07:50:26.194162Z",
     "iopub.status.busy": "2024-01-05T07:50:26.193387Z",
     "iopub.status.idle": "2024-01-05T07:50:26.200126Z",
     "shell.execute_reply": "2024-01-05T07:50:26.199194Z"
    },
    "papermill": {
     "duration": 0.108826,
     "end_time": "2024-01-05T07:50:26.202221",
     "exception": false,
     "start_time": "2024-01-05T07:50:26.093395",
     "status": "completed"
    },
    "tags": []
   },
   "outputs": [
    {
     "data": {
      "text/plain": [
       "array([[0., 0., 0., ..., 0., 0., 0.],\n",
       "       [0., 0., 0., ..., 0., 0., 0.],\n",
       "       [0., 0., 0., ..., 0., 0., 0.],\n",
       "       ...,\n",
       "       [0., 0., 0., ..., 0., 0., 0.],\n",
       "       [0., 0., 0., ..., 0., 0., 0.],\n",
       "       [0., 0., 0., ..., 0., 0., 0.]])"
      ]
     },
     "execution_count": 76,
     "metadata": {},
     "output_type": "execute_result"
    }
   ],
   "source": [
    "X"
   ]
  },
  {
   "cell_type": "code",
   "execution_count": 77,
   "id": "31b84edf",
   "metadata": {
    "execution": {
     "iopub.execute_input": "2024-01-05T07:50:26.411752Z",
     "iopub.status.busy": "2024-01-05T07:50:26.410772Z",
     "iopub.status.idle": "2024-01-05T07:50:26.415031Z",
     "shell.execute_reply": "2024-01-05T07:50:26.414127Z"
    },
    "papermill": {
     "duration": 0.105766,
     "end_time": "2024-01-05T07:50:26.417023",
     "exception": false,
     "start_time": "2024-01-05T07:50:26.311257",
     "status": "completed"
    },
    "tags": []
   },
   "outputs": [],
   "source": [
    "# X=tfidf.fit_transform(df['preprocessed_text']).toarray()"
   ]
  },
  {
   "cell_type": "code",
   "execution_count": 78,
   "id": "8f4a9d36",
   "metadata": {
    "execution": {
     "iopub.execute_input": "2024-01-05T07:50:26.611939Z",
     "iopub.status.busy": "2024-01-05T07:50:26.611340Z",
     "iopub.status.idle": "2024-01-05T07:50:26.617461Z",
     "shell.execute_reply": "2024-01-05T07:50:26.616627Z"
    },
    "papermill": {
     "duration": 0.105728,
     "end_time": "2024-01-05T07:50:26.619467",
     "exception": false,
     "start_time": "2024-01-05T07:50:26.513739",
     "status": "completed"
    },
    "tags": []
   },
   "outputs": [
    {
     "data": {
      "text/plain": [
       "array([[0., 0., 0., ..., 0., 0., 0.],\n",
       "       [0., 0., 0., ..., 0., 0., 0.],\n",
       "       [0., 0., 0., ..., 0., 0., 0.],\n",
       "       ...,\n",
       "       [0., 0., 0., ..., 0., 0., 0.],\n",
       "       [0., 0., 0., ..., 0., 0., 0.],\n",
       "       [0., 0., 0., ..., 0., 0., 0.]])"
      ]
     },
     "execution_count": 78,
     "metadata": {},
     "output_type": "execute_result"
    }
   ],
   "source": [
    "X"
   ]
  },
  {
   "cell_type": "code",
   "execution_count": 79,
   "id": "0d519b33",
   "metadata": {
    "execution": {
     "iopub.execute_input": "2024-01-05T07:50:26.826429Z",
     "iopub.status.busy": "2024-01-05T07:50:26.825771Z",
     "iopub.status.idle": "2024-01-05T07:50:26.830124Z",
     "shell.execute_reply": "2024-01-05T07:50:26.829296Z"
    },
    "papermill": {
     "duration": 0.106293,
     "end_time": "2024-01-05T07:50:26.831896",
     "exception": false,
     "start_time": "2024-01-05T07:50:26.725603",
     "status": "completed"
    },
    "tags": []
   },
   "outputs": [],
   "source": [
    "Y=df['target'].values"
   ]
  },
  {
   "cell_type": "code",
   "execution_count": 80,
   "id": "b9fccbeb",
   "metadata": {
    "execution": {
     "iopub.execute_input": "2024-01-05T07:50:27.030347Z",
     "iopub.status.busy": "2024-01-05T07:50:27.029998Z",
     "iopub.status.idle": "2024-01-05T07:50:27.300920Z",
     "shell.execute_reply": "2024-01-05T07:50:27.299872Z"
    },
    "papermill": {
     "duration": 0.37528,
     "end_time": "2024-01-05T07:50:27.303354",
     "exception": false,
     "start_time": "2024-01-05T07:50:26.928074",
     "status": "completed"
    },
    "tags": []
   },
   "outputs": [],
   "source": [
    "from sklearn.model_selection import train_test_split\n",
    "X_train, X_test, Y_train, Y_test = train_test_split(X,Y, test_size=0.3,random_state=2458)"
   ]
  },
  {
   "cell_type": "code",
   "execution_count": 81,
   "id": "faa963cc",
   "metadata": {
    "execution": {
     "iopub.execute_input": "2024-01-05T07:50:27.554418Z",
     "iopub.status.busy": "2024-01-05T07:50:27.553526Z",
     "iopub.status.idle": "2024-01-05T07:50:27.561050Z",
     "shell.execute_reply": "2024-01-05T07:50:27.560112Z"
    },
    "papermill": {
     "duration": 0.114696,
     "end_time": "2024-01-05T07:50:27.563178",
     "exception": false,
     "start_time": "2024-01-05T07:50:27.448482",
     "status": "completed"
    },
    "tags": []
   },
   "outputs": [],
   "source": [
    "from sklearn.naive_bayes import MultinomialNB\n",
    "mnb=MultinomialNB()"
   ]
  },
  {
   "cell_type": "code",
   "execution_count": 82,
   "id": "fd37d2f9",
   "metadata": {
    "execution": {
     "iopub.execute_input": "2024-01-05T07:50:27.767875Z",
     "iopub.status.busy": "2024-01-05T07:50:27.767259Z",
     "iopub.status.idle": "2024-01-05T07:50:27.773290Z",
     "shell.execute_reply": "2024-01-05T07:50:27.772318Z"
    },
    "papermill": {
     "duration": 0.112736,
     "end_time": "2024-01-05T07:50:27.775399",
     "exception": false,
     "start_time": "2024-01-05T07:50:27.662663",
     "status": "completed"
    },
    "tags": []
   },
   "outputs": [
    {
     "data": {
      "text/plain": [
       "(5329, 8357)"
      ]
     },
     "execution_count": 82,
     "metadata": {},
     "output_type": "execute_result"
    }
   ],
   "source": [
    "X_train.shape"
   ]
  },
  {
   "cell_type": "code",
   "execution_count": 83,
   "id": "8cc73cd6",
   "metadata": {
    "execution": {
     "iopub.execute_input": "2024-01-05T07:50:27.998628Z",
     "iopub.status.busy": "2024-01-05T07:50:27.998199Z",
     "iopub.status.idle": "2024-01-05T07:50:28.109275Z",
     "shell.execute_reply": "2024-01-05T07:50:28.108045Z"
    },
    "papermill": {
     "duration": 0.227474,
     "end_time": "2024-01-05T07:50:28.112883",
     "exception": false,
     "start_time": "2024-01-05T07:50:27.885409",
     "status": "completed"
    },
    "tags": []
   },
   "outputs": [
    {
     "data": {
      "text/html": [
       "<style>#sk-container-id-1 {color: black;background-color: white;}#sk-container-id-1 pre{padding: 0;}#sk-container-id-1 div.sk-toggleable {background-color: white;}#sk-container-id-1 label.sk-toggleable__label {cursor: pointer;display: block;width: 100%;margin-bottom: 0;padding: 0.3em;box-sizing: border-box;text-align: center;}#sk-container-id-1 label.sk-toggleable__label-arrow:before {content: \"▸\";float: left;margin-right: 0.25em;color: #696969;}#sk-container-id-1 label.sk-toggleable__label-arrow:hover:before {color: black;}#sk-container-id-1 div.sk-estimator:hover label.sk-toggleable__label-arrow:before {color: black;}#sk-container-id-1 div.sk-toggleable__content {max-height: 0;max-width: 0;overflow: hidden;text-align: left;background-color: #f0f8ff;}#sk-container-id-1 div.sk-toggleable__content pre {margin: 0.2em;color: black;border-radius: 0.25em;background-color: #f0f8ff;}#sk-container-id-1 input.sk-toggleable__control:checked~div.sk-toggleable__content {max-height: 200px;max-width: 100%;overflow: auto;}#sk-container-id-1 input.sk-toggleable__control:checked~label.sk-toggleable__label-arrow:before {content: \"▾\";}#sk-container-id-1 div.sk-estimator input.sk-toggleable__control:checked~label.sk-toggleable__label {background-color: #d4ebff;}#sk-container-id-1 div.sk-label input.sk-toggleable__control:checked~label.sk-toggleable__label {background-color: #d4ebff;}#sk-container-id-1 input.sk-hidden--visually {border: 0;clip: rect(1px 1px 1px 1px);clip: rect(1px, 1px, 1px, 1px);height: 1px;margin: -1px;overflow: hidden;padding: 0;position: absolute;width: 1px;}#sk-container-id-1 div.sk-estimator {font-family: monospace;background-color: #f0f8ff;border: 1px dotted black;border-radius: 0.25em;box-sizing: border-box;margin-bottom: 0.5em;}#sk-container-id-1 div.sk-estimator:hover {background-color: #d4ebff;}#sk-container-id-1 div.sk-parallel-item::after {content: \"\";width: 100%;border-bottom: 1px solid gray;flex-grow: 1;}#sk-container-id-1 div.sk-label:hover label.sk-toggleable__label {background-color: #d4ebff;}#sk-container-id-1 div.sk-serial::before {content: \"\";position: absolute;border-left: 1px solid gray;box-sizing: border-box;top: 0;bottom: 0;left: 50%;z-index: 0;}#sk-container-id-1 div.sk-serial {display: flex;flex-direction: column;align-items: center;background-color: white;padding-right: 0.2em;padding-left: 0.2em;position: relative;}#sk-container-id-1 div.sk-item {position: relative;z-index: 1;}#sk-container-id-1 div.sk-parallel {display: flex;align-items: stretch;justify-content: center;background-color: white;position: relative;}#sk-container-id-1 div.sk-item::before, #sk-container-id-1 div.sk-parallel-item::before {content: \"\";position: absolute;border-left: 1px solid gray;box-sizing: border-box;top: 0;bottom: 0;left: 50%;z-index: -1;}#sk-container-id-1 div.sk-parallel-item {display: flex;flex-direction: column;z-index: 1;position: relative;background-color: white;}#sk-container-id-1 div.sk-parallel-item:first-child::after {align-self: flex-end;width: 50%;}#sk-container-id-1 div.sk-parallel-item:last-child::after {align-self: flex-start;width: 50%;}#sk-container-id-1 div.sk-parallel-item:only-child::after {width: 0;}#sk-container-id-1 div.sk-dashed-wrapped {border: 1px dashed gray;margin: 0 0.4em 0.5em 0.4em;box-sizing: border-box;padding-bottom: 0.4em;background-color: white;}#sk-container-id-1 div.sk-label label {font-family: monospace;font-weight: bold;display: inline-block;line-height: 1.2em;}#sk-container-id-1 div.sk-label-container {text-align: center;}#sk-container-id-1 div.sk-container {/* jupyter's `normalize.less` sets `[hidden] { display: none; }` but bootstrap.min.css set `[hidden] { display: none !important; }` so we also need the `!important` here to be able to override the default hidden behavior on the sphinx rendered scikit-learn.org. See: https://github.com/scikit-learn/scikit-learn/issues/21755 */display: inline-block !important;position: relative;}#sk-container-id-1 div.sk-text-repr-fallback {display: none;}</style><div id=\"sk-container-id-1\" class=\"sk-top-container\"><div class=\"sk-text-repr-fallback\"><pre>MultinomialNB()</pre><b>In a Jupyter environment, please rerun this cell to show the HTML representation or trust the notebook. <br />On GitHub, the HTML representation is unable to render, please try loading this page with nbviewer.org.</b></div><div class=\"sk-container\" hidden><div class=\"sk-item\"><div class=\"sk-estimator sk-toggleable\"><input class=\"sk-toggleable__control sk-hidden--visually\" id=\"sk-estimator-id-1\" type=\"checkbox\" checked><label for=\"sk-estimator-id-1\" class=\"sk-toggleable__label sk-toggleable__label-arrow\">MultinomialNB</label><div class=\"sk-toggleable__content\"><pre>MultinomialNB()</pre></div></div></div></div></div>"
      ],
      "text/plain": [
       "MultinomialNB()"
      ]
     },
     "execution_count": 83,
     "metadata": {},
     "output_type": "execute_result"
    }
   ],
   "source": [
    "mnb.fit(X_train,Y_train)"
   ]
  },
  {
   "cell_type": "code",
   "execution_count": 84,
   "id": "951de592",
   "metadata": {
    "execution": {
     "iopub.execute_input": "2024-01-05T07:50:28.384262Z",
     "iopub.status.busy": "2024-01-05T07:50:28.383930Z",
     "iopub.status.idle": "2024-01-05T07:50:28.418212Z",
     "shell.execute_reply": "2024-01-05T07:50:28.416630Z"
    },
    "papermill": {
     "duration": 0.139044,
     "end_time": "2024-01-05T07:50:28.422213",
     "exception": false,
     "start_time": "2024-01-05T07:50:28.283169",
     "status": "completed"
    },
    "tags": []
   },
   "outputs": [],
   "source": [
    "Y_pred=mnb.predict(X_test)"
   ]
  },
  {
   "cell_type": "code",
   "execution_count": 85,
   "id": "573f95f6",
   "metadata": {
    "execution": {
     "iopub.execute_input": "2024-01-05T07:50:28.711348Z",
     "iopub.status.busy": "2024-01-05T07:50:28.710872Z",
     "iopub.status.idle": "2024-01-05T07:50:28.719935Z",
     "shell.execute_reply": "2024-01-05T07:50:28.718931Z"
    },
    "papermill": {
     "duration": 0.130882,
     "end_time": "2024-01-05T07:50:28.722019",
     "exception": false,
     "start_time": "2024-01-05T07:50:28.591137",
     "status": "completed"
    },
    "tags": []
   },
   "outputs": [
    {
     "data": {
      "text/plain": [
       "0.8143607705779334"
      ]
     },
     "execution_count": 85,
     "metadata": {},
     "output_type": "execute_result"
    }
   ],
   "source": [
    "from sklearn.metrics import accuracy_score\n",
    "accuracy_score(Y_test,Y_pred)"
   ]
  },
  {
   "cell_type": "code",
   "execution_count": 86,
   "id": "f9071b92",
   "metadata": {
    "execution": {
     "iopub.execute_input": "2024-01-05T07:50:28.934810Z",
     "iopub.status.busy": "2024-01-05T07:50:28.933820Z",
     "iopub.status.idle": "2024-01-05T07:50:28.970529Z",
     "shell.execute_reply": "2024-01-05T07:50:28.969549Z"
    },
    "papermill": {
     "duration": 0.1489,
     "end_time": "2024-01-05T07:50:28.973239",
     "exception": false,
     "start_time": "2024-01-05T07:50:28.824339",
     "status": "completed"
    },
    "tags": []
   },
   "outputs": [
    {
     "data": {
      "text/html": [
       "<div>\n",
       "<style scoped>\n",
       "    .dataframe tbody tr th:only-of-type {\n",
       "        vertical-align: middle;\n",
       "    }\n",
       "\n",
       "    .dataframe tbody tr th {\n",
       "        vertical-align: top;\n",
       "    }\n",
       "\n",
       "    .dataframe thead th {\n",
       "        text-align: right;\n",
       "    }\n",
       "</style>\n",
       "<table border=\"1\" class=\"dataframe\">\n",
       "  <thead>\n",
       "    <tr style=\"text-align: right;\">\n",
       "      <th></th>\n",
       "      <th>id</th>\n",
       "      <th>keyword</th>\n",
       "      <th>location</th>\n",
       "      <th>text</th>\n",
       "    </tr>\n",
       "  </thead>\n",
       "  <tbody>\n",
       "    <tr>\n",
       "      <th>0</th>\n",
       "      <td>0</td>\n",
       "      <td>NaN</td>\n",
       "      <td>NaN</td>\n",
       "      <td>Just happened a terrible car crash</td>\n",
       "    </tr>\n",
       "    <tr>\n",
       "      <th>1</th>\n",
       "      <td>2</td>\n",
       "      <td>NaN</td>\n",
       "      <td>NaN</td>\n",
       "      <td>Heard about #earthquake is different cities, s...</td>\n",
       "    </tr>\n",
       "    <tr>\n",
       "      <th>2</th>\n",
       "      <td>3</td>\n",
       "      <td>NaN</td>\n",
       "      <td>NaN</td>\n",
       "      <td>there is a forest fire at spot pond, geese are...</td>\n",
       "    </tr>\n",
       "    <tr>\n",
       "      <th>3</th>\n",
       "      <td>9</td>\n",
       "      <td>NaN</td>\n",
       "      <td>NaN</td>\n",
       "      <td>Apocalypse lighting. #Spokane #wildfires</td>\n",
       "    </tr>\n",
       "    <tr>\n",
       "      <th>4</th>\n",
       "      <td>11</td>\n",
       "      <td>NaN</td>\n",
       "      <td>NaN</td>\n",
       "      <td>Typhoon Soudelor kills 28 in China and Taiwan</td>\n",
       "    </tr>\n",
       "  </tbody>\n",
       "</table>\n",
       "</div>"
      ],
      "text/plain": [
       "   id keyword location                                               text\n",
       "0   0     NaN      NaN                 Just happened a terrible car crash\n",
       "1   2     NaN      NaN  Heard about #earthquake is different cities, s...\n",
       "2   3     NaN      NaN  there is a forest fire at spot pond, geese are...\n",
       "3   9     NaN      NaN           Apocalypse lighting. #Spokane #wildfires\n",
       "4  11     NaN      NaN      Typhoon Soudelor kills 28 in China and Taiwan"
      ]
     },
     "execution_count": 86,
     "metadata": {},
     "output_type": "execute_result"
    }
   ],
   "source": [
    "df2=pd.read_csv('/kaggle/input/test-csv/test.csv')\n",
    "df2.head()"
   ]
  },
  {
   "cell_type": "code",
   "execution_count": 87,
   "id": "6905ff59",
   "metadata": {
    "execution": {
     "iopub.execute_input": "2024-01-05T07:50:29.201466Z",
     "iopub.status.busy": "2024-01-05T07:50:29.200325Z",
     "iopub.status.idle": "2024-01-05T07:50:29.207078Z",
     "shell.execute_reply": "2024-01-05T07:50:29.206133Z"
    },
    "papermill": {
     "duration": 0.111327,
     "end_time": "2024-01-05T07:50:29.209056",
     "exception": false,
     "start_time": "2024-01-05T07:50:29.097729",
     "status": "completed"
    },
    "tags": []
   },
   "outputs": [
    {
     "data": {
      "text/plain": [
       "(3263, 4)"
      ]
     },
     "execution_count": 87,
     "metadata": {},
     "output_type": "execute_result"
    }
   ],
   "source": [
    "df2.shape"
   ]
  },
  {
   "cell_type": "code",
   "execution_count": 88,
   "id": "870f8f77",
   "metadata": {
    "execution": {
     "iopub.execute_input": "2024-01-05T07:50:29.408688Z",
     "iopub.status.busy": "2024-01-05T07:50:29.408335Z",
     "iopub.status.idle": "2024-01-05T07:50:59.632956Z",
     "shell.execute_reply": "2024-01-05T07:50:59.632096Z"
    },
    "papermill": {
     "duration": 30.325374,
     "end_time": "2024-01-05T07:50:59.635170",
     "exception": false,
     "start_time": "2024-01-05T07:50:29.309796",
     "status": "completed"
    },
    "tags": []
   },
   "outputs": [],
   "source": [
    "test_modify(df2) #our custom made function."
   ]
  },
  {
   "cell_type": "code",
   "execution_count": 89,
   "id": "c98069d8",
   "metadata": {
    "execution": {
     "iopub.execute_input": "2024-01-05T07:50:59.834101Z",
     "iopub.status.busy": "2024-01-05T07:50:59.833326Z",
     "iopub.status.idle": "2024-01-05T07:50:59.844451Z",
     "shell.execute_reply": "2024-01-05T07:50:59.843592Z"
    },
    "papermill": {
     "duration": 0.111526,
     "end_time": "2024-01-05T07:50:59.846554",
     "exception": false,
     "start_time": "2024-01-05T07:50:59.735028",
     "status": "completed"
    },
    "tags": []
   },
   "outputs": [
    {
     "data": {
      "text/html": [
       "<div>\n",
       "<style scoped>\n",
       "    .dataframe tbody tr th:only-of-type {\n",
       "        vertical-align: middle;\n",
       "    }\n",
       "\n",
       "    .dataframe tbody tr th {\n",
       "        vertical-align: top;\n",
       "    }\n",
       "\n",
       "    .dataframe thead th {\n",
       "        text-align: right;\n",
       "    }\n",
       "</style>\n",
       "<table border=\"1\" class=\"dataframe\">\n",
       "  <thead>\n",
       "    <tr style=\"text-align: right;\">\n",
       "      <th></th>\n",
       "      <th>id</th>\n",
       "      <th>text</th>\n",
       "      <th>preprocessed_text</th>\n",
       "    </tr>\n",
       "  </thead>\n",
       "  <tbody>\n",
       "    <tr>\n",
       "      <th>0</th>\n",
       "      <td>0</td>\n",
       "      <td>Just happened a terrible car crash</td>\n",
       "      <td>[happen, terrible, car, crash]</td>\n",
       "    </tr>\n",
       "    <tr>\n",
       "      <th>1</th>\n",
       "      <td>1</td>\n",
       "      <td>Heard about #earthquake is different cities, s...</td>\n",
       "      <td>[hear, earthquake, different, city, stay, safe...</td>\n",
       "    </tr>\n",
       "    <tr>\n",
       "      <th>2</th>\n",
       "      <td>2</td>\n",
       "      <td>there is a forest fire at spot pond, geese are...</td>\n",
       "      <td>[forest, fire, spot, pond, geese, flee, across...</td>\n",
       "    </tr>\n",
       "    <tr>\n",
       "      <th>3</th>\n",
       "      <td>3</td>\n",
       "      <td>Apocalypse lighting. #Spokane #wildfires</td>\n",
       "      <td>[apocalypse, light, spokane, wildfire]</td>\n",
       "    </tr>\n",
       "    <tr>\n",
       "      <th>4</th>\n",
       "      <td>4</td>\n",
       "      <td>Typhoon Soudelor kills 28 in China and Taiwan</td>\n",
       "      <td>[typhoon, soudelor, kill, 28, china, taiwan]</td>\n",
       "    </tr>\n",
       "  </tbody>\n",
       "</table>\n",
       "</div>"
      ],
      "text/plain": [
       "   id                                               text  \\\n",
       "0   0                 Just happened a terrible car crash   \n",
       "1   1  Heard about #earthquake is different cities, s...   \n",
       "2   2  there is a forest fire at spot pond, geese are...   \n",
       "3   3           Apocalypse lighting. #Spokane #wildfires   \n",
       "4   4      Typhoon Soudelor kills 28 in China and Taiwan   \n",
       "\n",
       "                                   preprocessed_text  \n",
       "0                     [happen, terrible, car, crash]  \n",
       "1  [hear, earthquake, different, city, stay, safe...  \n",
       "2  [forest, fire, spot, pond, geese, flee, across...  \n",
       "3             [apocalypse, light, spokane, wildfire]  \n",
       "4       [typhoon, soudelor, kill, 28, china, taiwan]  "
      ]
     },
     "execution_count": 89,
     "metadata": {},
     "output_type": "execute_result"
    }
   ],
   "source": [
    "df2.head()"
   ]
  },
  {
   "cell_type": "code",
   "execution_count": 90,
   "id": "146b87a9",
   "metadata": {
    "execution": {
     "iopub.execute_input": "2024-01-05T07:51:00.087635Z",
     "iopub.status.busy": "2024-01-05T07:51:00.087224Z",
     "iopub.status.idle": "2024-01-05T07:51:00.093345Z",
     "shell.execute_reply": "2024-01-05T07:51:00.092462Z"
    },
    "papermill": {
     "duration": 0.120329,
     "end_time": "2024-01-05T07:51:00.095707",
     "exception": false,
     "start_time": "2024-01-05T07:50:59.975378",
     "status": "completed"
    },
    "tags": []
   },
   "outputs": [
    {
     "data": {
      "text/plain": [
       "(3263, 3)"
      ]
     },
     "execution_count": 90,
     "metadata": {},
     "output_type": "execute_result"
    }
   ],
   "source": [
    "df2.shape"
   ]
  },
  {
   "cell_type": "code",
   "execution_count": 91,
   "id": "34ffefb8",
   "metadata": {
    "execution": {
     "iopub.execute_input": "2024-01-05T07:51:00.344454Z",
     "iopub.status.busy": "2024-01-05T07:51:00.344026Z",
     "iopub.status.idle": "2024-01-05T07:51:00.350265Z",
     "shell.execute_reply": "2024-01-05T07:51:00.349090Z"
    },
    "papermill": {
     "duration": 0.139326,
     "end_time": "2024-01-05T07:51:00.352643",
     "exception": false,
     "start_time": "2024-01-05T07:51:00.213317",
     "status": "completed"
    },
    "tags": []
   },
   "outputs": [],
   "source": [
    "#  X_test=df.drop(columns=['text','target','id'])\n",
    "x_test=df2.drop(columns=['text','id'])"
   ]
  },
  {
   "cell_type": "code",
   "execution_count": 92,
   "id": "8bf9e794",
   "metadata": {
    "execution": {
     "iopub.execute_input": "2024-01-05T07:51:00.558624Z",
     "iopub.status.busy": "2024-01-05T07:51:00.558297Z",
     "iopub.status.idle": "2024-01-05T07:51:00.564422Z",
     "shell.execute_reply": "2024-01-05T07:51:00.563378Z"
    },
    "papermill": {
     "duration": 0.109233,
     "end_time": "2024-01-05T07:51:00.566466",
     "exception": false,
     "start_time": "2024-01-05T07:51:00.457233",
     "status": "completed"
    },
    "tags": []
   },
   "outputs": [
    {
     "data": {
      "text/plain": [
       "(3263, 1)"
      ]
     },
     "execution_count": 92,
     "metadata": {},
     "output_type": "execute_result"
    }
   ],
   "source": [
    "x_test.shape"
   ]
  },
  {
   "cell_type": "code",
   "execution_count": 93,
   "id": "454fa800",
   "metadata": {
    "execution": {
     "iopub.execute_input": "2024-01-05T07:51:00.769894Z",
     "iopub.status.busy": "2024-01-05T07:51:00.769485Z",
     "iopub.status.idle": "2024-01-05T07:51:00.773875Z",
     "shell.execute_reply": "2024-01-05T07:51:00.773006Z"
    },
    "papermill": {
     "duration": 0.10802,
     "end_time": "2024-01-05T07:51:00.776131",
     "exception": false,
     "start_time": "2024-01-05T07:51:00.668111",
     "status": "completed"
    },
    "tags": []
   },
   "outputs": [],
   "source": [
    "# x_test=x_test['preprocessed_text']"
   ]
  },
  {
   "cell_type": "code",
   "execution_count": 94,
   "id": "a2f4e97e",
   "metadata": {
    "execution": {
     "iopub.execute_input": "2024-01-05T07:51:00.990815Z",
     "iopub.status.busy": "2024-01-05T07:51:00.990458Z",
     "iopub.status.idle": "2024-01-05T07:51:00.998238Z",
     "shell.execute_reply": "2024-01-05T07:51:00.997407Z"
    },
    "papermill": {
     "duration": 0.122703,
     "end_time": "2024-01-05T07:51:01.000027",
     "exception": false,
     "start_time": "2024-01-05T07:51:00.877324",
     "status": "completed"
    },
    "tags": []
   },
   "outputs": [],
   "source": [
    "df2['preprocessed_text']=df2['preprocessed_text'].apply(lambda x:' '.join(x))"
   ]
  },
  {
   "cell_type": "code",
   "execution_count": 95,
   "id": "af70c291",
   "metadata": {
    "execution": {
     "iopub.execute_input": "2024-01-05T07:51:01.216755Z",
     "iopub.status.busy": "2024-01-05T07:51:01.215762Z",
     "iopub.status.idle": "2024-01-05T07:51:01.223661Z",
     "shell.execute_reply": "2024-01-05T07:51:01.222721Z"
    },
    "papermill": {
     "duration": 0.115766,
     "end_time": "2024-01-05T07:51:01.225545",
     "exception": false,
     "start_time": "2024-01-05T07:51:01.109779",
     "status": "completed"
    },
    "tags": []
   },
   "outputs": [
    {
     "data": {
      "text/plain": [
       "0                               happen terrible car crash\n",
       "1       hear earthquake different city stay safe everyone\n",
       "2       forest fire spot pond geese flee across street...\n",
       "3                       apocalypse light spokane wildfire\n",
       "4                   typhoon soudelor kill 28 china taiwan\n",
       "                              ...                        \n",
       "3258    earthquake safety los angeles safety fastener ...\n",
       "3259    storm ri worse last hurricane city amp 3others...\n",
       "3260                        green line derailment chicago\n",
       "3261              meg issue hazardous weather outlook hwo\n",
       "3262    cityofcalgary activate municipal emergency pla...\n",
       "Name: preprocessed_text, Length: 3263, dtype: object"
      ]
     },
     "execution_count": 95,
     "metadata": {},
     "output_type": "execute_result"
    }
   ],
   "source": [
    "df2['preprocessed_text']"
   ]
  },
  {
   "cell_type": "code",
   "execution_count": 96,
   "id": "06b11382",
   "metadata": {
    "execution": {
     "iopub.execute_input": "2024-01-05T07:51:01.429130Z",
     "iopub.status.busy": "2024-01-05T07:51:01.428282Z",
     "iopub.status.idle": "2024-01-05T07:51:01.614900Z",
     "shell.execute_reply": "2024-01-05T07:51:01.613861Z"
    },
    "papermill": {
     "duration": 0.289697,
     "end_time": "2024-01-05T07:51:01.617365",
     "exception": false,
     "start_time": "2024-01-05T07:51:01.327668",
     "status": "completed"
    },
    "tags": []
   },
   "outputs": [],
   "source": [
    "x_test=tfidf.fit_transform(df2['preprocessed_text']).toarray()"
   ]
  },
  {
   "cell_type": "code",
   "execution_count": 97,
   "id": "019a6eb8",
   "metadata": {
    "execution": {
     "iopub.execute_input": "2024-01-05T07:51:01.821226Z",
     "iopub.status.busy": "2024-01-05T07:51:01.820893Z",
     "iopub.status.idle": "2024-01-05T07:51:01.826724Z",
     "shell.execute_reply": "2024-01-05T07:51:01.825809Z"
    },
    "papermill": {
     "duration": 0.108871,
     "end_time": "2024-01-05T07:51:01.828538",
     "exception": false,
     "start_time": "2024-01-05T07:51:01.719667",
     "status": "completed"
    },
    "tags": []
   },
   "outputs": [
    {
     "data": {
      "text/plain": [
       "(3263, 8357)"
      ]
     },
     "execution_count": 97,
     "metadata": {},
     "output_type": "execute_result"
    }
   ],
   "source": [
    "x_test.shape"
   ]
  },
  {
   "cell_type": "code",
   "execution_count": 98,
   "id": "42306e4e",
   "metadata": {
    "execution": {
     "iopub.execute_input": "2024-01-05T07:51:02.030990Z",
     "iopub.status.busy": "2024-01-05T07:51:02.030242Z",
     "iopub.status.idle": "2024-01-05T07:51:02.034499Z",
     "shell.execute_reply": "2024-01-05T07:51:02.033478Z"
    },
    "papermill": {
     "duration": 0.108748,
     "end_time": "2024-01-05T07:51:02.036668",
     "exception": false,
     "start_time": "2024-01-05T07:51:01.927920",
     "status": "completed"
    },
    "tags": []
   },
   "outputs": [],
   "source": [
    "# Y_pred=mnb.predict(X_test)"
   ]
  },
  {
   "cell_type": "code",
   "execution_count": 99,
   "id": "03b30d6c",
   "metadata": {
    "execution": {
     "iopub.execute_input": "2024-01-05T07:51:02.245436Z",
     "iopub.status.busy": "2024-01-05T07:51:02.244936Z",
     "iopub.status.idle": "2024-01-05T07:51:02.249403Z",
     "shell.execute_reply": "2024-01-05T07:51:02.248476Z"
    },
    "papermill": {
     "duration": 0.111993,
     "end_time": "2024-01-05T07:51:02.251509",
     "exception": false,
     "start_time": "2024-01-05T07:51:02.139516",
     "status": "completed"
    },
    "tags": []
   },
   "outputs": [],
   "source": [
    "# from sklearn.metrics import accuracy_score\n",
    "# accuracy_score(Y_pred)"
   ]
  },
  {
   "cell_type": "code",
   "execution_count": 100,
   "id": "bb028c41",
   "metadata": {
    "execution": {
     "iopub.execute_input": "2024-01-05T07:51:02.451733Z",
     "iopub.status.busy": "2024-01-05T07:51:02.451065Z",
     "iopub.status.idle": "2024-01-05T07:51:02.466229Z",
     "shell.execute_reply": "2024-01-05T07:51:02.465325Z"
    },
    "papermill": {
     "duration": 0.116999,
     "end_time": "2024-01-05T07:51:02.468164",
     "exception": false,
     "start_time": "2024-01-05T07:51:02.351165",
     "status": "completed"
    },
    "tags": []
   },
   "outputs": [
    {
     "data": {
      "text/html": [
       "<div>\n",
       "<style scoped>\n",
       "    .dataframe tbody tr th:only-of-type {\n",
       "        vertical-align: middle;\n",
       "    }\n",
       "\n",
       "    .dataframe tbody tr th {\n",
       "        vertical-align: top;\n",
       "    }\n",
       "\n",
       "    .dataframe thead th {\n",
       "        text-align: right;\n",
       "    }\n",
       "</style>\n",
       "<table border=\"1\" class=\"dataframe\">\n",
       "  <thead>\n",
       "    <tr style=\"text-align: right;\">\n",
       "      <th></th>\n",
       "      <th>id</th>\n",
       "      <th>target</th>\n",
       "    </tr>\n",
       "  </thead>\n",
       "  <tbody>\n",
       "    <tr>\n",
       "      <th>0</th>\n",
       "      <td>0</td>\n",
       "      <td>0</td>\n",
       "    </tr>\n",
       "    <tr>\n",
       "      <th>1</th>\n",
       "      <td>2</td>\n",
       "      <td>0</td>\n",
       "    </tr>\n",
       "    <tr>\n",
       "      <th>2</th>\n",
       "      <td>3</td>\n",
       "      <td>0</td>\n",
       "    </tr>\n",
       "    <tr>\n",
       "      <th>3</th>\n",
       "      <td>9</td>\n",
       "      <td>0</td>\n",
       "    </tr>\n",
       "    <tr>\n",
       "      <th>4</th>\n",
       "      <td>11</td>\n",
       "      <td>0</td>\n",
       "    </tr>\n",
       "  </tbody>\n",
       "</table>\n",
       "</div>"
      ],
      "text/plain": [
       "   id  target\n",
       "0   0       0\n",
       "1   2       0\n",
       "2   3       0\n",
       "3   9       0\n",
       "4  11       0"
      ]
     },
     "execution_count": 100,
     "metadata": {},
     "output_type": "execute_result"
    }
   ],
   "source": [
    "sample_submission = pd.read_csv(\"/kaggle/input/sample-submission/sample_submission.csv\")\n",
    "sample_submission.head()"
   ]
  },
  {
   "cell_type": "code",
   "execution_count": 101,
   "id": "90fbc5df",
   "metadata": {
    "execution": {
     "iopub.execute_input": "2024-01-05T07:51:02.667690Z",
     "iopub.status.busy": "2024-01-05T07:51:02.667374Z",
     "iopub.status.idle": "2024-01-05T07:51:02.671975Z",
     "shell.execute_reply": "2024-01-05T07:51:02.671222Z"
    },
    "papermill": {
     "duration": 0.106478,
     "end_time": "2024-01-05T07:51:02.673887",
     "exception": false,
     "start_time": "2024-01-05T07:51:02.567409",
     "status": "completed"
    },
    "tags": []
   },
   "outputs": [],
   "source": [
    "sample_submission['id']=sample_submission.index"
   ]
  },
  {
   "cell_type": "code",
   "execution_count": 102,
   "id": "e270a347",
   "metadata": {
    "execution": {
     "iopub.execute_input": "2024-01-05T07:51:02.874407Z",
     "iopub.status.busy": "2024-01-05T07:51:02.873729Z",
     "iopub.status.idle": "2024-01-05T07:51:02.879467Z",
     "shell.execute_reply": "2024-01-05T07:51:02.878597Z"
    },
    "papermill": {
     "duration": 0.108191,
     "end_time": "2024-01-05T07:51:02.881373",
     "exception": false,
     "start_time": "2024-01-05T07:51:02.773182",
     "status": "completed"
    },
    "tags": []
   },
   "outputs": [
    {
     "data": {
      "text/plain": [
       "(3263, 2)"
      ]
     },
     "execution_count": 102,
     "metadata": {},
     "output_type": "execute_result"
    }
   ],
   "source": [
    "sample_submission.shape"
   ]
  },
  {
   "cell_type": "code",
   "execution_count": 103,
   "id": "caf8545a",
   "metadata": {
    "execution": {
     "iopub.execute_input": "2024-01-05T07:51:03.082323Z",
     "iopub.status.busy": "2024-01-05T07:51:03.081987Z",
     "iopub.status.idle": "2024-01-05T07:51:03.098106Z",
     "shell.execute_reply": "2024-01-05T07:51:03.097284Z"
    },
    "papermill": {
     "duration": 0.117733,
     "end_time": "2024-01-05T07:51:03.100165",
     "exception": false,
     "start_time": "2024-01-05T07:51:02.982432",
     "status": "completed"
    },
    "tags": []
   },
   "outputs": [
    {
     "data": {
      "text/plain": [
       "['ALLOW_THREADS',\n",
       " 'AxisError',\n",
       " 'BUFSIZE',\n",
       " 'CLIP',\n",
       " 'ComplexWarning',\n",
       " 'DataSource',\n",
       " 'ERR_CALL',\n",
       " 'ERR_DEFAULT',\n",
       " 'ERR_IGNORE',\n",
       " 'ERR_LOG',\n",
       " 'ERR_PRINT',\n",
       " 'ERR_RAISE',\n",
       " 'ERR_WARN',\n",
       " 'FLOATING_POINT_SUPPORT',\n",
       " 'FPE_DIVIDEBYZERO',\n",
       " 'FPE_INVALID',\n",
       " 'FPE_OVERFLOW',\n",
       " 'FPE_UNDERFLOW',\n",
       " 'False_',\n",
       " 'Inf',\n",
       " 'Infinity',\n",
       " 'MAXDIMS',\n",
       " 'MAY_SHARE_BOUNDS',\n",
       " 'MAY_SHARE_EXACT',\n",
       " 'ModuleDeprecationWarning',\n",
       " 'NAN',\n",
       " 'NINF',\n",
       " 'NZERO',\n",
       " 'NaN',\n",
       " 'PINF',\n",
       " 'PZERO',\n",
       " 'RAISE',\n",
       " 'RankWarning',\n",
       " 'SHIFT_DIVIDEBYZERO',\n",
       " 'SHIFT_INVALID',\n",
       " 'SHIFT_OVERFLOW',\n",
       " 'SHIFT_UNDERFLOW',\n",
       " 'ScalarType',\n",
       " 'Tester',\n",
       " 'TooHardError',\n",
       " 'True_',\n",
       " 'UFUNC_BUFSIZE_DEFAULT',\n",
       " 'UFUNC_PYVALS_NAME',\n",
       " 'VisibleDeprecationWarning',\n",
       " 'WRAP',\n",
       " '_CopyMode',\n",
       " '_NoValue',\n",
       " '_UFUNC_API',\n",
       " '__NUMPY_SETUP__',\n",
       " '__all__',\n",
       " '__builtins__',\n",
       " '__cached__',\n",
       " '__config__',\n",
       " '__deprecated_attrs__',\n",
       " '__dir__',\n",
       " '__doc__',\n",
       " '__expired_functions__',\n",
       " '__file__',\n",
       " '__former_attrs__',\n",
       " '__future_scalars__',\n",
       " '__getattr__',\n",
       " '__git_version__',\n",
       " '__loader__',\n",
       " '__name__',\n",
       " '__package__',\n",
       " '__path__',\n",
       " '__spec__',\n",
       " '__version__',\n",
       " '_add_newdoc_ufunc',\n",
       " '_builtins',\n",
       " '_distributor_init',\n",
       " '_financial_names',\n",
       " '_get_promotion_state',\n",
       " '_globals',\n",
       " '_int_extended_msg',\n",
       " '_mat',\n",
       " '_no_nep50_warning',\n",
       " '_pyinstaller_hooks_dir',\n",
       " '_pytesttester',\n",
       " '_set_promotion_state',\n",
       " '_specific_msg',\n",
       " '_typing',\n",
       " '_version',\n",
       " 'abs',\n",
       " 'absolute',\n",
       " 'add',\n",
       " 'add_docstring',\n",
       " 'add_newdoc',\n",
       " 'add_newdoc_ufunc',\n",
       " 'all',\n",
       " 'allclose',\n",
       " 'alltrue',\n",
       " 'amax',\n",
       " 'amin',\n",
       " 'angle',\n",
       " 'any',\n",
       " 'append',\n",
       " 'apply_along_axis',\n",
       " 'apply_over_axes',\n",
       " 'arange',\n",
       " 'arccos',\n",
       " 'arccosh',\n",
       " 'arcsin',\n",
       " 'arcsinh',\n",
       " 'arctan',\n",
       " 'arctan2',\n",
       " 'arctanh',\n",
       " 'argmax',\n",
       " 'argmin',\n",
       " 'argpartition',\n",
       " 'argsort',\n",
       " 'argwhere',\n",
       " 'around',\n",
       " 'array',\n",
       " 'array2string',\n",
       " 'array_equal',\n",
       " 'array_equiv',\n",
       " 'array_repr',\n",
       " 'array_split',\n",
       " 'array_str',\n",
       " 'asanyarray',\n",
       " 'asarray',\n",
       " 'asarray_chkfinite',\n",
       " 'ascontiguousarray',\n",
       " 'asfarray',\n",
       " 'asfortranarray',\n",
       " 'asmatrix',\n",
       " 'atleast_1d',\n",
       " 'atleast_2d',\n",
       " 'atleast_3d',\n",
       " 'average',\n",
       " 'bartlett',\n",
       " 'base_repr',\n",
       " 'binary_repr',\n",
       " 'bincount',\n",
       " 'bitwise_and',\n",
       " 'bitwise_not',\n",
       " 'bitwise_or',\n",
       " 'bitwise_xor',\n",
       " 'blackman',\n",
       " 'block',\n",
       " 'bmat',\n",
       " 'bool_',\n",
       " 'broadcast',\n",
       " 'broadcast_arrays',\n",
       " 'broadcast_shapes',\n",
       " 'broadcast_to',\n",
       " 'busday_count',\n",
       " 'busday_offset',\n",
       " 'busdaycalendar',\n",
       " 'byte',\n",
       " 'byte_bounds',\n",
       " 'bytes_',\n",
       " 'c_',\n",
       " 'can_cast',\n",
       " 'cast',\n",
       " 'cbrt',\n",
       " 'cdouble',\n",
       " 'ceil',\n",
       " 'cfloat',\n",
       " 'char',\n",
       " 'character',\n",
       " 'chararray',\n",
       " 'choose',\n",
       " 'clip',\n",
       " 'clongdouble',\n",
       " 'clongfloat',\n",
       " 'column_stack',\n",
       " 'common_type',\n",
       " 'compare_chararrays',\n",
       " 'compat',\n",
       " 'complex128',\n",
       " 'complex256',\n",
       " 'complex64',\n",
       " 'complex_',\n",
       " 'complexfloating',\n",
       " 'compress',\n",
       " 'concatenate',\n",
       " 'conj',\n",
       " 'conjugate',\n",
       " 'convolve',\n",
       " 'copy',\n",
       " 'copysign',\n",
       " 'copyto',\n",
       " 'corrcoef',\n",
       " 'correlate',\n",
       " 'cos',\n",
       " 'cosh',\n",
       " 'count_nonzero',\n",
       " 'cov',\n",
       " 'cross',\n",
       " 'csingle',\n",
       " 'ctypeslib',\n",
       " 'cumprod',\n",
       " 'cumproduct',\n",
       " 'cumsum',\n",
       " 'datetime64',\n",
       " 'datetime_as_string',\n",
       " 'datetime_data',\n",
       " 'deg2rad',\n",
       " 'degrees',\n",
       " 'delete',\n",
       " 'deprecate',\n",
       " 'deprecate_with_doc',\n",
       " 'diag',\n",
       " 'diag_indices',\n",
       " 'diag_indices_from',\n",
       " 'diagflat',\n",
       " 'diagonal',\n",
       " 'diff',\n",
       " 'digitize',\n",
       " 'disp',\n",
       " 'divide',\n",
       " 'divmod',\n",
       " 'dot',\n",
       " 'double',\n",
       " 'dsplit',\n",
       " 'dstack',\n",
       " 'dtype',\n",
       " 'e',\n",
       " 'ediff1d',\n",
       " 'einsum',\n",
       " 'einsum_path',\n",
       " 'emath',\n",
       " 'empty',\n",
       " 'empty_like',\n",
       " 'equal',\n",
       " 'errstate',\n",
       " 'euler_gamma',\n",
       " 'exp',\n",
       " 'exp2',\n",
       " 'expand_dims',\n",
       " 'expm1',\n",
       " 'expm1x',\n",
       " 'extract',\n",
       " 'eye',\n",
       " 'fabs',\n",
       " 'fastCopyAndTranspose',\n",
       " 'fft',\n",
       " 'fill_diagonal',\n",
       " 'find_common_type',\n",
       " 'finfo',\n",
       " 'fix',\n",
       " 'flatiter',\n",
       " 'flatnonzero',\n",
       " 'flexible',\n",
       " 'flip',\n",
       " 'fliplr',\n",
       " 'flipud',\n",
       " 'float128',\n",
       " 'float16',\n",
       " 'float32',\n",
       " 'float64',\n",
       " 'float_',\n",
       " 'float_power',\n",
       " 'floating',\n",
       " 'floor',\n",
       " 'floor_divide',\n",
       " 'fmax',\n",
       " 'fmin',\n",
       " 'fmod',\n",
       " 'format_float_positional',\n",
       " 'format_float_scientific',\n",
       " 'format_parser',\n",
       " 'frexp',\n",
       " 'from_dlpack',\n",
       " 'frombuffer',\n",
       " 'fromfile',\n",
       " 'fromfunction',\n",
       " 'fromiter',\n",
       " 'frompyfunc',\n",
       " 'fromregex',\n",
       " 'fromstring',\n",
       " 'full',\n",
       " 'full_like',\n",
       " 'gcd',\n",
       " 'generic',\n",
       " 'genfromtxt',\n",
       " 'geomspace',\n",
       " 'get_array_wrap',\n",
       " 'get_include',\n",
       " 'get_printoptions',\n",
       " 'getbufsize',\n",
       " 'geterr',\n",
       " 'geterrcall',\n",
       " 'geterrobj',\n",
       " 'gradient',\n",
       " 'greater',\n",
       " 'greater_equal',\n",
       " 'half',\n",
       " 'hamming',\n",
       " 'hanning',\n",
       " 'heaviside',\n",
       " 'histogram',\n",
       " 'histogram2d',\n",
       " 'histogram_bin_edges',\n",
       " 'histogramdd',\n",
       " 'hsplit',\n",
       " 'hstack',\n",
       " 'hypot',\n",
       " 'i0',\n",
       " 'identity',\n",
       " 'iinfo',\n",
       " 'imag',\n",
       " 'in1d',\n",
       " 'index_exp',\n",
       " 'indices',\n",
       " 'inexact',\n",
       " 'inf',\n",
       " 'info',\n",
       " 'infty',\n",
       " 'inner',\n",
       " 'insert',\n",
       " 'int16',\n",
       " 'int32',\n",
       " 'int64',\n",
       " 'int8',\n",
       " 'int_',\n",
       " 'intc',\n",
       " 'integer',\n",
       " 'interp',\n",
       " 'intersect1d',\n",
       " 'intp',\n",
       " 'invert',\n",
       " 'is_busday',\n",
       " 'isclose',\n",
       " 'iscomplex',\n",
       " 'iscomplexobj',\n",
       " 'isfinite',\n",
       " 'isfortran',\n",
       " 'isin',\n",
       " 'isinf',\n",
       " 'isnan',\n",
       " 'isnat',\n",
       " 'isneginf',\n",
       " 'isposinf',\n",
       " 'isreal',\n",
       " 'isrealobj',\n",
       " 'isscalar',\n",
       " 'issctype',\n",
       " 'issubclass_',\n",
       " 'issubdtype',\n",
       " 'issubsctype',\n",
       " 'iterable',\n",
       " 'ix_',\n",
       " 'kaiser',\n",
       " 'kernel_version',\n",
       " 'kron',\n",
       " 'lcm',\n",
       " 'ldexp',\n",
       " 'left_shift',\n",
       " 'less',\n",
       " 'less_equal',\n",
       " 'lexsort',\n",
       " 'lib',\n",
       " 'linalg',\n",
       " 'linspace',\n",
       " 'little_endian',\n",
       " 'load',\n",
       " 'loadtxt',\n",
       " 'log',\n",
       " 'log10',\n",
       " 'log1p',\n",
       " 'log2',\n",
       " 'logaddexp',\n",
       " 'logaddexp2',\n",
       " 'logical_and',\n",
       " 'logical_not',\n",
       " 'logical_or',\n",
       " 'logical_xor',\n",
       " 'logspace',\n",
       " 'longcomplex',\n",
       " 'longdouble',\n",
       " 'longfloat',\n",
       " 'longlong',\n",
       " 'lookfor',\n",
       " 'ma',\n",
       " 'mask_indices',\n",
       " 'mat',\n",
       " 'math',\n",
       " 'matmul',\n",
       " 'matrix',\n",
       " 'max',\n",
       " 'maximum',\n",
       " 'maximum_sctype',\n",
       " 'may_share_memory',\n",
       " 'mean',\n",
       " 'median',\n",
       " 'memmap',\n",
       " 'meshgrid',\n",
       " 'mgrid',\n",
       " 'min',\n",
       " 'min_scalar_type',\n",
       " 'minimum',\n",
       " 'mintypecode',\n",
       " 'mod',\n",
       " 'modf',\n",
       " 'moveaxis',\n",
       " 'msort',\n",
       " 'multiply',\n",
       " 'nan',\n",
       " 'nan_to_num',\n",
       " 'nanargmax',\n",
       " 'nanargmin',\n",
       " 'nancumprod',\n",
       " 'nancumsum',\n",
       " 'nanmax',\n",
       " 'nanmean',\n",
       " 'nanmedian',\n",
       " 'nanmin',\n",
       " 'nanpercentile',\n",
       " 'nanprod',\n",
       " 'nanquantile',\n",
       " 'nanstd',\n",
       " 'nansum',\n",
       " 'nanvar',\n",
       " 'nbytes',\n",
       " 'ndarray',\n",
       " 'ndenumerate',\n",
       " 'ndim',\n",
       " 'ndindex',\n",
       " 'nditer',\n",
       " 'negative',\n",
       " 'nested_iters',\n",
       " 'newaxis',\n",
       " 'nextafter',\n",
       " 'nonzero',\n",
       " 'not_equal',\n",
       " 'numarray',\n",
       " 'number',\n",
       " 'obj2sctype',\n",
       " 'object_',\n",
       " 'ogrid',\n",
       " 'oldnumeric',\n",
       " 'ones',\n",
       " 'ones_like',\n",
       " 'outer',\n",
       " 'packbits',\n",
       " 'pad',\n",
       " 'partition',\n",
       " 'percentile',\n",
       " 'pi',\n",
       " 'piecewise',\n",
       " 'place',\n",
       " 'poly',\n",
       " 'poly1d',\n",
       " 'polyadd',\n",
       " 'polyder',\n",
       " 'polydiv',\n",
       " 'polyfit',\n",
       " 'polyint',\n",
       " 'polymul',\n",
       " 'polynomial',\n",
       " 'polysub',\n",
       " 'polyval',\n",
       " 'positive',\n",
       " 'power',\n",
       " 'printoptions',\n",
       " 'prod',\n",
       " 'product',\n",
       " 'promote_types',\n",
       " 'ptp',\n",
       " 'put',\n",
       " 'put_along_axis',\n",
       " 'putmask',\n",
       " 'quantile',\n",
       " 'r_',\n",
       " 'rad2deg',\n",
       " 'radians',\n",
       " 'random',\n",
       " 'ravel',\n",
       " 'ravel_multi_index',\n",
       " 'real',\n",
       " 'real_if_close',\n",
       " 'rec',\n",
       " 'recarray',\n",
       " 'recfromcsv',\n",
       " 'recfromtxt',\n",
       " 'reciprocal',\n",
       " 'record',\n",
       " 'remainder',\n",
       " 'repeat',\n",
       " 'require',\n",
       " 'reshape',\n",
       " 'resize',\n",
       " 'result_type',\n",
       " 'right_shift',\n",
       " 'rint',\n",
       " 'roll',\n",
       " 'rollaxis',\n",
       " 'roots',\n",
       " 'rot90',\n",
       " 'round',\n",
       " 'round_',\n",
       " 'row_stack',\n",
       " 's_',\n",
       " 'safe_eval',\n",
       " 'save',\n",
       " 'savetxt',\n",
       " 'savez',\n",
       " 'savez_compressed',\n",
       " 'sctype2char',\n",
       " 'sctypeDict',\n",
       " 'sctypes',\n",
       " 'searchsorted',\n",
       " 'select',\n",
       " 'set_numeric_ops',\n",
       " 'set_printoptions',\n",
       " 'set_string_function',\n",
       " 'setbufsize',\n",
       " 'setdiff1d',\n",
       " 'seterr',\n",
       " 'seterrcall',\n",
       " 'seterrobj',\n",
       " 'setxor1d',\n",
       " 'shape',\n",
       " 'shares_memory',\n",
       " 'short',\n",
       " 'show_config',\n",
       " 'show_runtime',\n",
       " 'sign',\n",
       " 'signbit',\n",
       " 'signedinteger',\n",
       " 'sin',\n",
       " 'sinc',\n",
       " 'single',\n",
       " 'singlecomplex',\n",
       " 'sinh',\n",
       " 'size',\n",
       " 'sometrue',\n",
       " 'sort',\n",
       " 'sort_complex',\n",
       " 'source',\n",
       " 'spacing',\n",
       " 'split',\n",
       " 'sqrt',\n",
       " 'square',\n",
       " 'squeeze',\n",
       " 'stack',\n",
       " 'std',\n",
       " 'str_',\n",
       " 'string_',\n",
       " 'subtract',\n",
       " 'sum',\n",
       " 'swapaxes',\n",
       " 'take',\n",
       " 'take_along_axis',\n",
       " 'tan',\n",
       " 'tanh',\n",
       " 'tensordot',\n",
       " 'test',\n",
       " 'testing',\n",
       " 'tile',\n",
       " 'timedelta64',\n",
       " 'trace',\n",
       " 'tracemalloc_domain',\n",
       " 'transpose',\n",
       " 'trapz',\n",
       " 'tri',\n",
       " 'tril',\n",
       " 'tril_indices',\n",
       " 'tril_indices_from',\n",
       " 'trim_zeros',\n",
       " 'triu',\n",
       " 'triu_indices',\n",
       " 'triu_indices_from',\n",
       " 'true_divide',\n",
       " 'trunc',\n",
       " 'typecodes',\n",
       " 'typename',\n",
       " 'typing',\n",
       " 'ubyte',\n",
       " 'ufunc',\n",
       " 'uint',\n",
       " 'uint16',\n",
       " 'uint32',\n",
       " 'uint64',\n",
       " 'uint8',\n",
       " 'uintc',\n",
       " 'uintp',\n",
       " 'ulonglong',\n",
       " 'unicode_',\n",
       " 'union1d',\n",
       " 'unique',\n",
       " 'unpackbits',\n",
       " 'unravel_index',\n",
       " 'unsignedinteger',\n",
       " 'unwrap',\n",
       " 'use_hugepage',\n",
       " 'ushort',\n",
       " 'vander',\n",
       " 'var',\n",
       " 'vdot',\n",
       " 'vectorize',\n",
       " 'version',\n",
       " 'void',\n",
       " 'vsplit',\n",
       " 'vstack',\n",
       " 'where',\n",
       " 'who',\n",
       " 'zeros',\n",
       " 'zeros_like']"
      ]
     },
     "execution_count": 103,
     "metadata": {},
     "output_type": "execute_result"
    }
   ],
   "source": [
    "dir(np)"
   ]
  },
  {
   "cell_type": "code",
   "execution_count": 104,
   "id": "830993a2",
   "metadata": {
    "execution": {
     "iopub.execute_input": "2024-01-05T07:51:03.302280Z",
     "iopub.status.busy": "2024-01-05T07:51:03.301963Z",
     "iopub.status.idle": "2024-01-05T07:51:03.308771Z",
     "shell.execute_reply": "2024-01-05T07:51:03.307877Z"
    },
    "papermill": {
     "duration": 0.110914,
     "end_time": "2024-01-05T07:51:03.311397",
     "exception": false,
     "start_time": "2024-01-05T07:51:03.200483",
     "status": "completed"
    },
    "tags": []
   },
   "outputs": [
    {
     "data": {
      "text/plain": [
       "array([[0., 0., 0., ..., 0., 0., 0.],\n",
       "       [0., 0., 0., ..., 0., 0., 0.],\n",
       "       [0., 0., 0., ..., 0., 0., 0.],\n",
       "       ...,\n",
       "       [0., 0., 0., ..., 0., 0., 0.],\n",
       "       [0., 0., 0., ..., 0., 0., 0.],\n",
       "       [0., 0., 0., ..., 0., 0., 0.]])"
      ]
     },
     "execution_count": 104,
     "metadata": {},
     "output_type": "execute_result"
    }
   ],
   "source": [
    "x_test"
   ]
  },
  {
   "cell_type": "code",
   "execution_count": 105,
   "id": "f5d9a88f",
   "metadata": {
    "execution": {
     "iopub.execute_input": "2024-01-05T07:51:03.515003Z",
     "iopub.status.busy": "2024-01-05T07:51:03.514700Z",
     "iopub.status.idle": "2024-01-05T07:51:03.520206Z",
     "shell.execute_reply": "2024-01-05T07:51:03.519357Z"
    },
    "papermill": {
     "duration": 0.108867,
     "end_time": "2024-01-05T07:51:03.522142",
     "exception": false,
     "start_time": "2024-01-05T07:51:03.413275",
     "status": "completed"
    },
    "tags": []
   },
   "outputs": [
    {
     "data": {
      "text/plain": [
       "(3263, 8357)"
      ]
     },
     "execution_count": 105,
     "metadata": {},
     "output_type": "execute_result"
    }
   ],
   "source": [
    "x_test.shape"
   ]
  },
  {
   "cell_type": "code",
   "execution_count": 106,
   "id": "eade2aac",
   "metadata": {
    "execution": {
     "iopub.execute_input": "2024-01-05T07:51:03.763669Z",
     "iopub.status.busy": "2024-01-05T07:51:03.763290Z",
     "iopub.status.idle": "2024-01-05T07:51:03.768990Z",
     "shell.execute_reply": "2024-01-05T07:51:03.768144Z"
    },
    "papermill": {
     "duration": 0.149407,
     "end_time": "2024-01-05T07:51:03.770986",
     "exception": false,
     "start_time": "2024-01-05T07:51:03.621579",
     "status": "completed"
    },
    "tags": []
   },
   "outputs": [
    {
     "data": {
      "text/plain": [
       "(3263, 2)"
      ]
     },
     "execution_count": 106,
     "metadata": {},
     "output_type": "execute_result"
    }
   ],
   "source": [
    "sample_submission.shape"
   ]
  },
  {
   "cell_type": "code",
   "execution_count": null,
   "id": "85372cf0",
   "metadata": {
    "papermill": {
     "duration": 0.100612,
     "end_time": "2024-01-05T07:51:03.973038",
     "exception": false,
     "start_time": "2024-01-05T07:51:03.872426",
     "status": "completed"
    },
    "tags": []
   },
   "outputs": [],
   "source": []
  },
  {
   "cell_type": "code",
   "execution_count": 107,
   "id": "0fe04608",
   "metadata": {
    "execution": {
     "iopub.execute_input": "2024-01-05T07:51:04.174248Z",
     "iopub.status.busy": "2024-01-05T07:51:04.173593Z",
     "iopub.status.idle": "2024-01-05T07:51:04.247901Z",
     "shell.execute_reply": "2024-01-05T07:51:04.246326Z"
    },
    "papermill": {
     "duration": 0.178515,
     "end_time": "2024-01-05T07:51:04.251979",
     "exception": false,
     "start_time": "2024-01-05T07:51:04.073464",
     "status": "completed"
    },
    "tags": []
   },
   "outputs": [],
   "source": [
    "y_pred=mnb.predict(x_test)"
   ]
  },
  {
   "cell_type": "code",
   "execution_count": 108,
   "id": "0ef5b246",
   "metadata": {
    "execution": {
     "iopub.execute_input": "2024-01-05T07:51:04.527137Z",
     "iopub.status.busy": "2024-01-05T07:51:04.526350Z",
     "iopub.status.idle": "2024-01-05T07:51:04.531362Z",
     "shell.execute_reply": "2024-01-05T07:51:04.530442Z"
    },
    "papermill": {
     "duration": 0.107803,
     "end_time": "2024-01-05T07:51:04.533299",
     "exception": false,
     "start_time": "2024-01-05T07:51:04.425496",
     "status": "completed"
    },
    "tags": []
   },
   "outputs": [],
   "source": [
    "sample_submission[\"target\"] = y_pred"
   ]
  },
  {
   "cell_type": "code",
   "execution_count": 109,
   "id": "ddb50cf8",
   "metadata": {
    "execution": {
     "iopub.execute_input": "2024-01-05T07:51:04.735191Z",
     "iopub.status.busy": "2024-01-05T07:51:04.734834Z",
     "iopub.status.idle": "2024-01-05T07:51:04.746361Z",
     "shell.execute_reply": "2024-01-05T07:51:04.745396Z"
    },
    "papermill": {
     "duration": 0.114649,
     "end_time": "2024-01-05T07:51:04.748449",
     "exception": false,
     "start_time": "2024-01-05T07:51:04.633800",
     "status": "completed"
    },
    "tags": []
   },
   "outputs": [
    {
     "data": {
      "text/html": [
       "<div>\n",
       "<style scoped>\n",
       "    .dataframe tbody tr th:only-of-type {\n",
       "        vertical-align: middle;\n",
       "    }\n",
       "\n",
       "    .dataframe tbody tr th {\n",
       "        vertical-align: top;\n",
       "    }\n",
       "\n",
       "    .dataframe thead th {\n",
       "        text-align: right;\n",
       "    }\n",
       "</style>\n",
       "<table border=\"1\" class=\"dataframe\">\n",
       "  <thead>\n",
       "    <tr style=\"text-align: right;\">\n",
       "      <th></th>\n",
       "      <th>id</th>\n",
       "      <th>target</th>\n",
       "    </tr>\n",
       "  </thead>\n",
       "  <tbody>\n",
       "    <tr>\n",
       "      <th>0</th>\n",
       "      <td>0</td>\n",
       "      <td>0</td>\n",
       "    </tr>\n",
       "    <tr>\n",
       "      <th>1</th>\n",
       "      <td>1</td>\n",
       "      <td>0</td>\n",
       "    </tr>\n",
       "    <tr>\n",
       "      <th>2</th>\n",
       "      <td>2</td>\n",
       "      <td>0</td>\n",
       "    </tr>\n",
       "    <tr>\n",
       "      <th>3</th>\n",
       "      <td>3</td>\n",
       "      <td>0</td>\n",
       "    </tr>\n",
       "    <tr>\n",
       "      <th>4</th>\n",
       "      <td>4</td>\n",
       "      <td>1</td>\n",
       "    </tr>\n",
       "    <tr>\n",
       "      <th>...</th>\n",
       "      <td>...</td>\n",
       "      <td>...</td>\n",
       "    </tr>\n",
       "    <tr>\n",
       "      <th>3258</th>\n",
       "      <td>3258</td>\n",
       "      <td>1</td>\n",
       "    </tr>\n",
       "    <tr>\n",
       "      <th>3259</th>\n",
       "      <td>3259</td>\n",
       "      <td>1</td>\n",
       "    </tr>\n",
       "    <tr>\n",
       "      <th>3260</th>\n",
       "      <td>3260</td>\n",
       "      <td>1</td>\n",
       "    </tr>\n",
       "    <tr>\n",
       "      <th>3261</th>\n",
       "      <td>3261</td>\n",
       "      <td>0</td>\n",
       "    </tr>\n",
       "    <tr>\n",
       "      <th>3262</th>\n",
       "      <td>3262</td>\n",
       "      <td>0</td>\n",
       "    </tr>\n",
       "  </tbody>\n",
       "</table>\n",
       "<p>3263 rows × 2 columns</p>\n",
       "</div>"
      ],
      "text/plain": [
       "        id  target\n",
       "0        0       0\n",
       "1        1       0\n",
       "2        2       0\n",
       "3        3       0\n",
       "4        4       1\n",
       "...    ...     ...\n",
       "3258  3258       1\n",
       "3259  3259       1\n",
       "3260  3260       1\n",
       "3261  3261       0\n",
       "3262  3262       0\n",
       "\n",
       "[3263 rows x 2 columns]"
      ]
     },
     "execution_count": 109,
     "metadata": {},
     "output_type": "execute_result"
    }
   ],
   "source": [
    "sample_submission"
   ]
  },
  {
   "cell_type": "code",
   "execution_count": 110,
   "id": "bdab81b6",
   "metadata": {
    "execution": {
     "iopub.execute_input": "2024-01-05T07:51:04.952321Z",
     "iopub.status.busy": "2024-01-05T07:51:04.952035Z",
     "iopub.status.idle": "2024-01-05T07:51:04.964906Z",
     "shell.execute_reply": "2024-01-05T07:51:04.964236Z"
    },
    "papermill": {
     "duration": 0.119004,
     "end_time": "2024-01-05T07:51:04.966737",
     "exception": false,
     "start_time": "2024-01-05T07:51:04.847733",
     "status": "completed"
    },
    "tags": []
   },
   "outputs": [],
   "source": [
    "sample_submission.to_csv(\"submission.csv\", index=False)"
   ]
  },
  {
   "cell_type": "code",
   "execution_count": null,
   "id": "65a67f0f",
   "metadata": {
    "papermill": {
     "duration": 0.100742,
     "end_time": "2024-01-05T07:51:05.167752",
     "exception": false,
     "start_time": "2024-01-05T07:51:05.067010",
     "status": "completed"
    },
    "tags": []
   },
   "outputs": [],
   "source": []
  }
 ],
 "metadata": {
  "accelerator": "GPU",
  "colab": {
   "gpuType": "T4",
   "provenance": []
  },
  "kaggle": {
   "accelerator": "nvidiaTeslaT4",
   "dataSources": [
    {
     "databundleVersionId": 869809,
     "sourceId": 17777,
     "sourceType": "competition"
    },
    {
     "datasetId": 4261155,
     "sourceId": 7339379,
     "sourceType": "datasetVersion"
    },
    {
     "datasetId": 4262502,
     "sourceId": 7341408,
     "sourceType": "datasetVersion"
    },
    {
     "datasetId": 4262766,
     "sourceId": 7341771,
     "sourceType": "datasetVersion"
    },
    {
     "isSourceIdPinned": true,
     "modelInstanceId": 1844,
     "sourceId": 2529,
     "sourceType": "modelInstanceVersion"
    },
    {
     "isSourceIdPinned": true,
     "modelInstanceId": 1902,
     "sourceId": 2628,
     "sourceType": "modelInstanceVersion"
    }
   ],
   "dockerImageVersionId": 30627,
   "isGpuEnabled": true,
   "isInternetEnabled": true,
   "language": "python",
   "sourceType": "notebook"
  },
  "kernelspec": {
   "display_name": "Python 3",
   "language": "python",
   "name": "python3"
  },
  "language_info": {
   "codemirror_mode": {
    "name": "ipython",
    "version": 3
   },
   "file_extension": ".py",
   "mimetype": "text/x-python",
   "name": "python",
   "nbconvert_exporter": "python",
   "pygments_lexer": "ipython3",
   "version": "3.10.12"
  },
  "papermill": {
   "default_parameters": {},
   "duration": 364.03614,
   "end_time": "2024-01-05T07:51:08.365901",
   "environment_variables": {},
   "exception": null,
   "input_path": "__notebook__.ipynb",
   "output_path": "__notebook__.ipynb",
   "parameters": {},
   "start_time": "2024-01-05T07:45:04.329761",
   "version": "2.4.0"
  }
 },
 "nbformat": 4,
 "nbformat_minor": 5
}
